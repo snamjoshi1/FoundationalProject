{
 "cells": [
  {
   "cell_type": "code",
   "execution_count": null,
   "metadata": {},
   "outputs": [],
   "source": [
    "#### Random Forest ####"
   ]
  },
  {
   "cell_type": "code",
   "execution_count": 2,
   "metadata": {},
   "outputs": [],
   "source": [
    "import pandas as pd\n",
    "import numpy as np\n",
    "import matplotlib.pyplot as plt\n",
    "%matplotlib inline"
   ]
  },
  {
   "cell_type": "code",
   "execution_count": 3,
   "metadata": {},
   "outputs": [
    {
     "data": {
      "text/html": [
       "<div>\n",
       "<style scoped>\n",
       "    .dataframe tbody tr th:only-of-type {\n",
       "        vertical-align: middle;\n",
       "    }\n",
       "\n",
       "    .dataframe tbody tr th {\n",
       "        vertical-align: top;\n",
       "    }\n",
       "\n",
       "    .dataframe thead th {\n",
       "        text-align: right;\n",
       "    }\n",
       "</style>\n",
       "<table border=\"1\" class=\"dataframe\">\n",
       "  <thead>\n",
       "    <tr style=\"text-align: right;\">\n",
       "      <th></th>\n",
       "      <th>Date</th>\n",
       "      <th>Open</th>\n",
       "      <th>High</th>\n",
       "      <th>Low</th>\n",
       "      <th>Close</th>\n",
       "      <th>Adj Close</th>\n",
       "      <th>Volume</th>\n",
       "    </tr>\n",
       "  </thead>\n",
       "  <tbody>\n",
       "    <tr>\n",
       "      <th>0</th>\n",
       "      <td>2021-01-11</td>\n",
       "      <td>1938.800049</td>\n",
       "      <td>1938.800049</td>\n",
       "      <td>1892.500000</td>\n",
       "      <td>1897.250000</td>\n",
       "      <td>1891.166260</td>\n",
       "      <td>15371556</td>\n",
       "    </tr>\n",
       "    <tr>\n",
       "      <th>1</th>\n",
       "      <td>2021-01-12</td>\n",
       "      <td>1903.000000</td>\n",
       "      <td>1960.000000</td>\n",
       "      <td>1899.900024</td>\n",
       "      <td>1957.050049</td>\n",
       "      <td>1950.774536</td>\n",
       "      <td>18996047</td>\n",
       "    </tr>\n",
       "    <tr>\n",
       "      <th>2</th>\n",
       "      <td>2021-01-13</td>\n",
       "      <td>1963.550049</td>\n",
       "      <td>1974.949951</td>\n",
       "      <td>1918.449951</td>\n",
       "      <td>1938.800049</td>\n",
       "      <td>1932.583130</td>\n",
       "      <td>12284876</td>\n",
       "    </tr>\n",
       "    <tr>\n",
       "      <th>3</th>\n",
       "      <td>2021-01-14</td>\n",
       "      <td>1945.000000</td>\n",
       "      <td>1966.900024</td>\n",
       "      <td>1939.050049</td>\n",
       "      <td>1960.599976</td>\n",
       "      <td>1954.313110</td>\n",
       "      <td>9946818</td>\n",
       "    </tr>\n",
       "    <tr>\n",
       "      <th>4</th>\n",
       "      <td>2021-01-15</td>\n",
       "      <td>1960.599976</td>\n",
       "      <td>1973.800049</td>\n",
       "      <td>1920.050049</td>\n",
       "      <td>1937.449951</td>\n",
       "      <td>1931.237305</td>\n",
       "      <td>9503790</td>\n",
       "    </tr>\n",
       "  </tbody>\n",
       "</table>\n",
       "</div>"
      ],
      "text/plain": [
       "         Date         Open         High          Low        Close  \\\n",
       "0  2021-01-11  1938.800049  1938.800049  1892.500000  1897.250000   \n",
       "1  2021-01-12  1903.000000  1960.000000  1899.900024  1957.050049   \n",
       "2  2021-01-13  1963.550049  1974.949951  1918.449951  1938.800049   \n",
       "3  2021-01-14  1945.000000  1966.900024  1939.050049  1960.599976   \n",
       "4  2021-01-15  1960.599976  1973.800049  1920.050049  1937.449951   \n",
       "\n",
       "     Adj Close    Volume  \n",
       "0  1891.166260  15371556  \n",
       "1  1950.774536  18996047  \n",
       "2  1932.583130  12284876  \n",
       "3  1954.313110   9946818  \n",
       "4  1931.237305   9503790  "
      ]
     },
     "execution_count": 3,
     "metadata": {},
     "output_type": "execute_result"
    }
   ],
   "source": [
    "df = pd.read_csv(r'C:\\Users\\Vineet Jain\\Desktop\\Rel.csv')\n",
    "df.head()"
   ]
  },
  {
   "cell_type": "code",
   "execution_count": 5,
   "metadata": {},
   "outputs": [
    {
     "name": "stderr",
     "output_type": "stream",
     "text": [
      "C:\\Users\\VINEET~1\\AppData\\Local\\Temp/ipykernel_6900/308121390.py:2: SettingWithCopyWarning: \n",
      "A value is trying to be set on a copy of a slice from a DataFrame.\n",
      "Try using .loc[row_indexer,col_indexer] = value instead\n",
      "\n",
      "See the caveats in the documentation: https://pandas.pydata.org/pandas-docs/stable/user_guide/indexing.html#returning-a-view-versus-a-copy\n",
      "  df_1[\"Pct_change\"] = df[\"Adj Close\"].pct_change()\n"
     ]
    },
    {
     "data": {
      "text/html": [
       "<div>\n",
       "<style scoped>\n",
       "    .dataframe tbody tr th:only-of-type {\n",
       "        vertical-align: middle;\n",
       "    }\n",
       "\n",
       "    .dataframe tbody tr th {\n",
       "        vertical-align: top;\n",
       "    }\n",
       "\n",
       "    .dataframe thead th {\n",
       "        text-align: right;\n",
       "    }\n",
       "</style>\n",
       "<table border=\"1\" class=\"dataframe\">\n",
       "  <thead>\n",
       "    <tr style=\"text-align: right;\">\n",
       "      <th></th>\n",
       "      <th>Adj Close</th>\n",
       "      <th>Volume</th>\n",
       "      <th>Pct_change</th>\n",
       "    </tr>\n",
       "  </thead>\n",
       "  <tbody>\n",
       "    <tr>\n",
       "      <th>0</th>\n",
       "      <td>1891.166260</td>\n",
       "      <td>15371556</td>\n",
       "      <td>NaN</td>\n",
       "    </tr>\n",
       "    <tr>\n",
       "      <th>1</th>\n",
       "      <td>1950.774536</td>\n",
       "      <td>18996047</td>\n",
       "      <td>0.031519</td>\n",
       "    </tr>\n",
       "    <tr>\n",
       "      <th>2</th>\n",
       "      <td>1932.583130</td>\n",
       "      <td>12284876</td>\n",
       "      <td>-0.009325</td>\n",
       "    </tr>\n",
       "    <tr>\n",
       "      <th>3</th>\n",
       "      <td>1954.313110</td>\n",
       "      <td>9946818</td>\n",
       "      <td>0.011244</td>\n",
       "    </tr>\n",
       "    <tr>\n",
       "      <th>4</th>\n",
       "      <td>1931.237305</td>\n",
       "      <td>9503790</td>\n",
       "      <td>-0.011808</td>\n",
       "    </tr>\n",
       "  </tbody>\n",
       "</table>\n",
       "</div>"
      ],
      "text/plain": [
       "     Adj Close    Volume  Pct_change\n",
       "0  1891.166260  15371556         NaN\n",
       "1  1950.774536  18996047    0.031519\n",
       "2  1932.583130  12284876   -0.009325\n",
       "3  1954.313110   9946818    0.011244\n",
       "4  1931.237305   9503790   -0.011808"
      ]
     },
     "execution_count": 5,
     "metadata": {},
     "output_type": "execute_result"
    }
   ],
   "source": [
    "df_1 = df[[\"Adj Close\", \"Volume\"]]\n",
    "df_1[\"Pct_change\"] = df[\"Adj Close\"].pct_change()\n",
    "df_1.head()"
   ]
  },
  {
   "cell_type": "code",
   "execution_count": 6,
   "metadata": {},
   "outputs": [
    {
     "name": "stderr",
     "output_type": "stream",
     "text": [
      "C:\\Users\\Vineet Jain\\anaconda3\\lib\\site-packages\\pandas\\util\\_decorators.py:311: SettingWithCopyWarning: \n",
      "A value is trying to be set on a copy of a slice from a DataFrame\n",
      "\n",
      "See the caveats in the documentation: https://pandas.pydata.org/pandas-docs/stable/user_guide/indexing.html#returning-a-view-versus-a-copy\n",
      "  return func(*args, **kwargs)\n"
     ]
    },
    {
     "data": {
      "text/html": [
       "<div>\n",
       "<style scoped>\n",
       "    .dataframe tbody tr th:only-of-type {\n",
       "        vertical-align: middle;\n",
       "    }\n",
       "\n",
       "    .dataframe tbody tr th {\n",
       "        vertical-align: top;\n",
       "    }\n",
       "\n",
       "    .dataframe thead th {\n",
       "        text-align: right;\n",
       "    }\n",
       "</style>\n",
       "<table border=\"1\" class=\"dataframe\">\n",
       "  <thead>\n",
       "    <tr style=\"text-align: right;\">\n",
       "      <th></th>\n",
       "      <th>Adj Close</th>\n",
       "      <th>Volume</th>\n",
       "      <th>Pct_change</th>\n",
       "    </tr>\n",
       "  </thead>\n",
       "  <tbody>\n",
       "    <tr>\n",
       "      <th>1</th>\n",
       "      <td>1950.774536</td>\n",
       "      <td>18996047</td>\n",
       "      <td>0.031519</td>\n",
       "    </tr>\n",
       "    <tr>\n",
       "      <th>2</th>\n",
       "      <td>1932.583130</td>\n",
       "      <td>12284876</td>\n",
       "      <td>-0.009325</td>\n",
       "    </tr>\n",
       "    <tr>\n",
       "      <th>3</th>\n",
       "      <td>1954.313110</td>\n",
       "      <td>9946818</td>\n",
       "      <td>0.011244</td>\n",
       "    </tr>\n",
       "    <tr>\n",
       "      <th>4</th>\n",
       "      <td>1931.237305</td>\n",
       "      <td>9503790</td>\n",
       "      <td>-0.011808</td>\n",
       "    </tr>\n",
       "    <tr>\n",
       "      <th>5</th>\n",
       "      <td>1977.588257</td>\n",
       "      <td>16198856</td>\n",
       "      <td>0.024001</td>\n",
       "    </tr>\n",
       "  </tbody>\n",
       "</table>\n",
       "</div>"
      ],
      "text/plain": [
       "     Adj Close    Volume  Pct_change\n",
       "1  1950.774536  18996047    0.031519\n",
       "2  1932.583130  12284876   -0.009325\n",
       "3  1954.313110   9946818    0.011244\n",
       "4  1931.237305   9503790   -0.011808\n",
       "5  1977.588257  16198856    0.024001"
      ]
     },
     "execution_count": 6,
     "metadata": {},
     "output_type": "execute_result"
    }
   ],
   "source": [
    "# Drop null values\n",
    "df_1.dropna(inplace = True)\n",
    "df_1.head()"
   ]
  },
  {
   "cell_type": "code",
   "execution_count": 7,
   "metadata": {},
   "outputs": [
    {
     "data": {
      "text/plain": [
       "Adj Close     float64\n",
       "Volume          int64\n",
       "Pct_change    float64\n",
       "dtype: object"
      ]
     },
     "execution_count": 7,
     "metadata": {},
     "output_type": "execute_result"
    }
   ],
   "source": [
    "df_1.dtypes"
   ]
  },
  {
   "cell_type": "code",
   "execution_count": 8,
   "metadata": {},
   "outputs": [],
   "source": [
    "X = df_1.drop('Adj Close',axis=1)\n",
    "y = df_1['Adj Close']"
   ]
  },
  {
   "cell_type": "code",
   "execution_count": 18,
   "metadata": {},
   "outputs": [],
   "source": [
    "from sklearn.model_selection import train_test_split\n",
    "X_train, X_test, y_train, y_test = train_test_split(X, y, test_size=0.20, random_state=0)"
   ]
  },
  {
   "cell_type": "code",
   "execution_count": 19,
   "metadata": {},
   "outputs": [
    {
     "data": {
      "text/html": [
       "<div>\n",
       "<style scoped>\n",
       "    .dataframe tbody tr th:only-of-type {\n",
       "        vertical-align: middle;\n",
       "    }\n",
       "\n",
       "    .dataframe tbody tr th {\n",
       "        vertical-align: top;\n",
       "    }\n",
       "\n",
       "    .dataframe thead th {\n",
       "        text-align: right;\n",
       "    }\n",
       "</style>\n",
       "<table border=\"1\" class=\"dataframe\">\n",
       "  <thead>\n",
       "    <tr style=\"text-align: right;\">\n",
       "      <th></th>\n",
       "      <th>Volume</th>\n",
       "      <th>Pct_change</th>\n",
       "    </tr>\n",
       "  </thead>\n",
       "  <tbody>\n",
       "    <tr>\n",
       "      <th>111</th>\n",
       "      <td>42209687</td>\n",
       "      <td>-0.023511</td>\n",
       "    </tr>\n",
       "    <tr>\n",
       "      <th>16</th>\n",
       "      <td>13984228</td>\n",
       "      <td>0.002518</td>\n",
       "    </tr>\n",
       "    <tr>\n",
       "      <th>145</th>\n",
       "      <td>3755507</td>\n",
       "      <td>-0.003212</td>\n",
       "    </tr>\n",
       "    <tr>\n",
       "      <th>8</th>\n",
       "      <td>18038987</td>\n",
       "      <td>0.021755</td>\n",
       "    </tr>\n",
       "    <tr>\n",
       "      <th>206</th>\n",
       "      <td>4948422</td>\n",
       "      <td>0.001824</td>\n",
       "    </tr>\n",
       "  </tbody>\n",
       "</table>\n",
       "</div>"
      ],
      "text/plain": [
       "       Volume  Pct_change\n",
       "111  42209687   -0.023511\n",
       "16   13984228    0.002518\n",
       "145   3755507   -0.003212\n",
       "8    18038987    0.021755\n",
       "206   4948422    0.001824"
      ]
     },
     "execution_count": 19,
     "metadata": {},
     "output_type": "execute_result"
    }
   ],
   "source": [
    "X_train.head()"
   ]
  },
  {
   "cell_type": "code",
   "execution_count": 20,
   "metadata": {},
   "outputs": [],
   "source": [
    "#Random Forest\n",
    "from sklearn.ensemble import RandomForestRegressor"
   ]
  },
  {
   "cell_type": "code",
   "execution_count": 21,
   "metadata": {},
   "outputs": [],
   "source": [
    "rfc = RandomForestRegressor(n_estimators =200)"
   ]
  },
  {
   "cell_type": "code",
   "execution_count": 22,
   "metadata": {},
   "outputs": [
    {
     "data": {
      "text/plain": [
       "RandomForestRegressor(n_estimators=200)"
      ]
     },
     "execution_count": 22,
     "metadata": {},
     "output_type": "execute_result"
    }
   ],
   "source": [
    "rfc.fit(X_train,y_train)"
   ]
  },
  {
   "cell_type": "code",
   "execution_count": 23,
   "metadata": {},
   "outputs": [],
   "source": [
    "y_pred = rfc.predict(X_test)"
   ]
  },
  {
   "cell_type": "code",
   "execution_count": 24,
   "metadata": {},
   "outputs": [
    {
     "data": {
      "text/html": [
       "<div>\n",
       "<style scoped>\n",
       "    .dataframe tbody tr th:only-of-type {\n",
       "        vertical-align: middle;\n",
       "    }\n",
       "\n",
       "    .dataframe tbody tr th {\n",
       "        vertical-align: top;\n",
       "    }\n",
       "\n",
       "    .dataframe thead th {\n",
       "        text-align: right;\n",
       "    }\n",
       "</style>\n",
       "<table border=\"1\" class=\"dataframe\">\n",
       "  <thead>\n",
       "    <tr style=\"text-align: right;\">\n",
       "      <th></th>\n",
       "      <th>Actual</th>\n",
       "      <th>Predicted</th>\n",
       "    </tr>\n",
       "  </thead>\n",
       "  <tbody>\n",
       "    <tr>\n",
       "      <th>90</th>\n",
       "      <td>1963.732910</td>\n",
       "      <td>2401.761779</td>\n",
       "    </tr>\n",
       "    <tr>\n",
       "      <th>109</th>\n",
       "      <td>2225.750000</td>\n",
       "      <td>2068.715334</td>\n",
       "    </tr>\n",
       "    <tr>\n",
       "      <th>75</th>\n",
       "      <td>1910.454224</td>\n",
       "      <td>2103.436186</td>\n",
       "    </tr>\n",
       "    <tr>\n",
       "      <th>110</th>\n",
       "      <td>2205.350098</td>\n",
       "      <td>2125.527125</td>\n",
       "    </tr>\n",
       "    <tr>\n",
       "      <th>72</th>\n",
       "      <td>2017.559692</td>\n",
       "      <td>2183.342131</td>\n",
       "    </tr>\n",
       "    <tr>\n",
       "      <th>127</th>\n",
       "      <td>2112.399902</td>\n",
       "      <td>2410.634070</td>\n",
       "    </tr>\n",
       "    <tr>\n",
       "      <th>105</th>\n",
       "      <td>2211.600098</td>\n",
       "      <td>2332.390579</td>\n",
       "    </tr>\n",
       "    <tr>\n",
       "      <th>139</th>\n",
       "      <td>2103.750000</td>\n",
       "      <td>2301.667459</td>\n",
       "    </tr>\n",
       "    <tr>\n",
       "      <th>155</th>\n",
       "      <td>2227.399902</td>\n",
       "      <td>2308.671541</td>\n",
       "    </tr>\n",
       "    <tr>\n",
       "      <th>200</th>\n",
       "      <td>2500.800049</td>\n",
       "      <td>2344.569710</td>\n",
       "    </tr>\n",
       "    <tr>\n",
       "      <th>234</th>\n",
       "      <td>2366.100098</td>\n",
       "      <td>2238.143141</td>\n",
       "    </tr>\n",
       "    <tr>\n",
       "      <th>183</th>\n",
       "      <td>2572.399902</td>\n",
       "      <td>2538.242288</td>\n",
       "    </tr>\n",
       "    <tr>\n",
       "      <th>124</th>\n",
       "      <td>2099.699951</td>\n",
       "      <td>2471.298949</td>\n",
       "    </tr>\n",
       "    <tr>\n",
       "      <th>46</th>\n",
       "      <td>2002.657593</td>\n",
       "      <td>2132.741506</td>\n",
       "    </tr>\n",
       "    <tr>\n",
       "      <th>201</th>\n",
       "      <td>2483.600098</td>\n",
       "      <td>2088.074772</td>\n",
       "    </tr>\n",
       "    <tr>\n",
       "      <th>195</th>\n",
       "      <td>2661.050049</td>\n",
       "      <td>2369.572611</td>\n",
       "    </tr>\n",
       "    <tr>\n",
       "      <th>238</th>\n",
       "      <td>2398.399902</td>\n",
       "      <td>2392.564517</td>\n",
       "    </tr>\n",
       "    <tr>\n",
       "      <th>38</th>\n",
       "      <td>2171.713623</td>\n",
       "      <td>2106.513762</td>\n",
       "    </tr>\n",
       "    <tr>\n",
       "      <th>76</th>\n",
       "      <td>1913.942993</td>\n",
       "      <td>2272.473455</td>\n",
       "    </tr>\n",
       "    <tr>\n",
       "      <th>64</th>\n",
       "      <td>1925.904541</td>\n",
       "      <td>2300.235218</td>\n",
       "    </tr>\n",
       "    <tr>\n",
       "      <th>227</th>\n",
       "      <td>2409.649902</td>\n",
       "      <td>2212.241507</td>\n",
       "    </tr>\n",
       "    <tr>\n",
       "      <th>192</th>\n",
       "      <td>2622.500000</td>\n",
       "      <td>2108.286464</td>\n",
       "    </tr>\n",
       "    <tr>\n",
       "      <th>158</th>\n",
       "      <td>2267.100098</td>\n",
       "      <td>2383.910719</td>\n",
       "    </tr>\n",
       "    <tr>\n",
       "      <th>123</th>\n",
       "      <td>2084.100098</td>\n",
       "      <td>2532.191105</td>\n",
       "    </tr>\n",
       "    <tr>\n",
       "      <th>45</th>\n",
       "      <td>2048.759277</td>\n",
       "      <td>2226.870062</td>\n",
       "    </tr>\n",
       "    <tr>\n",
       "      <th>191</th>\n",
       "      <td>2700.399902</td>\n",
       "      <td>2052.811345</td>\n",
       "    </tr>\n",
       "    <tr>\n",
       "      <th>107</th>\n",
       "      <td>2225.649902</td>\n",
       "      <td>2094.934735</td>\n",
       "    </tr>\n",
       "    <tr>\n",
       "      <th>233</th>\n",
       "      <td>2311.250000</td>\n",
       "      <td>2224.556268</td>\n",
       "    </tr>\n",
       "    <tr>\n",
       "      <th>9</th>\n",
       "      <td>2043.027832</td>\n",
       "      <td>2205.400995</td>\n",
       "    </tr>\n",
       "    <tr>\n",
       "      <th>138</th>\n",
       "      <td>2087.750000</td>\n",
       "      <td>2193.225100</td>\n",
       "    </tr>\n",
       "    <tr>\n",
       "      <th>98</th>\n",
       "      <td>2220.257568</td>\n",
       "      <td>2297.155287</td>\n",
       "    </tr>\n",
       "    <tr>\n",
       "      <th>216</th>\n",
       "      <td>2412.600098</td>\n",
       "      <td>2365.451562</td>\n",
       "    </tr>\n",
       "    <tr>\n",
       "      <th>167</th>\n",
       "      <td>2378.300049</td>\n",
       "      <td>2387.642474</td>\n",
       "    </tr>\n",
       "    <tr>\n",
       "      <th>6</th>\n",
       "      <td>2009.934204</td>\n",
       "      <td>2176.570844</td>\n",
       "    </tr>\n",
       "    <tr>\n",
       "      <th>23</th>\n",
       "      <td>2035.053345</td>\n",
       "      <td>2082.850880</td>\n",
       "    </tr>\n",
       "    <tr>\n",
       "      <th>125</th>\n",
       "      <td>2086.000000</td>\n",
       "      <td>2118.079594</td>\n",
       "    </tr>\n",
       "    <tr>\n",
       "      <th>13</th>\n",
       "      <td>1836.043579</td>\n",
       "      <td>2120.406083</td>\n",
       "    </tr>\n",
       "    <tr>\n",
       "      <th>228</th>\n",
       "      <td>2380.149902</td>\n",
       "      <td>2050.489889</td>\n",
       "    </tr>\n",
       "    <tr>\n",
       "      <th>146</th>\n",
       "      <td>2145.649902</td>\n",
       "      <td>2363.861843</td>\n",
       "    </tr>\n",
       "    <tr>\n",
       "      <th>181</th>\n",
       "      <td>2609.199951</td>\n",
       "      <td>2374.577591</td>\n",
       "    </tr>\n",
       "    <tr>\n",
       "      <th>163</th>\n",
       "      <td>2431.350098</td>\n",
       "      <td>2123.387752</td>\n",
       "    </tr>\n",
       "    <tr>\n",
       "      <th>154</th>\n",
       "      <td>2230.449951</td>\n",
       "      <td>2195.189181</td>\n",
       "    </tr>\n",
       "    <tr>\n",
       "      <th>56</th>\n",
       "      <td>1986.210449</td>\n",
       "      <td>2181.008954</td>\n",
       "    </tr>\n",
       "    <tr>\n",
       "      <th>177</th>\n",
       "      <td>2527.850098</td>\n",
       "      <td>2183.600922</td>\n",
       "    </tr>\n",
       "    <tr>\n",
       "      <th>160</th>\n",
       "      <td>2388.500000</td>\n",
       "      <td>2142.653584</td>\n",
       "    </tr>\n",
       "    <tr>\n",
       "      <th>97</th>\n",
       "      <td>2183.475830</td>\n",
       "      <td>2188.484280</td>\n",
       "    </tr>\n",
       "    <tr>\n",
       "      <th>131</th>\n",
       "      <td>2105.699951</td>\n",
       "      <td>2288.497526</td>\n",
       "    </tr>\n",
       "    <tr>\n",
       "      <th>102</th>\n",
       "      <td>2213.149902</td>\n",
       "      <td>2292.749302</td>\n",
       "    </tr>\n",
       "    <tr>\n",
       "      <th>65</th>\n",
       "      <td>1895.601929</td>\n",
       "      <td>2181.414457</td>\n",
       "    </tr>\n",
       "    <tr>\n",
       "      <th>19</th>\n",
       "      <td>1945.192383</td>\n",
       "      <td>2133.571115</td>\n",
       "    </tr>\n",
       "  </tbody>\n",
       "</table>\n",
       "</div>"
      ],
      "text/plain": [
       "          Actual    Predicted\n",
       "90   1963.732910  2401.761779\n",
       "109  2225.750000  2068.715334\n",
       "75   1910.454224  2103.436186\n",
       "110  2205.350098  2125.527125\n",
       "72   2017.559692  2183.342131\n",
       "127  2112.399902  2410.634070\n",
       "105  2211.600098  2332.390579\n",
       "139  2103.750000  2301.667459\n",
       "155  2227.399902  2308.671541\n",
       "200  2500.800049  2344.569710\n",
       "234  2366.100098  2238.143141\n",
       "183  2572.399902  2538.242288\n",
       "124  2099.699951  2471.298949\n",
       "46   2002.657593  2132.741506\n",
       "201  2483.600098  2088.074772\n",
       "195  2661.050049  2369.572611\n",
       "238  2398.399902  2392.564517\n",
       "38   2171.713623  2106.513762\n",
       "76   1913.942993  2272.473455\n",
       "64   1925.904541  2300.235218\n",
       "227  2409.649902  2212.241507\n",
       "192  2622.500000  2108.286464\n",
       "158  2267.100098  2383.910719\n",
       "123  2084.100098  2532.191105\n",
       "45   2048.759277  2226.870062\n",
       "191  2700.399902  2052.811345\n",
       "107  2225.649902  2094.934735\n",
       "233  2311.250000  2224.556268\n",
       "9    2043.027832  2205.400995\n",
       "138  2087.750000  2193.225100\n",
       "98   2220.257568  2297.155287\n",
       "216  2412.600098  2365.451562\n",
       "167  2378.300049  2387.642474\n",
       "6    2009.934204  2176.570844\n",
       "23   2035.053345  2082.850880\n",
       "125  2086.000000  2118.079594\n",
       "13   1836.043579  2120.406083\n",
       "228  2380.149902  2050.489889\n",
       "146  2145.649902  2363.861843\n",
       "181  2609.199951  2374.577591\n",
       "163  2431.350098  2123.387752\n",
       "154  2230.449951  2195.189181\n",
       "56   1986.210449  2181.008954\n",
       "177  2527.850098  2183.600922\n",
       "160  2388.500000  2142.653584\n",
       "97   2183.475830  2188.484280\n",
       "131  2105.699951  2288.497526\n",
       "102  2213.149902  2292.749302\n",
       "65   1895.601929  2181.414457\n",
       "19   1945.192383  2133.571115"
      ]
     },
     "execution_count": 24,
     "metadata": {},
     "output_type": "execute_result"
    }
   ],
   "source": [
    "df_pred=pd.DataFrame({'Actual':y_test, 'Predicted':y_pred})\n",
    "df_pred"
   ]
  },
  {
   "cell_type": "code",
   "execution_count": 25,
   "metadata": {},
   "outputs": [
    {
     "name": "stdout",
     "output_type": "stream",
     "text": [
      "Mean Absolute Error: 198.9348971324998\n",
      "Mean Squared Error: 59613.676638771205\n",
      "Root Mean Squared Error: 244.15912155553642\n"
     ]
    }
   ],
   "source": [
    "from sklearn import metrics\n",
    "print('Mean Absolute Error:', metrics.mean_absolute_error(y_test, y_pred))\n",
    "print('Mean Squared Error:', metrics.mean_squared_error(y_test, y_pred))\n",
    "print('Root Mean Squared Error:', np.sqrt(metrics.mean_squared_error(y_test, y_pred)))"
   ]
  },
  {
   "cell_type": "code",
   "execution_count": 26,
   "metadata": {},
   "outputs": [
    {
     "name": "stdout",
     "output_type": "stream",
     "text": [
      "Mean Absolute Error: 198.93 degrees.\n",
      "Accuracy: 90.98 %.\n"
     ]
    }
   ],
   "source": [
    "# Calculate the absolute errors\n",
    "errors = abs(y_pred - y_test)\n",
    "# Print out the mean absolute error (mae)\n",
    "print('Mean Absolute Error:', round(np.mean(errors), 2), 'degrees.')\n",
    "\n",
    "# Calculate mean absolute percentage error (MAPE)\n",
    "mape = 100 * (errors / y_test)\n",
    "# Calculate and display accuracy\n",
    "accuracy = 100 - np.mean(mape)\n",
    "print('Accuracy:', round(accuracy, 2), '%.')"
   ]
  },
  {
   "cell_type": "code",
   "execution_count": 27,
   "metadata": {},
   "outputs": [
    {
     "name": "stderr",
     "output_type": "stream",
     "text": [
      "C:\\Users\\Vineet Jain\\anaconda3\\lib\\site-packages\\seaborn\\distributions.py:2619: FutureWarning: `distplot` is a deprecated function and will be removed in a future version. Please adapt your code to use either `displot` (a figure-level function with similar flexibility) or `kdeplot` (an axes-level function for kernel density plots).\n",
      "  warnings.warn(msg, FutureWarning)\n",
      "C:\\Users\\Vineet Jain\\anaconda3\\lib\\site-packages\\seaborn\\distributions.py:2619: FutureWarning: `distplot` is a deprecated function and will be removed in a future version. Please adapt your code to use either `displot` (a figure-level function with similar flexibility) or `kdeplot` (an axes-level function for kernel density plots).\n",
      "  warnings.warn(msg, FutureWarning)\n"
     ]
    },
    {
     "data": {
      "image/png": "[encoded data removed]",
      "text/plain": [
       "<Figure size 360x504 with 1 Axes>"
      ]
     },
     "metadata": {
      "needs_background": "light"
     },
     "output_type": "display_data"
    }
   ],
   "source": [
    "import seaborn as sns\n",
    "plt.figure(figsize=(5, 7))\n",
    "\n",
    "\n",
    "ax = sns.distplot(y, hist=False, color=\"r\", label=\"Actual Value\")\n",
    "sns.distplot(y_pred, hist=False, color=\"b\", label=\"Fitted Values\" , ax=ax)\n",
    "\n",
    "\n",
    "plt.title('Actual vs Fitted Values for Price')\n",
    "\n",
    "\n",
    "plt.show()\n",
    "plt.close()"
   ]
  },
  {
   "cell_type": "code",
   "execution_count": 29,
   "metadata": {},
   "outputs": [
    {
     "data": {
      "text/plain": [
       "array([2435.20849384])"
      ]
     },
     "execution_count": 29,
     "metadata": {},
     "output_type": "execute_result"
    }
   ],
   "source": [
    "rfc.predict([[2000,1000000]])"
   ]
  },
  {
   "cell_type": "code",
   "execution_count": 75,
   "metadata": {},
   "outputs": [],
   "source": [
    "#### SVM ####"
   ]
  },
  {
   "cell_type": "code",
   "execution_count": 76,
   "metadata": {},
   "outputs": [],
   "source": [
    "import pandas as pd\n",
    "import numpy as np\n",
    "import matplotlib.pyplot as plt\n",
    "%matplotlib inline"
   ]
  },
  {
   "cell_type": "code",
   "execution_count": 30,
   "metadata": {},
   "outputs": [],
   "source": [
    "df = pd.read_csv(r'C:\\Users\\Vineet Jain\\Desktop\\Rel.csv')\n"
   ]
  },
  {
   "cell_type": "code",
   "execution_count": 31,
   "metadata": {},
   "outputs": [
    {
     "name": "stderr",
     "output_type": "stream",
     "text": [
      "C:\\Users\\VINEET~1\\AppData\\Local\\Temp/ipykernel_6900/601306169.py:2: SettingWithCopyWarning: \n",
      "A value is trying to be set on a copy of a slice from a DataFrame.\n",
      "Try using .loc[row_indexer,col_indexer] = value instead\n",
      "\n",
      "See the caveats in the documentation: https://pandas.pydata.org/pandas-docs/stable/user_guide/indexing.html#returning-a-view-versus-a-copy\n",
      "  df_2[\"Pct_change\"] = df[\"Adj Close\"].pct_change()\n"
     ]
    },
    {
     "data": {
      "text/html": [
       "<div>\n",
       "<style scoped>\n",
       "    .dataframe tbody tr th:only-of-type {\n",
       "        vertical-align: middle;\n",
       "    }\n",
       "\n",
       "    .dataframe tbody tr th {\n",
       "        vertical-align: top;\n",
       "    }\n",
       "\n",
       "    .dataframe thead th {\n",
       "        text-align: right;\n",
       "    }\n",
       "</style>\n",
       "<table border=\"1\" class=\"dataframe\">\n",
       "  <thead>\n",
       "    <tr style=\"text-align: right;\">\n",
       "      <th></th>\n",
       "      <th>Adj Close</th>\n",
       "      <th>Volume</th>\n",
       "      <th>Pct_change</th>\n",
       "    </tr>\n",
       "  </thead>\n",
       "  <tbody>\n",
       "    <tr>\n",
       "      <th>0</th>\n",
       "      <td>1891.166260</td>\n",
       "      <td>15371556</td>\n",
       "      <td>NaN</td>\n",
       "    </tr>\n",
       "    <tr>\n",
       "      <th>1</th>\n",
       "      <td>1950.774536</td>\n",
       "      <td>18996047</td>\n",
       "      <td>0.031519</td>\n",
       "    </tr>\n",
       "    <tr>\n",
       "      <th>2</th>\n",
       "      <td>1932.583130</td>\n",
       "      <td>12284876</td>\n",
       "      <td>-0.009325</td>\n",
       "    </tr>\n",
       "    <tr>\n",
       "      <th>3</th>\n",
       "      <td>1954.313110</td>\n",
       "      <td>9946818</td>\n",
       "      <td>0.011244</td>\n",
       "    </tr>\n",
       "    <tr>\n",
       "      <th>4</th>\n",
       "      <td>1931.237305</td>\n",
       "      <td>9503790</td>\n",
       "      <td>-0.011808</td>\n",
       "    </tr>\n",
       "  </tbody>\n",
       "</table>\n",
       "</div>"
      ],
      "text/plain": [
       "     Adj Close    Volume  Pct_change\n",
       "0  1891.166260  15371556         NaN\n",
       "1  1950.774536  18996047    0.031519\n",
       "2  1932.583130  12284876   -0.009325\n",
       "3  1954.313110   9946818    0.011244\n",
       "4  1931.237305   9503790   -0.011808"
      ]
     },
     "execution_count": 31,
     "metadata": {},
     "output_type": "execute_result"
    }
   ],
   "source": [
    "df_2 = df[[\"Adj Close\", \"Volume\"]]\n",
    "df_2[\"Pct_change\"] = df[\"Adj Close\"].pct_change()\n",
    "df_2.head()"
   ]
  },
  {
   "cell_type": "code",
   "execution_count": 32,
   "metadata": {},
   "outputs": [
    {
     "name": "stderr",
     "output_type": "stream",
     "text": [
      "C:\\Users\\Vineet Jain\\anaconda3\\lib\\site-packages\\pandas\\util\\_decorators.py:311: SettingWithCopyWarning: \n",
      "A value is trying to be set on a copy of a slice from a DataFrame\n",
      "\n",
      "See the caveats in the documentation: https://pandas.pydata.org/pandas-docs/stable/user_guide/indexing.html#returning-a-view-versus-a-copy\n",
      "  return func(*args, **kwargs)\n"
     ]
    },
    {
     "data": {
      "text/html": [
       "<div>\n",
       "<style scoped>\n",
       "    .dataframe tbody tr th:only-of-type {\n",
       "        vertical-align: middle;\n",
       "    }\n",
       "\n",
       "    .dataframe tbody tr th {\n",
       "        vertical-align: top;\n",
       "    }\n",
       "\n",
       "    .dataframe thead th {\n",
       "        text-align: right;\n",
       "    }\n",
       "</style>\n",
       "<table border=\"1\" class=\"dataframe\">\n",
       "  <thead>\n",
       "    <tr style=\"text-align: right;\">\n",
       "      <th></th>\n",
       "      <th>Adj Close</th>\n",
       "      <th>Volume</th>\n",
       "      <th>Pct_change</th>\n",
       "    </tr>\n",
       "  </thead>\n",
       "  <tbody>\n",
       "    <tr>\n",
       "      <th>1</th>\n",
       "      <td>1950.774536</td>\n",
       "      <td>18996047</td>\n",
       "      <td>0.031519</td>\n",
       "    </tr>\n",
       "    <tr>\n",
       "      <th>2</th>\n",
       "      <td>1932.583130</td>\n",
       "      <td>12284876</td>\n",
       "      <td>-0.009325</td>\n",
       "    </tr>\n",
       "    <tr>\n",
       "      <th>3</th>\n",
       "      <td>1954.313110</td>\n",
       "      <td>9946818</td>\n",
       "      <td>0.011244</td>\n",
       "    </tr>\n",
       "    <tr>\n",
       "      <th>4</th>\n",
       "      <td>1931.237305</td>\n",
       "      <td>9503790</td>\n",
       "      <td>-0.011808</td>\n",
       "    </tr>\n",
       "    <tr>\n",
       "      <th>5</th>\n",
       "      <td>1977.588257</td>\n",
       "      <td>16198856</td>\n",
       "      <td>0.024001</td>\n",
       "    </tr>\n",
       "  </tbody>\n",
       "</table>\n",
       "</div>"
      ],
      "text/plain": [
       "     Adj Close    Volume  Pct_change\n",
       "1  1950.774536  18996047    0.031519\n",
       "2  1932.583130  12284876   -0.009325\n",
       "3  1954.313110   9946818    0.011244\n",
       "4  1931.237305   9503790   -0.011808\n",
       "5  1977.588257  16198856    0.024001"
      ]
     },
     "execution_count": 32,
     "metadata": {},
     "output_type": "execute_result"
    }
   ],
   "source": [
    "# Drop null values\n",
    "df_2.dropna(inplace = True)\n",
    "df_2.head()"
   ]
  },
  {
   "cell_type": "code",
   "execution_count": 33,
   "metadata": {},
   "outputs": [],
   "source": [
    "X = df_2.drop('Adj Close',axis=1)\n",
    "y = df_2['Adj Close']"
   ]
  },
  {
   "cell_type": "code",
   "execution_count": 34,
   "metadata": {},
   "outputs": [],
   "source": [
    "from sklearn.model_selection import train_test_split\n",
    "X_train, X_test, y_train, y_test = train_test_split(X, y, test_size=0.2, random_state=0)"
   ]
  },
  {
   "cell_type": "code",
   "execution_count": 35,
   "metadata": {},
   "outputs": [],
   "source": [
    "from sklearn.svm import SVR"
   ]
  },
  {
   "cell_type": "code",
   "execution_count": 36,
   "metadata": {},
   "outputs": [],
   "source": [
    "svr = SVR(kernel = 'linear',C = 1000)"
   ]
  },
  {
   "cell_type": "code",
   "execution_count": 37,
   "metadata": {},
   "outputs": [],
   "source": [
    "from sklearn.preprocessing import StandardScaler"
   ]
  },
  {
   "cell_type": "code",
   "execution_count": 38,
   "metadata": {},
   "outputs": [],
   "source": [
    "sc= StandardScaler().fit(X_train)"
   ]
  },
  {
   "cell_type": "code",
   "execution_count": 39,
   "metadata": {},
   "outputs": [
    {
     "data": {
      "text/plain": [
       "array([[-0.93442975,  0.11401674],\n",
       "       [-0.45580525, -0.41113482],\n",
       "       [ 0.34116849, -1.41401458],\n",
       "       [-0.120072  , -0.65536544],\n",
       "       [-0.05272588,  0.71338984],\n",
       "       [-0.81476887,  0.77635055],\n",
       "       [-0.63996525, -1.13477892],\n",
       "       [-0.42936165,  0.36575893],\n",
       "       [-0.66808001, -0.18221799],\n",
       "       [-0.66022435, -0.98387393],\n",
       "       [-0.03089392,  1.34070152],\n",
       "       [-1.03594222,  0.19822072],\n",
       "       [-1.00216788,  0.35492353],\n",
       "       [ 0.2344354 , -1.4645902 ],\n",
       "       [-0.53414372, -0.51656164],\n",
       "       [-0.73292305,  1.28250764],\n",
       "       [-1.03257356,  0.62136164],\n",
       "       [ 0.6662314 , -0.01977887],\n",
       "       [-0.49826447,  0.0115569 ],\n",
       "       [-0.20857646, -0.4799727 ],\n",
       "       [-0.4531581 , -1.31575118],\n",
       "       [ 0.2507859 , -1.84959684],\n",
       "       [-0.60906101,  0.14124326],\n",
       "       [-0.83633057,  0.27866424],\n",
       "       [ 0.10685057, -1.40629622],\n",
       "       [-0.47012779, -0.79777242],\n",
       "       [ 1.008651  ,  0.1746053 ],\n",
       "       [-0.45894348,  0.8039558 ],\n",
       "       [ 1.11194734, -1.53853808],\n",
       "       [-0.54942378,  0.34722306],\n",
       "       [-0.14824581,  0.9228696 ],\n",
       "       [-0.19914986, -2.05488101],\n",
       "       [-0.79320735,  0.15309758],\n",
       "       [ 1.242791  ,  0.89318462],\n",
       "       [ 1.1087843 , -0.51542148],\n",
       "       [-0.841013  , -0.49513935],\n",
       "       [ 2.28191736, -1.21799668],\n",
       "       [-0.44518742, -0.8420674 ],\n",
       "       [-0.46388442,  0.91129729],\n",
       "       [-0.397064  ,  1.16001469],\n",
       "       [-0.32888673, -0.33663525],\n",
       "       [ 0.05175785,  0.6679448 ],\n",
       "       [-0.27798152, -0.97704264],\n",
       "       [-0.7356131 , -0.58026115],\n",
       "       [ 1.12364446,  2.38925125],\n",
       "       [-0.31406254, -0.62509658],\n",
       "       [-0.71633615, -0.5284151 ],\n",
       "       [-0.37672277,  0.9366471 ],\n",
       "       [ 0.04192135, -1.05393436],\n",
       "       [ 0.28200926,  0.77442077]])"
      ]
     },
     "execution_count": 39,
     "metadata": {},
     "output_type": "execute_result"
    }
   ],
   "source": [
    "X_train_std = sc.transform(X_train)\n",
    "X_test_std = sc.transform(X_test)\n",
    "X_test_std"
   ]
  },
  {
   "cell_type": "code",
   "execution_count": 40,
   "metadata": {},
   "outputs": [],
   "source": [
    "svr.fit(X_train_std,y_train)\n",
    "y_test_pred = svr.predict(X_test_std)"
   ]
  },
  {
   "cell_type": "code",
   "execution_count": 41,
   "metadata": {},
   "outputs": [],
   "source": [
    "y_train_pred = svr.predict(X_train_std)"
   ]
  },
  {
   "cell_type": "code",
   "execution_count": 42,
   "metadata": {},
   "outputs": [
    {
     "data": {
      "text/plain": [
       "array([2217.45592745, 2162.3591791 , 2065.38986077, 2128.76251357,\n",
       "       2179.71091513, 2235.97364265, 2145.89199401, 2192.1072909 ,\n",
       "       2186.63265893, 2153.45992523, 2203.69755647, 2228.0357073 ,\n",
       "       2232.0318353 , 2070.85339317, 2163.5898735 , 2250.80138546,\n",
       "       2245.01580061, 2099.21385168, 2182.55046786, 2142.13606887,\n",
       "       2125.36405744, 2054.03537037, 2195.63515734, 2217.24237565,\n",
       "       2082.21621169, 2147.63631042, 2082.99311058, 2212.02201456,\n",
       "       2006.00654851, 2199.81380352, 2194.96583864, 2077.38921615,\n",
       "       2209.09422791, 2095.73214004, 2047.85976513, 2186.0864999 ,\n",
       "       1936.60195124, 2144.0764222 , 2216.73789545, 2222.14932532,\n",
       "       2156.44664592, 2170.49884183, 2126.80138416, 2175.19542803,\n",
       "       2165.00286919, 2143.66458282, 2175.9465897 , 2211.62712421,\n",
       "       2101.129251  , 2158.60559063])"
      ]
     },
     "execution_count": 42,
     "metadata": {},
     "output_type": "execute_result"
    }
   ],
   "source": [
    "y_test_pred"
   ]
  },
  {
   "cell_type": "code",
   "execution_count": 43,
   "metadata": {},
   "outputs": [
    {
     "name": "stdout",
     "output_type": "stream",
     "text": [
      "Mean Squared Error: 47696.41189127915\n",
      "Root Mean Squared Error: 218.3950821133094\n"
     ]
    }
   ],
   "source": [
    "from sklearn import metrics\n",
    "\n",
    "print('Mean Squared Error:', metrics.mean_squared_error(y_test, y_test_pred))\n",
    "print('Root Mean Squared Error:', np.sqrt(metrics.mean_squared_error(y_test, y_test_pred)))"
   ]
  },
  {
   "cell_type": "code",
   "execution_count": 50,
   "metadata": {},
   "outputs": [
    {
     "name": "stdout",
     "output_type": "stream",
     "text": [
      "Mean Absolute Error: 173.2929460383432\n"
     ]
    }
   ],
   "source": [
    "print('Mean Absolute Error:', metrics.mean_absolute_error(y_test, y_test_pred))"
   ]
  },
  {
   "cell_type": "code",
   "execution_count": 48,
   "metadata": {},
   "outputs": [
    {
     "name": "stdout",
     "output_type": "stream",
     "text": [
      "Mean Absolute Percentage Error (MAPE): 7.54 %\n"
     ]
    }
   ],
   "source": [
    "#Mean Absolute Percentage Error (MAPE)\n",
    "MAPE = np.mean((np.abs(np.subtract(y_test,y_test_pred)/y_test))) * 100\n",
    "print(f'Mean Absolute Percentage Error (MAPE): {np.round(MAPE, 2)} %')"
   ]
  },
  {
   "cell_type": "code",
   "execution_count": 44,
   "metadata": {},
   "outputs": [
    {
     "data": {
      "text/plain": [
       "0.012828947626575382"
      ]
     },
     "execution_count": 44,
     "metadata": {},
     "output_type": "execute_result"
    }
   ],
   "source": [
    "from sklearn.metrics import r2_score\n",
    "r2_score(y_train,y_train_pred)"
   ]
  },
  {
   "cell_type": "code",
   "execution_count": 46,
   "metadata": {},
   "outputs": [
    {
     "data": {
      "text/plain": [
       "0.02036246693455679"
      ]
     },
     "execution_count": 46,
     "metadata": {},
     "output_type": "execute_result"
    }
   ],
   "source": [
    "r2_score(y_test,y_test_pred)"
   ]
  },
  {
   "cell_type": "code",
   "execution_count": 47,
   "metadata": {},
   "outputs": [
    {
     "name": "stderr",
     "output_type": "stream",
     "text": [
      "C:\\Users\\Vineet Jain\\anaconda3\\lib\\site-packages\\seaborn\\distributions.py:2619: FutureWarning: `distplot` is a deprecated function and will be removed in a future version. Please adapt your code to use either `displot` (a figure-level function with similar flexibility) or `kdeplot` (an axes-level function for kernel density plots).\n",
      "  warnings.warn(msg, FutureWarning)\n",
      "C:\\Users\\Vineet Jain\\anaconda3\\lib\\site-packages\\seaborn\\distributions.py:2619: FutureWarning: `distplot` is a deprecated function and will be removed in a future version. Please adapt your code to use either `displot` (a figure-level function with similar flexibility) or `kdeplot` (an axes-level function for kernel density plots).\n",
      "  warnings.warn(msg, FutureWarning)\n"
     ]
    },
    {
     "data": {
      "image/png": "[encoded data removed]",
      "text/plain": [
       "<Figure size 360x504 with 1 Axes>"
      ]
     },
     "metadata": {
      "needs_background": "light"
     },
     "output_type": "display_data"
    }
   ],
   "source": [
    "import seaborn as sns\n",
    "plt.figure(figsize=(5, 7))\n",
    "\n",
    "\n",
    "ax = sns.distplot(y, hist=False, color=\"r\", label=\"Actual Value\")\n",
    "sns.distplot(y_test_pred, hist=False, color=\"b\", label=\"Fitted Values\" , ax=ax)\n",
    "\n",
    "\n",
    "plt.title('Actual vs Fitted Values for Price')\n",
    "\n",
    "\n",
    "plt.show()\n",
    "plt.close()"
   ]
  },
  {
   "cell_type": "code",
   "execution_count": null,
   "metadata": {},
   "outputs": [],
   "source": []
  }
 ],
 "metadata": {
  "kernelspec": {
   "display_name": "Python 3 (ipykernel)",
   "language": "python",
   "name": "python3"
  },
  "language_info": {
   "codemirror_mode": {
    "name": "ipython",
    "version": 3
   },
   "file_extension": ".py",
   "mimetype": "text/x-python",
   "name": "python",
   "nbconvert_exporter": "python",
   "pygments_lexer": "ipython3",
   "version": "3.9.7"
  }
 },
 "nbformat": 4,
 "nbformat_minor": 2
}
