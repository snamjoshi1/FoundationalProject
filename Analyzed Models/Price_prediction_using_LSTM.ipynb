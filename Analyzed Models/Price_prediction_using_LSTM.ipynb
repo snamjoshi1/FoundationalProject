{
 "cells": [
  {
   "cell_type": "code",
   "execution_count": 117,
   "metadata": {
    "id": "KFsDoqrOSKG5"
   },
   "outputs": [],
   "source": [
    " import pandas as pd\n",
    " import numpy as np\n",
    " import matplotlib.pyplot as plt\n",
    " import plotly.express as px # to plot the time series plot\n",
    " from sklearn import metrics # for the evaluation\n",
    " from sklearn.preprocessing import LabelEncoder,MinMaxScaler\n",
    " import tensorflow as tf "
   ]
  },
  {
   "cell_type": "code",
   "execution_count": 119,
   "metadata": {
    "id": "ukkINbVrSLg3"
   },
   "outputs": [],
   "source": [
    "data = pd.read_excel('/content/FinalDF.xlsx')\n"
   ]
  },
  {
   "cell_type": "code",
   "execution_count": 120,
   "metadata": {
    "colab": {
     "base_uri": "https://localhost:8080/",
     "height": 652
    },
    "id": "AeydnjduS1Xj",
    "outputId": "6f9be4bd-ded4-46f3-8682-1eb2f5ed9788"
   },
   "outputs": [
    {
     "data": {
      "text/html": [
       "\n",
       "  <div id=\"df-0ddb62ab-7eab-43ba-b7f9-b480d2e87d2f\">\n",
       "    <div class=\"colab-df-container\">\n",
       "      <div>\n",
       "<style scoped>\n",
       "    .dataframe tbody tr th:only-of-type {\n",
       "        vertical-align: middle;\n",
       "    }\n",
       "\n",
       "    .dataframe tbody tr th {\n",
       "        vertical-align: top;\n",
       "    }\n",
       "\n",
       "    .dataframe thead th {\n",
       "        text-align: right;\n",
       "    }\n",
       "</style>\n",
       "<table border=\"1\" class=\"dataframe\">\n",
       "  <thead>\n",
       "    <tr style=\"text-align: right;\">\n",
       "      <th></th>\n",
       "      <th>Unnamed: 0</th>\n",
       "      <th>Date</th>\n",
       "      <th>Summary</th>\n",
       "      <th>Negative</th>\n",
       "      <th>Positive</th>\n",
       "      <th>Neutral</th>\n",
       "      <th>Comp</th>\n",
       "      <th>Open</th>\n",
       "      <th>High</th>\n",
       "      <th>Low</th>\n",
       "      <th>Close</th>\n",
       "      <th>Adj Close</th>\n",
       "      <th>Volume</th>\n",
       "    </tr>\n",
       "  </thead>\n",
       "  <tbody>\n",
       "    <tr>\n",
       "      <th>0</th>\n",
       "      <td>0</td>\n",
       "      <td>2021-01-11</td>\n",
       "      <td>Few companies drive stock market across the wo...</td>\n",
       "      <td>0.021</td>\n",
       "      <td>0.177</td>\n",
       "      <td>0.802</td>\n",
       "      <td>0.9739</td>\n",
       "      <td>1938.800049</td>\n",
       "      <td>1938.800049</td>\n",
       "      <td>1892.500000</td>\n",
       "      <td>1897.250000</td>\n",
       "      <td>1891.166260</td>\n",
       "      <td>15371556</td>\n",
       "    </tr>\n",
       "    <tr>\n",
       "      <th>1</th>\n",
       "      <td>1</td>\n",
       "      <td>2021-01-12</td>\n",
       "      <td>Reliance Industries (RIL) is a good stock?,The...</td>\n",
       "      <td>0.056</td>\n",
       "      <td>0.101</td>\n",
       "      <td>0.843</td>\n",
       "      <td>0.8820</td>\n",
       "      <td>1903.000000</td>\n",
       "      <td>1960.000000</td>\n",
       "      <td>1899.900024</td>\n",
       "      <td>1957.050049</td>\n",
       "      <td>1950.774536</td>\n",
       "      <td>18996047</td>\n",
       "    </tr>\n",
       "    <tr>\n",
       "      <th>2</th>\n",
       "      <td>2</td>\n",
       "      <td>2021-01-13</td>\n",
       "      <td>HDFC Bank has replaced Reliance Industries to ...</td>\n",
       "      <td>0.045</td>\n",
       "      <td>0.029</td>\n",
       "      <td>0.927</td>\n",
       "      <td>-0.1280</td>\n",
       "      <td>1963.550049</td>\n",
       "      <td>1974.949951</td>\n",
       "      <td>1918.449951</td>\n",
       "      <td>1938.800049</td>\n",
       "      <td>1932.583130</td>\n",
       "      <td>12284876</td>\n",
       "    </tr>\n",
       "    <tr>\n",
       "      <th>3</th>\n",
       "      <td>3</td>\n",
       "      <td>2021-01-14</td>\n",
       "      <td>reliance Bhartiartl  drreddy cipla biocon \\n m...</td>\n",
       "      <td>0.054</td>\n",
       "      <td>0.038</td>\n",
       "      <td>0.908</td>\n",
       "      <td>-0.1873</td>\n",
       "      <td>1945.000000</td>\n",
       "      <td>1966.900024</td>\n",
       "      <td>1939.050049</td>\n",
       "      <td>1960.599976</td>\n",
       "      <td>1954.313110</td>\n",
       "      <td>9946818</td>\n",
       "    </tr>\n",
       "    <tr>\n",
       "      <th>4</th>\n",
       "      <td>4</td>\n",
       "      <td>2021-01-15</td>\n",
       "      <td>On Friday, Reliance shares fell nearly 4% to R...</td>\n",
       "      <td>0.033</td>\n",
       "      <td>0.155</td>\n",
       "      <td>0.813</td>\n",
       "      <td>0.8957</td>\n",
       "      <td>1960.599976</td>\n",
       "      <td>1973.800049</td>\n",
       "      <td>1920.050049</td>\n",
       "      <td>1937.449951</td>\n",
       "      <td>1931.237305</td>\n",
       "      <td>9503790</td>\n",
       "    </tr>\n",
       "  </tbody>\n",
       "</table>\n",
       "</div>\n",
       "      <button class=\"colab-df-convert\" onclick=\"convertToInteractive('df-0ddb62ab-7eab-43ba-b7f9-b480d2e87d2f')\"\n",
       "              title=\"Convert this dataframe to an interactive table.\"\n",
       "              style=\"display:none;\">\n",
       "        \n",
       "  <svg xmlns=\"http://www.w3.org/2000/svg\" height=\"24px\"viewBox=\"0 0 24 24\"\n",
       "       width=\"24px\">\n",
       "    <path d=\"M0 0h24v24H0V0z\" fill=\"none\"/>\n",
       "    <path d=\"M18.56 5.44l.94 2.06.94-2.06 2.06-.94-2.06-.94-.94-2.06-.94 2.06-2.06.94zm-11 1L8.5 8.5l.94-2.06 2.06-.94-2.06-.94L8.5 2.5l-.94 2.06-2.06.94zm10 10l.94 2.06.94-2.06 2.06-.94-2.06-.94-.94-2.06-.94 2.06-2.06.94z\"/><path d=\"M17.41 7.96l-1.37-1.37c-.4-.4-.92-.59-1.43-.59-.52 0-1.04.2-1.43.59L10.3 9.45l-7.72 7.72c-.78.78-.78 2.05 0 2.83L4 21.41c.39.39.9.59 1.41.59.51 0 1.02-.2 1.41-.59l7.78-7.78 2.81-2.81c.8-.78.8-2.07 0-2.86zM5.41 20L4 18.59l7.72-7.72 1.47 1.35L5.41 20z\"/>\n",
       "  </svg>\n",
       "      </button>\n",
       "      \n",
       "  <style>\n",
       "    .colab-df-container {\n",
       "      display:flex;\n",
       "      flex-wrap:wrap;\n",
       "      gap: 12px;\n",
       "    }\n",
       "\n",
       "    .colab-df-convert {\n",
       "      background-color: #E8F0FE;\n",
       "      border: none;\n",
       "      border-radius: 50%;\n",
       "      cursor: pointer;\n",
       "      display: none;\n",
       "      fill: #1967D2;\n",
       "      height: 32px;\n",
       "      padding: 0 0 0 0;\n",
       "      width: 32px;\n",
       "    }\n",
       "\n",
       "    .colab-df-convert:hover {\n",
       "      background-color: #E2EBFA;\n",
       "      box-shadow: 0px 1px 2px rgba(60, 64, 67, 0.3), 0px 1px 3px 1px rgba(60, 64, 67, 0.15);\n",
       "      fill: #174EA6;\n",
       "    }\n",
       "\n",
       "    [theme=dark] .colab-df-convert {\n",
       "      background-color: #3B4455;\n",
       "      fill: #D2E3FC;\n",
       "    }\n",
       "\n",
       "    [theme=dark] .colab-df-convert:hover {\n",
       "      background-color: #434B5C;\n",
       "      box-shadow: 0px 1px 3px 1px rgba(0, 0, 0, 0.15);\n",
       "      filter: drop-shadow(0px 1px 2px rgba(0, 0, 0, 0.3));\n",
       "      fill: #FFFFFF;\n",
       "    }\n",
       "  </style>\n",
       "\n",
       "      <script>\n",
       "        const buttonEl =\n",
       "          document.querySelector('#df-0ddb62ab-7eab-43ba-b7f9-b480d2e87d2f button.colab-df-convert');\n",
       "        buttonEl.style.display =\n",
       "          google.colab.kernel.accessAllowed ? 'block' : 'none';\n",
       "\n",
       "        async function convertToInteractive(key) {\n",
       "          const element = document.querySelector('#df-0ddb62ab-7eab-43ba-b7f9-b480d2e87d2f');\n",
       "          const dataTable =\n",
       "            await google.colab.kernel.invokeFunction('convertToInteractive',\n",
       "                                                     [key], {});\n",
       "          if (!dataTable) return;\n",
       "\n",
       "          const docLinkHtml = 'Like what you see? Visit the ' +\n",
       "            '<a target=\"_blank\" href=https://colab.research.google.com/notebooks/data_table.ipynb>data table notebook</a>'\n",
       "            + ' to learn more about interactive tables.';\n",
       "          element.innerHTML = '';\n",
       "          dataTable['output_type'] = 'display_data';\n",
       "          await google.colab.output.renderOutput(dataTable, element);\n",
       "          const docLink = document.createElement('div');\n",
       "          docLink.innerHTML = docLinkHtml;\n",
       "          element.appendChild(docLink);\n",
       "        }\n",
       "      </script>\n",
       "    </div>\n",
       "  </div>\n",
       "  "
      ],
      "text/plain": [
       "   Unnamed: 0       Date  ...    Adj Close    Volume\n",
       "0           0 2021-01-11  ...  1891.166260  15371556\n",
       "1           1 2021-01-12  ...  1950.774536  18996047\n",
       "2           2 2021-01-13  ...  1932.583130  12284876\n",
       "3           3 2021-01-14  ...  1954.313110   9946818\n",
       "4           4 2021-01-15  ...  1931.237305   9503790\n",
       "\n",
       "[5 rows x 13 columns]"
      ]
     },
     "execution_count": 120,
     "metadata": {},
     "output_type": "execute_result"
    }
   ],
   "source": [
    "data.head()"
   ]
  },
  {
   "cell_type": "code",
   "execution_count": 123,
   "metadata": {
    "id": "Sh24XUQ0SQ21"
   },
   "outputs": [],
   "source": [
    "for i in data.select_dtypes('object').columns:\n",
    "   le = LabelEncoder().fit(data[i])\n",
    "   data[i] = le.transform(data[i]) \n",
    "X_scaler = MinMaxScaler()\n",
    "Y_scaler = MinMaxScaler()\n",
    "X_data = X_scaler.fit_transform(data[['Negative', 'Positive', 'Neutral', 'Comp']])\n",
    "Y_data = Y_scaler.fit_transform(data[['Adj Close']])"
   ]
  },
  {
   "cell_type": "code",
   "execution_count": 124,
   "metadata": {
    "id": "U9mvyEccTOCV"
   },
   "outputs": [],
   "source": [
    " def custom_ts_multi_data_prep(dataset, target, start, end, window, horizon):\n",
    "     X = []\n",
    "     y = []\n",
    "     start = start + window\n",
    "     if end is None:\n",
    "         end = len(dataset) - horizon\n",
    "     for i in range(start, end):\n",
    "         indices = range(i-window, i)\n",
    "         X.append(dataset[indices])\n",
    "         indicey = range(i+1, i+1+horizon)\n",
    "         y.append(target[indicey])\n",
    "     return np.array(X), np.array(y)"
   ]
  },
  {
   "cell_type": "code",
   "execution_count": 125,
   "metadata": {
    "id": "GfbwmLU-TY5e"
   },
   "outputs": [],
   "source": [
    " hist_window = 60\n",
    " horizon = 5\n",
    " TRAIN_SPLIT = 170\n",
    " x_train, y_train = custom_ts_multi_data_prep(X_data, Y_data, 0, TRAIN_SPLIT, hist_window, horizon)\n",
    " x_vali, y_vali = custom_ts_multi_data_prep(X_data, Y_data, TRAIN_SPLIT, None, hist_window, horizon) "
   ]
  },
  {
   "cell_type": "code",
   "execution_count": 126,
   "metadata": {
    "colab": {
     "base_uri": "https://localhost:8080/"
    },
    "id": "HLhubDEHT-PM",
    "outputId": "9cc97413-861f-4664-ea41-b8eb3f84704a"
   },
   "outputs": [
    {
     "name": "stdout",
     "output_type": "stream",
     "text": [
      "Multiple window of past history\n",
      "\n",
      "[[0.09813084 0.54968944 0.39076923 0.98656678]\n",
      " [0.26168224 0.3136646  0.51692308 0.93908551]\n",
      " [0.21028037 0.09006211 0.77538462 0.41725652]\n",
      " [0.25233645 0.11801242 0.71692308 0.38661844]\n",
      " [0.15420561 0.48136646 0.42461538 0.94616378]\n",
      " [0.05140187 0.36645963 0.60307692 0.97892018]\n",
      " [0.         0.45962733 0.54461538 0.98016017]\n",
      " [0.1635514  0.44409938 0.45230769 0.99938001]\n",
      " [0.10280374 0.44720497 0.48615385 0.99845001]\n",
      " [0.14018692 0.51863354 0.39384615 0.99607337]\n",
      " [0.09813084 0.45031056 0.48923077 0.99886334]\n",
      " [0.20093458 0.38509317 0.48615385 0.99266339]\n",
      " [0.09813084 0.43167702 0.50769231 0.98460346]\n",
      " [0.35981308 0.17080745 0.59076923 0.27656936]\n",
      " [0.09813084 0.17701863 0.75692308 0.96920692]\n",
      " [0.21962617 0.41304348 0.44615385 0.99979334]\n",
      " [0.14018692 0.31987578 0.59076923 1.        ]\n",
      " [0.20560748 0.35403727 0.51384615 0.99948334]\n",
      " [0.18224299 0.28881988 0.59384615 0.98827176]\n",
      " [0.15420561 0.27018634 0.63076923 0.99917334]\n",
      " [0.17757009 0.2826087  0.60307692 0.99256006]\n",
      " [0.3317757  0.4689441  0.31692308 0.83513304]\n",
      " [0.19158879 0.5310559  0.34769231 0.97318522]\n",
      " [0.13551402 0.42857143 0.48615385 0.97106691]\n",
      " [0.         0.13975155 0.86153846 0.82423146]\n",
      " [0.         0.         1.         0.48338931]\n",
      " [0.         0.11180124 0.88923077 0.69103591]\n",
      " [0.12616822 0.45341615 0.46769231 0.97721519]\n",
      " [0.1588785  0.66770186 0.23384615 0.96181865]\n",
      " [0.14018692 0.40372671 0.50769231 0.97385688]\n",
      " [0.03738318 0.45341615 0.52923077 0.99839835]\n",
      " [0.09345794 0.26086957 0.68       0.85895118]\n",
      " [0.32242991 0.2484472  0.54153846 0.43136141]\n",
      " [0.09345794 0.56832298 0.37846154 0.97587187]\n",
      " [0.22897196 0.22670807 0.62461538 0.99591837]\n",
      " [0.27102804 0.23602484 0.58769231 0.95727202]\n",
      " [0.12616822 0.29813665 0.62153846 0.99829501]\n",
      " [0.35981308 0.38509317 0.38153846 0.99917334]\n",
      " [0.23831776 0.27950311 0.56923077 0.99876001]\n",
      " [0.22429907 0.31055901 0.54153846 0.99917334]\n",
      " [0.19626168 0.35093168 0.52307692 0.999845  ]\n",
      " [0.10280374 0.27950311 0.65538462 0.99870834]\n",
      " [0.34579439 0.28571429 0.48923077 0.71092741]\n",
      " [0.24766355 0.32298137 0.51692308 0.82423146]\n",
      " [1.         0.3447205  0.         0.00681994]\n",
      " [0.19626168 0.50310559 0.37230769 0.93841385]\n",
      " [0.17757009 0.47515528 0.41230769 0.9796435 ]\n",
      " [0.23364486 0.55590062 0.29538462 0.92601395]\n",
      " [0.         0.         1.         0.48338931]\n",
      " [0.12616822 0.38198758 0.53846154 0.96130199]\n",
      " [0.1728972  0.42236025 0.46769231 0.83513304]\n",
      " [0.06542056 0.22049689 0.73538462 0.90410747]\n",
      " [0.         0.36645963 0.63692308 0.99664169]\n",
      " [0.77102804 0.11801242 0.37538462 0.06096616]\n",
      " [0.20560748 0.24534161 0.61846154 0.98532679]\n",
      " [0.14018692 0.1242236  0.78461538 0.98212348]\n",
      " [0.1728972  0.2484472  0.64307692 0.99436838]\n",
      " [0.23364486 0.2173913  0.63076923 0.97618187]\n",
      " [0.1588785  0.45652174 0.44307692 0.99994833]\n",
      " [0.37850467 0.2173913  0.53846154 0.59834668]]\n",
      "\n",
      " Target horizon\n",
      "\n",
      "[[0.11388827]\n",
      " [0.10031291]\n",
      " [0.06648573]\n",
      " [0.06587388]\n",
      " [0.07171572]]\n"
     ]
    }
   ],
   "source": [
    " print ('Multiple window of past history\\n')\n",
    " print(x_train[0])\n",
    " print ('\\n Target horizon\\n')\n",
    " print (y_train[0])"
   ]
  },
  {
   "cell_type": "code",
   "execution_count": 127,
   "metadata": {
    "id": "GySij1-BUCp8"
   },
   "outputs": [],
   "source": [
    " batch_size = 256\n",
    " buffer_size = 150\n",
    " train_data = tf.data.Dataset.from_tensor_slices((x_train, y_train))\n",
    " train_data = train_data.cache().shuffle(buffer_size).batch(batch_size).repeat()\n",
    " val_data = tf.data.Dataset.from_tensor_slices((x_vali, y_vali))\n",
    " val_data = val_data.batch(batch_size).repeat()"
   ]
  },
  {
   "cell_type": "code",
   "execution_count": 129,
   "metadata": {
    "colab": {
     "base_uri": "https://localhost:8080/"
    },
    "id": "R9-kRFgTUJyU",
    "outputId": "d7e6d360-566b-49ec-a7f8-cc3e4a8078ea"
   },
   "outputs": [
    {
     "name": "stdout",
     "output_type": "stream",
     "text": [
      "Model: \"sequential_9\"\n",
      "_________________________________________________________________\n",
      " Layer (type)                Output Shape              Param #   \n",
      "=================================================================\n",
      " bidirectional (Bidirectiona  (None, 60, 400)          328000    \n",
      " l)                                                              \n",
      "                                                                 \n",
      " dense_9 (Dense)             (None, 60, 20)            8020      \n",
      "                                                                 \n",
      " bidirectional_1 (Bidirectio  (None, 300)              205200    \n",
      " nal)                                                            \n",
      "                                                                 \n",
      " dense_10 (Dense)            (None, 20)                6020      \n",
      "                                                                 \n",
      " dense_11 (Dense)            (None, 20)                420       \n",
      "                                                                 \n",
      " dropout (Dropout)           (None, 20)                0         \n",
      "                                                                 \n",
      " dense_12 (Dense)            (None, 5)                 105       \n",
      "                                                                 \n",
      "=================================================================\n",
      "Total params: 547,765\n",
      "Trainable params: 547,765\n",
      "Non-trainable params: 0\n",
      "_________________________________________________________________\n"
     ]
    }
   ],
   "source": [
    "lstm_model = tf.keras.models.Sequential([\n",
    "   tf.keras.layers.Bidirectional(tf.keras.layers.LSTM(200, return_sequences=True), \n",
    "                                input_shape=x_train.shape[-2:]),\n",
    "     tf.keras.layers.Dense(20, activation='tanh'),\n",
    "     tf.keras.layers.Bidirectional(tf.keras.layers.LSTM(150)),\n",
    "     tf.keras.layers.Dense(20, activation='tanh'),\n",
    "     tf.keras.layers.Dense(20, activation='tanh'),\n",
    "     tf.keras.layers.Dropout(0.25),\n",
    "     tf.keras.layers.Dense(units=horizon),\n",
    " ])\n",
    "lstm_model.compile(optimizer='adam', loss='mse')\n",
    "lstm_model.summary() \n"
   ]
  },
  {
   "cell_type": "code",
   "execution_count": 132,
   "metadata": {
    "colab": {
     "base_uri": "https://localhost:8080/"
    },
    "id": "Xz46HfW_USfn",
    "outputId": "d796f11f-6684-4cce-97fc-8aa7d7af409e"
   },
   "outputs": [
    {
     "name": "stdout",
     "output_type": "stream",
     "text": [
      "Epoch 1/2\n",
      "100/100 [==============================] - 86s 856ms/step - loss: 0.0035 - val_loss: 0.3144\n",
      "Epoch 2/2\n",
      "100/100 [==============================] - 85s 852ms/step - loss: 0.0028 - val_loss: 0.3915\n"
     ]
    }
   ],
   "source": [
    "model_path = 'Bidirectional_LSTM_Multivariate.h5'\n",
    "early_stopings = tf.keras.callbacks.EarlyStopping(monitor='val_loss', min_delta=0, patience=10, verbose=1, mode='min')\n",
    "checkpoint =  tf.keras.callbacks.ModelCheckpoint(model_path, monitor='val_loss', save_best_only=True, mode='min', verbose=0)\n",
    "callbacks=[early_stopings,checkpoint] \n",
    "history = lstm_model.fit(train_data,epochs=2,steps_per_epoch=100,validation_data=val_data,validation_steps=50,verbose=1,callbacks=callbacks)\n",
    "\n"
   ]
  },
  {
   "cell_type": "code",
   "execution_count": 133,
   "metadata": {
    "colab": {
     "base_uri": "https://localhost:8080/",
     "height": 567
    },
    "id": "ZVLcg9LxWs7T",
    "outputId": "c2723bee-314e-404b-9109-37fac3d748d0"
   },
   "outputs": [
    {
     "data": {
      "image/png": "[encoded data removed]",
      "text/plain": [
       "<Figure size 1152x648 with 1 Axes>"
      ]
     },
     "metadata": {
      "needs_background": "light"
     },
     "output_type": "display_data"
    }
   ],
   "source": [
    " plt.figure(figsize=(16,9))\n",
    " plt.plot(history.history['loss'])\n",
    " plt.plot(history.history['val_loss'])\n",
    " plt.title('Model loss')\n",
    " plt.ylabel('loss')\n",
    " plt.xlabel('epoch')\n",
    " plt.legend(['train loss', 'validation loss'])\n",
    " plt.show()"
   ]
  },
  {
   "cell_type": "code",
   "execution_count": 134,
   "metadata": {
    "colab": {
     "base_uri": "https://localhost:8080/"
    },
    "id": "8PDXQAI2Wy0c",
    "outputId": "aa41c00d-16e4-4df9-969e-6057187469fa"
   },
   "outputs": [
    {
     "data": {
      "text/plain": [
       "array([[1866.0952, 1850.9084, 1813.3407, 1840.2625, 1834.5975]],\n",
       "      dtype=float32)"
      ]
     },
     "execution_count": 134,
     "metadata": {},
     "output_type": "execute_result"
    }
   ],
   "source": [
    "data_val = X_scaler.fit_transform(data[['Negative', 'Positive', 'Neutral', 'Comp']].tail(60))\n",
    "val_rescaled = data_val.reshape(1, data_val.shape[0], data_val.shape[1])\n",
    "pred = lstm_model.predict(val_rescaled)\n",
    "pred_Inverse = Y_scaler.inverse_transform(pred)\n",
    "pred_Inverse "
   ]
  }
 ],
 "metadata": {
  "colab": {
   "collapsed_sections": [],
   "name": "Price prediction using LSTM.ipynb",
   "provenance": []
  },
  "kernelspec": {
   "display_name": "Python 3",
   "language": "python",
   "name": "python3"
  },
  "language_info": {
   "codemirror_mode": {
    "name": "ipython",
    "version": 3
   },
   "file_extension": ".py",
   "mimetype": "text/x-python",
   "name": "python",
   "nbconvert_exporter": "python",
   "pygments_lexer": "ipython3",
   "version": "3.8.8"
  }
 },
 "nbformat": 4,
 "nbformat_minor": 1
}
