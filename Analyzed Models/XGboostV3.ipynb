{
  "nbformat": 4,
  "nbformat_minor": 0,
  "metadata": {
    "colab": {
      "name": "XGboostV3.ipynb",
      "provenance": [],
      "collapsed_sections": []
    },
    "kernelspec": {
      "name": "python3",
      "display_name": "Python 3"
    },
    "language_info": {
      "name": "python"
    }
  },
  "cells": [
    {
      "cell_type": "code",
      "source": [
        "import xgboost as xgb\n",
        "import pandas as pd\n",
        "from sklearn.model_selection import train_test_split\n",
        "from sklearn.model_selection import cross_val_score, KFold\n",
        "from sklearn.metrics import mean_squared_error\n",
        "import matplotlib.pyplot as plt \n",
        "import numpy as np\n",
        " \n",
        "df = pd.read_excel('/content/FinalDF.xlsx')\n",
        "\n",
        "# Create a quick overview of the dataset\n",
        "df.drop(['Date','Summary','Unnamed: 0','Open',\t'High',\t'Low','Close','Volume'], axis = 1, inplace = True) \n",
        "\n",
        "data = df.values\n",
        "x, y = data[:, :-1], data[:, -1]\n",
        "xtrain, xtest, ytrain, ytest = train_test_split(x, y, test_size=0.15)\n",
        "\n",
        "xgbr = xgb.XGBRegressor(verbosity=0)\n",
        "print(xgbr)\n",
        "\n",
        "xgbr.fit(xtrain, ytrain)\n",
        " \n",
        "score = xgbr.score(xtrain, ytrain)   \n",
        "print(\"Training score: \", score) \n",
        " \n",
        "# - cross validataion \n",
        "scores = cross_val_score(xgbr, xtrain, ytrain, cv=5)\n",
        "print(\"Mean cross-validation score: %.2f\" % scores.mean())\n",
        "\n",
        "kfold = KFold(n_splits=10, shuffle=True)\n",
        "kf_cv_scores = cross_val_score(xgbr, xtrain, ytrain, cv=kfold )\n",
        "print(\"K-fold CV average score: %.2f\" % kf_cv_scores.mean())\n",
        " \n",
        "ypred = xgbr.predict(xtest)\n",
        "mse = mean_squared_error(ytest, ypred)\n",
        "\n",
        "def mean_absolute_percentage_error(ytest, ypred): \n",
        "    y_true, y_pred = np.array(ytest), np.array(ypred)\n",
        "    return np.mean(np.abs((ytest - ypred) / ytest)) * 100\n",
        "\n",
        "\n",
        "print(\"MSE: %.2f\" % mse)\n",
        "print(\"RMSE: %.2f\" % (mse**(1/2.0)))\n",
        "print(\"MAPE: %.2f\" % mean_absolute_percentage_error(ytest,ypred))\n",
        "\n",
        "x_ax = range(len(ytest))\n",
        "plt.scatter(x_ax, ytest, s=5, color=\"blue\", label=\"original\")\n",
        "plt.plot(x_ax, ypred, lw=0.8, color=\"red\", label=\"predicted\")\n",
        "plt.legend()\n",
        "plt.show()"
      ],
      "metadata": {
        "colab": {
          "base_uri": "https://localhost:8080/",
          "height": 387
        },
        "id": "9EXQy-_Hynp6",
        "outputId": "c2ada8ae-a70b-4d54-dd08-67aec2bdc683"
      },
      "execution_count": null,
      "outputs": [
        {
          "output_type": "stream",
          "name": "stdout",
          "text": [
            "XGBRegressor(verbosity=0)\n",
            "Training score:  0.6632668927904762\n",
            "Mean cross-validation score: -0.18\n",
            "K-fold CV average score: -0.33\n",
            "MSE: 46763.57\n",
            "RMSE: 216.25\n",
            "MAPE: 7.78\n"
          ]
        },
        {
          "output_type": "display_data",
          "data": {
            "image/png": "[encoded data removed]",
            "text/plain": [
              "<Figure size 432x288 with 1 Axes>"
            ]
          },
          "metadata": {
            "needs_background": "light"
          }
        }
      ]
    },
    {
      "cell_type": "code",
      "source": [
        "from sklearn.metrics import mean_absolute_error as mae\n",
        "\n",
        "#calculate MAE\n",
        "mae(ytest, ypred)\n",
        "\n"
      ],
      "metadata": {
        "colab": {
          "base_uri": "https://localhost:8080/"
        },
        "id": "paeJYbq06KE7",
        "outputId": "33a4afdb-819a-405a-8cc5-16f0f49bebff"
      },
      "execution_count": 9,
      "outputs": [
        {
          "output_type": "execute_result",
          "data": {
            "text/plain": [
              "174.34504004117397"
            ]
          },
          "metadata": {},
          "execution_count": 9
        }
      ]
    }
  ]
}