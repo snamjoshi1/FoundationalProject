{
 "cells": [
  {
   "cell_type": "code",
   "execution_count": 59,
   "id": "ca879246",
   "metadata": {},
   "outputs": [
    {
     "name": "stdout",
     "output_type": "stream",
     "text": [
      "Requirement already satisfied: plotly in e:\\anaconda\\lib\\site-packages (5.5.0)\n",
      "Requirement already satisfied: tenacity>=6.2.0 in e:\\anaconda\\lib\\site-packages (from plotly) (8.0.1)\n",
      "Requirement already satisfied: six in e:\\anaconda\\lib\\site-packages (from plotly) (1.15.0)\n"
     ]
    }
   ],
   "source": [
    "import numpy as np\n",
    "import pandas as pd\n",
    "import datetime as dt\n",
    "from datetime import timedelta\n",
    "import statsmodels.api as sm\n",
    "from statsmodels.tsa.api import Holt,SimpleExpSmoothing,ExponentialSmoothing\n",
    "from sklearn.metrics import mean_squared_error,r2_score, mean_absolute_error,mean_squared_log_error\n",
    "#Plotting and Visualizations\n",
    "import matplotlib.pyplot as plt\n",
    "import seaborn as sns\n",
    "!pip install plotly\n",
    "import plotly.express as px\n",
    "import plotly.graph_objects as go\n",
    "from plotly.subplots import make_subplots"
   ]
  },
  {
   "cell_type": "code",
   "execution_count": 60,
   "id": "03e094a0",
   "metadata": {},
   "outputs": [],
   "source": [
    "from pmdarima import auto_arima"
   ]
  },
  {
   "cell_type": "code",
   "execution_count": 61,
   "id": "73e0c0b0",
   "metadata": {},
   "outputs": [],
   "source": [
    "df=pd.read_excel(\"FinalDF.xlsx\")\n",
    "df=df.drop('Unnamed: 0',axis=1)\n",
    "df\n",
    "df.index = df['Date']\n"
   ]
  },
  {
   "cell_type": "code",
   "execution_count": 62,
   "id": "663bc4a2",
   "metadata": {},
   "outputs": [],
   "source": [
    "model_train=df.iloc[:int(df.shape[0]*0.80)]\n",
    "valid=df.iloc[int(df.shape[0]*0.80):]\n",
    "y_pred=valid.copy()"
   ]
  },
  {
   "cell_type": "code",
   "execution_count": 63,
   "id": "964c8784",
   "metadata": {},
   "outputs": [
    {
     "name": "stdout",
     "output_type": "stream",
     "text": [
      " ARIMA(0,1,0)(0,0,0)[0] intercept   : AIC=1927.557, Time=0.01 sec\n",
      " ARIMA(0,1,1)(0,0,0)[0] intercept   : AIC=1926.052, Time=0.07 sec\n",
      " ARIMA(0,1,2)(0,0,0)[0] intercept   : AIC=1928.044, Time=0.08 sec\n",
      " ARIMA(0,1,3)(0,0,0)[0] intercept   : AIC=1928.790, Time=0.15 sec\n",
      " ARIMA(1,1,0)(0,0,0)[0] intercept   : AIC=1926.149, Time=0.10 sec\n",
      " ARIMA(1,1,1)(0,0,0)[0] intercept   : AIC=1928.048, Time=0.13 sec\n",
      " ARIMA(1,1,2)(0,0,0)[0] intercept   : AIC=1929.460, Time=0.20 sec\n",
      " ARIMA(1,1,3)(0,0,0)[0] intercept   : AIC=1930.489, Time=0.21 sec\n",
      " ARIMA(2,1,0)(0,0,0)[0] intercept   : AIC=1927.921, Time=0.12 sec\n",
      " ARIMA(2,1,1)(0,0,0)[0] intercept   : AIC=1928.988, Time=0.20 sec\n",
      " ARIMA(2,1,2)(0,0,0)[0] intercept   : AIC=1930.650, Time=0.30 sec\n",
      " ARIMA(2,1,3)(0,0,0)[0] intercept   : AIC=1930.261, Time=0.40 sec\n",
      " ARIMA(3,1,0)(0,0,0)[0] intercept   : AIC=1928.552, Time=0.11 sec\n",
      " ARIMA(3,1,1)(0,0,0)[0] intercept   : AIC=1930.485, Time=0.28 sec\n",
      " ARIMA(3,1,2)(0,0,0)[0] intercept   : AIC=1930.167, Time=0.29 sec\n",
      "\n",
      "Best model:  ARIMA(0,1,1)(0,0,0)[0] intercept\n",
      "Total fit time: 2.676 seconds\n"
     ]
    },
    {
     "data": {
      "text/plain": [
       "ARIMA(order=(0, 1, 1), scoring_args={}, suppress_warnings=True)"
      ]
     },
     "execution_count": 63,
     "metadata": {},
     "output_type": "execute_result"
    }
   ],
   "source": [
    "model_scores_r2=[]\n",
    "model_scores_mse=[]\n",
    "model_scores_rmse=[]\n",
    "model_scores_mae=[]\n",
    "model_scores_rmsle=[]\n",
    "model_arima= auto_arima(model_train[\"Adj Close\"],trace=True, error_action='ignore', start_p=1,start_q=1,max_p=3,max_q=3,\n",
    "              suppress_warnings=True,stepwise=False,seasonal=False)\n",
    "model_arima.fit(model_train[\"Adj Close\"])"
   ]
  },
  {
   "cell_type": "code",
   "execution_count": 64,
   "id": "a5341c0e",
   "metadata": {},
   "outputs": [],
   "source": [
    "prediction_arima=model_arima.predict(len(valid))\n",
    "y_pred[\"ARIMA Model Prediction\"]=prediction_arima"
   ]
  },
  {
   "cell_type": "code",
   "execution_count": 65,
   "id": "b84cabb4",
   "metadata": {},
   "outputs": [
    {
     "data": {
      "text/html": [
       "<div>\n",
       "<style scoped>\n",
       "    .dataframe tbody tr th:only-of-type {\n",
       "        vertical-align: middle;\n",
       "    }\n",
       "\n",
       "    .dataframe tbody tr th {\n",
       "        vertical-align: top;\n",
       "    }\n",
       "\n",
       "    .dataframe thead th {\n",
       "        text-align: right;\n",
       "    }\n",
       "</style>\n",
       "<table border=\"1\" class=\"dataframe\">\n",
       "  <thead>\n",
       "    <tr style=\"text-align: right;\">\n",
       "      <th></th>\n",
       "      <th>Date</th>\n",
       "      <th>Summary</th>\n",
       "      <th>Negative</th>\n",
       "      <th>Positive</th>\n",
       "      <th>Neutral</th>\n",
       "      <th>Comp</th>\n",
       "      <th>Open</th>\n",
       "      <th>High</th>\n",
       "      <th>Low</th>\n",
       "      <th>Close</th>\n",
       "      <th>Adj Close</th>\n",
       "      <th>Volume</th>\n",
       "      <th>ARIMA Model Prediction</th>\n",
       "    </tr>\n",
       "    <tr>\n",
       "      <th>Date</th>\n",
       "      <th></th>\n",
       "      <th></th>\n",
       "      <th></th>\n",
       "      <th></th>\n",
       "      <th></th>\n",
       "      <th></th>\n",
       "      <th></th>\n",
       "      <th></th>\n",
       "      <th></th>\n",
       "      <th></th>\n",
       "      <th></th>\n",
       "      <th></th>\n",
       "      <th></th>\n",
       "    </tr>\n",
       "  </thead>\n",
       "  <tbody>\n",
       "    <tr>\n",
       "      <th>2021-10-29</th>\n",
       "      <td>2021-10-29</td>\n",
       "      <td>Sensex, Nifty Fall For Third Day In A Row Drag...</td>\n",
       "      <td>0.071000</td>\n",
       "      <td>0.095000</td>\n",
       "      <td>0.835000</td>\n",
       "      <td>0.771700</td>\n",
       "      <td>2596.149902</td>\n",
       "      <td>2596.149902</td>\n",
       "      <td>2501.699951</td>\n",
       "      <td>2536.250000</td>\n",
       "      <td>2536.250000</td>\n",
       "      <td>6568539</td>\n",
       "      <td>2598.698624</td>\n",
       "    </tr>\n",
       "    <tr>\n",
       "      <th>2021-11-01</th>\n",
       "      <td>2021-11-01</td>\n",
       "      <td>Stock Price Range for TD 02-Nov-2021 RELIANCE\\...</td>\n",
       "      <td>0.028000</td>\n",
       "      <td>0.107000</td>\n",
       "      <td>0.865000</td>\n",
       "      <td>0.883900</td>\n",
       "      <td>2536.250000</td>\n",
       "      <td>2556.000000</td>\n",
       "      <td>2494.100098</td>\n",
       "      <td>2537.800049</td>\n",
       "      <td>2537.800049</td>\n",
       "      <td>7144532</td>\n",
       "      <td>2602.347591</td>\n",
       "    </tr>\n",
       "    <tr>\n",
       "      <th>2021-11-02</th>\n",
       "      <td>2021-11-02</td>\n",
       "      <td>Stock market plunging as South Africa hails de...</td>\n",
       "      <td>0.044000</td>\n",
       "      <td>0.176000</td>\n",
       "      <td>0.780000</td>\n",
       "      <td>0.989900</td>\n",
       "      <td>2545.000000</td>\n",
       "      <td>2548.000000</td>\n",
       "      <td>2495.250000</td>\n",
       "      <td>2500.800049</td>\n",
       "      <td>2500.800049</td>\n",
       "      <td>4877652</td>\n",
       "      <td>2605.996559</td>\n",
       "    </tr>\n",
       "    <tr>\n",
       "      <th>2021-11-03</th>\n",
       "      <td>2021-11-03</td>\n",
       "      <td>All that fear created from outside noise for y...</td>\n",
       "      <td>0.122000</td>\n",
       "      <td>0.104000</td>\n",
       "      <td>0.773000</td>\n",
       "      <td>-0.676400</td>\n",
       "      <td>2506.050049</td>\n",
       "      <td>2520.000000</td>\n",
       "      <td>2461.000000</td>\n",
       "      <td>2483.600098</td>\n",
       "      <td>2483.600098</td>\n",
       "      <td>5533120</td>\n",
       "      <td>2609.645526</td>\n",
       "    </tr>\n",
       "    <tr>\n",
       "      <th>2021-11-04</th>\n",
       "      <td>2021-11-04</td>\n",
       "      <td>My MuhuratTrading additions today for long ter...</td>\n",
       "      <td>0.000000</td>\n",
       "      <td>0.088000</td>\n",
       "      <td>0.912000</td>\n",
       "      <td>0.439100</td>\n",
       "      <td>2492.949951</td>\n",
       "      <td>2504.899902</td>\n",
       "      <td>2490.000000</td>\n",
       "      <td>2498.850098</td>\n",
       "      <td>2498.850098</td>\n",
       "      <td>787160</td>\n",
       "      <td>2613.294494</td>\n",
       "    </tr>\n",
       "    <tr>\n",
       "      <th>2021-11-08</th>\n",
       "      <td>2021-11-08</td>\n",
       "      <td>MUMBAI: Reliance Eagleford Upstream Holding, L...</td>\n",
       "      <td>0.054000</td>\n",
       "      <td>0.163000</td>\n",
       "      <td>0.783000</td>\n",
       "      <td>0.992200</td>\n",
       "      <td>2519.399902</td>\n",
       "      <td>2520.000000</td>\n",
       "      <td>2456.399902</td>\n",
       "      <td>2501.949951</td>\n",
       "      <td>2501.949951</td>\n",
       "      <td>9385607</td>\n",
       "      <td>2616.943461</td>\n",
       "    </tr>\n",
       "    <tr>\n",
       "      <th>2021-11-09</th>\n",
       "      <td>2021-11-09</td>\n",
       "      <td>Stock Price Range for TD 10-Nov-2021 RELIANCE\\...</td>\n",
       "      <td>0.065000</td>\n",
       "      <td>0.087000</td>\n",
       "      <td>0.848000</td>\n",
       "      <td>0.835600</td>\n",
       "      <td>2505.000000</td>\n",
       "      <td>2528.899902</td>\n",
       "      <td>2487.050049</td>\n",
       "      <td>2521.699951</td>\n",
       "      <td>2521.699951</td>\n",
       "      <td>7237470</td>\n",
       "      <td>2620.592429</td>\n",
       "    </tr>\n",
       "    <tr>\n",
       "      <th>2021-11-10</th>\n",
       "      <td>2021-11-10</td>\n",
       "      <td>Stock Price Range for TD 11-Nov-2021 RELIANCE\\...</td>\n",
       "      <td>0.135000</td>\n",
       "      <td>0.026000</td>\n",
       "      <td>0.839000</td>\n",
       "      <td>-0.851900</td>\n",
       "      <td>2516.699951</td>\n",
       "      <td>2558.000000</td>\n",
       "      <td>2503.649902</td>\n",
       "      <td>2549.899902</td>\n",
       "      <td>2549.899902</td>\n",
       "      <td>4731975</td>\n",
       "      <td>2624.241396</td>\n",
       "    </tr>\n",
       "    <tr>\n",
       "      <th>2021-11-11</th>\n",
       "      <td>2021-11-11</td>\n",
       "      <td>Almost a decade this stock almost no return. \\...</td>\n",
       "      <td>0.055000</td>\n",
       "      <td>0.174000</td>\n",
       "      <td>0.770000</td>\n",
       "      <td>0.986800</td>\n",
       "      <td>2540.050049</td>\n",
       "      <td>2570.500000</td>\n",
       "      <td>2535.550049</td>\n",
       "      <td>2554.550049</td>\n",
       "      <td>2554.550049</td>\n",
       "      <td>4948422</td>\n",
       "      <td>2627.890363</td>\n",
       "    </tr>\n",
       "    <tr>\n",
       "      <th>2021-11-12</th>\n",
       "      <td>2021-11-12</td>\n",
       "      <td>I clicked on a news article of Reliance buying...</td>\n",
       "      <td>0.044000</td>\n",
       "      <td>0.067000</td>\n",
       "      <td>0.888000</td>\n",
       "      <td>0.817600</td>\n",
       "      <td>2562.899902</td>\n",
       "      <td>2598.750000</td>\n",
       "      <td>2557.000000</td>\n",
       "      <td>2593.100098</td>\n",
       "      <td>2593.100098</td>\n",
       "      <td>4020744</td>\n",
       "      <td>2631.539331</td>\n",
       "    </tr>\n",
       "    <tr>\n",
       "      <th>2021-11-15</th>\n",
       "      <td>2021-11-15</td>\n",
       "      <td>Sensex, Nifty End Flat; ITC, Kotak Bank Gain, ...</td>\n",
       "      <td>0.025000</td>\n",
       "      <td>0.121000</td>\n",
       "      <td>0.854000</td>\n",
       "      <td>0.851900</td>\n",
       "      <td>2600.000000</td>\n",
       "      <td>2602.199951</td>\n",
       "      <td>2570.000000</td>\n",
       "      <td>2577.800049</td>\n",
       "      <td>2577.800049</td>\n",
       "      <td>2216708</td>\n",
       "      <td>2635.188298</td>\n",
       "    </tr>\n",
       "    <tr>\n",
       "      <th>2021-11-16</th>\n",
       "      <td>2021-11-16</td>\n",
       "      <td>Closing of Reliance Industries below 2500 is v...</td>\n",
       "      <td>0.156000</td>\n",
       "      <td>0.124000</td>\n",
       "      <td>0.721000</td>\n",
       "      <td>-0.836600</td>\n",
       "      <td>2572.050049</td>\n",
       "      <td>2575.000000</td>\n",
       "      <td>2495.000000</td>\n",
       "      <td>2517.899902</td>\n",
       "      <td>2517.899902</td>\n",
       "      <td>5232292</td>\n",
       "      <td>2638.837266</td>\n",
       "    </tr>\n",
       "    <tr>\n",
       "      <th>2021-11-17</th>\n",
       "      <td>2021-11-17</td>\n",
       "      <td>Performance of all selected stocks,\\n 📉📈\\n1. T...</td>\n",
       "      <td>0.072000</td>\n",
       "      <td>0.119000</td>\n",
       "      <td>0.810000</td>\n",
       "      <td>0.865800</td>\n",
       "      <td>2498.949951</td>\n",
       "      <td>2498.949951</td>\n",
       "      <td>2461.000000</td>\n",
       "      <td>2464.000000</td>\n",
       "      <td>2464.000000</td>\n",
       "      <td>4708235</td>\n",
       "      <td>2642.486233</td>\n",
       "    </tr>\n",
       "    <tr>\n",
       "      <th>2021-11-18</th>\n",
       "      <td>2021-11-18</td>\n",
       "      <td>Rakesh Stock\\nMeans\\nR - Reliance industries L...</td>\n",
       "      <td>0.042000</td>\n",
       "      <td>0.137000</td>\n",
       "      <td>0.821000</td>\n",
       "      <td>0.982300</td>\n",
       "      <td>2460.000000</td>\n",
       "      <td>2489.000000</td>\n",
       "      <td>2450.050049</td>\n",
       "      <td>2473.300049</td>\n",
       "      <td>2473.300049</td>\n",
       "      <td>3925345</td>\n",
       "      <td>2646.135201</td>\n",
       "    </tr>\n",
       "    <tr>\n",
       "      <th>2021-11-22</th>\n",
       "      <td>2021-11-22</td>\n",
       "      <td>I am just Laughing on the people \\n\\nWho selli...</td>\n",
       "      <td>0.081000</td>\n",
       "      <td>0.123000</td>\n",
       "      <td>0.796000</td>\n",
       "      <td>0.990800</td>\n",
       "      <td>2436.100098</td>\n",
       "      <td>2449.000000</td>\n",
       "      <td>2351.000000</td>\n",
       "      <td>2363.750000</td>\n",
       "      <td>2363.750000</td>\n",
       "      <td>11133364</td>\n",
       "      <td>2649.784168</td>\n",
       "    </tr>\n",
       "    <tr>\n",
       "      <th>2021-11-23</th>\n",
       "      <td>2021-11-23</td>\n",
       "      <td>Tech detached Ambani and Adani face losses wit...</td>\n",
       "      <td>0.110000</td>\n",
       "      <td>0.103000</td>\n",
       "      <td>0.787000</td>\n",
       "      <td>-0.935600</td>\n",
       "      <td>2333.050049</td>\n",
       "      <td>2401.250000</td>\n",
       "      <td>2309.000000</td>\n",
       "      <td>2385.850098</td>\n",
       "      <td>2385.850098</td>\n",
       "      <td>11688406</td>\n",
       "      <td>2653.433136</td>\n",
       "    </tr>\n",
       "    <tr>\n",
       "      <th>2021-11-24</th>\n",
       "      <td>2021-11-24</td>\n",
       "      <td>Sensex, Nifty Resume Decline After A Day's Pau...</td>\n",
       "      <td>0.119000</td>\n",
       "      <td>0.102000</td>\n",
       "      <td>0.779000</td>\n",
       "      <td>-0.426800</td>\n",
       "      <td>2380.000000</td>\n",
       "      <td>2409.899902</td>\n",
       "      <td>2343.550049</td>\n",
       "      <td>2351.399902</td>\n",
       "      <td>2351.399902</td>\n",
       "      <td>7762564</td>\n",
       "      <td>2657.082103</td>\n",
       "    </tr>\n",
       "    <tr>\n",
       "      <th>2021-11-25</th>\n",
       "      <td>2021-11-25</td>\n",
       "      <td>I'm the reliance of stock getting laid, certai...</td>\n",
       "      <td>0.055000</td>\n",
       "      <td>0.140000</td>\n",
       "      <td>0.805000</td>\n",
       "      <td>0.997900</td>\n",
       "      <td>2373.000000</td>\n",
       "      <td>2502.000000</td>\n",
       "      <td>2357.149902</td>\n",
       "      <td>2492.949951</td>\n",
       "      <td>2492.949951</td>\n",
       "      <td>19568487</td>\n",
       "      <td>2660.731071</td>\n",
       "    </tr>\n",
       "    <tr>\n",
       "      <th>2021-11-26</th>\n",
       "      <td>2021-11-26</td>\n",
       "      <td>nifty50  banknifty  stock sbi ICICI HDFC Relia...</td>\n",
       "      <td>0.000000</td>\n",
       "      <td>0.074000</td>\n",
       "      <td>0.926000</td>\n",
       "      <td>0.922000</td>\n",
       "      <td>2467.800049</td>\n",
       "      <td>2477.600098</td>\n",
       "      <td>2401.500000</td>\n",
       "      <td>2412.600098</td>\n",
       "      <td>2412.600098</td>\n",
       "      <td>7274686</td>\n",
       "      <td>2664.380038</td>\n",
       "    </tr>\n",
       "    <tr>\n",
       "      <th>2021-11-29</th>\n",
       "      <td>2021-11-29</td>\n",
       "      <td>BT Shares Shed Gains After Reliance Denies Bid...</td>\n",
       "      <td>0.053000</td>\n",
       "      <td>0.184000</td>\n",
       "      <td>0.763000</td>\n",
       "      <td>0.998000</td>\n",
       "      <td>2439.100098</td>\n",
       "      <td>2500.000000</td>\n",
       "      <td>2399.100098</td>\n",
       "      <td>2441.500000</td>\n",
       "      <td>2441.500000</td>\n",
       "      <td>11226147</td>\n",
       "      <td>2668.029005</td>\n",
       "    </tr>\n",
       "    <tr>\n",
       "      <th>2021-11-30</th>\n",
       "      <td>2021-11-30</td>\n",
       "      <td>RELIANCE CAPITAL: \\nRBI SAYS APPOINTS AN ADVIS...</td>\n",
       "      <td>0.000000</td>\n",
       "      <td>0.073000</td>\n",
       "      <td>0.927000</td>\n",
       "      <td>0.904200</td>\n",
       "      <td>2468.000000</td>\n",
       "      <td>2475.899902</td>\n",
       "      <td>2388.850098</td>\n",
       "      <td>2405.399902</td>\n",
       "      <td>2405.399902</td>\n",
       "      <td>14847511</td>\n",
       "      <td>2671.677973</td>\n",
       "    </tr>\n",
       "    <tr>\n",
       "      <th>2021-12-01</th>\n",
       "      <td>2021-12-01</td>\n",
       "      <td>Sensex, Nifty Surge On Strong September Quarte...</td>\n",
       "      <td>0.013000</td>\n",
       "      <td>0.137000</td>\n",
       "      <td>0.850000</td>\n",
       "      <td>0.915300</td>\n",
       "      <td>2433.000000</td>\n",
       "      <td>2474.000000</td>\n",
       "      <td>2425.100098</td>\n",
       "      <td>2467.000000</td>\n",
       "      <td>2467.000000</td>\n",
       "      <td>4663276</td>\n",
       "      <td>2675.326940</td>\n",
       "    </tr>\n",
       "    <tr>\n",
       "      <th>2021-12-02</th>\n",
       "      <td>2021-12-02</td>\n",
       "      <td>Companies Working On 5G Technologies In India\\...</td>\n",
       "      <td>0.000000</td>\n",
       "      <td>0.084000</td>\n",
       "      <td>0.916000</td>\n",
       "      <td>0.690800</td>\n",
       "      <td>2469.699951</td>\n",
       "      <td>2496.199951</td>\n",
       "      <td>2461.600098</td>\n",
       "      <td>2482.850098</td>\n",
       "      <td>2482.850098</td>\n",
       "      <td>5870468</td>\n",
       "      <td>2678.975908</td>\n",
       "    </tr>\n",
       "    <tr>\n",
       "      <th>2021-12-03</th>\n",
       "      <td>2021-12-03</td>\n",
       "      <td>Ex minister in wajpayee government shastri are...</td>\n",
       "      <td>0.054000</td>\n",
       "      <td>0.124000</td>\n",
       "      <td>0.821000</td>\n",
       "      <td>0.965900</td>\n",
       "      <td>2498.399902</td>\n",
       "      <td>2498.500000</td>\n",
       "      <td>2400.000000</td>\n",
       "      <td>2408.250000</td>\n",
       "      <td>2408.250000</td>\n",
       "      <td>8871172</td>\n",
       "      <td>2682.624875</td>\n",
       "    </tr>\n",
       "    <tr>\n",
       "      <th>2021-12-06</th>\n",
       "      <td>2021-12-06</td>\n",
       "      <td>Good one rail union, striking after two years ...</td>\n",
       "      <td>0.058000</td>\n",
       "      <td>0.090000</td>\n",
       "      <td>0.853000</td>\n",
       "      <td>0.686800</td>\n",
       "      <td>2416.000000</td>\n",
       "      <td>2425.000000</td>\n",
       "      <td>2357.149902</td>\n",
       "      <td>2362.600098</td>\n",
       "      <td>2362.600098</td>\n",
       "      <td>4768334</td>\n",
       "      <td>2686.273843</td>\n",
       "    </tr>\n",
       "    <tr>\n",
       "      <th>2021-12-07</th>\n",
       "      <td>2021-12-07</td>\n",
       "      <td>Abu Dhabi Chemical Company, Reliance Form $2 B...</td>\n",
       "      <td>0.016000</td>\n",
       "      <td>0.122000</td>\n",
       "      <td>0.862000</td>\n",
       "      <td>0.916900</td>\n",
       "      <td>2376.149902</td>\n",
       "      <td>2404.000000</td>\n",
       "      <td>2360.000000</td>\n",
       "      <td>2381.850098</td>\n",
       "      <td>2381.850098</td>\n",
       "      <td>5185007</td>\n",
       "      <td>2689.922810</td>\n",
       "    </tr>\n",
       "    <tr>\n",
       "      <th>2021-12-08</th>\n",
       "      <td>2021-12-08</td>\n",
       "      <td>Sensex Rises Over 1,000 Points After RBI Holds...</td>\n",
       "      <td>0.011000</td>\n",
       "      <td>0.071000</td>\n",
       "      <td>0.918000</td>\n",
       "      <td>0.840200</td>\n",
       "      <td>2424.100098</td>\n",
       "      <td>2431.800049</td>\n",
       "      <td>2406.300049</td>\n",
       "      <td>2418.100098</td>\n",
       "      <td>2418.100098</td>\n",
       "      <td>4035437</td>\n",
       "      <td>2693.571778</td>\n",
       "    </tr>\n",
       "    <tr>\n",
       "      <th>2021-12-09</th>\n",
       "      <td>2021-12-09</td>\n",
       "      <td>One thing that’s been bothering me is the gov ...</td>\n",
       "      <td>0.060000</td>\n",
       "      <td>0.131000</td>\n",
       "      <td>0.809000</td>\n",
       "      <td>0.979700</td>\n",
       "      <td>2435.000000</td>\n",
       "      <td>2474.899902</td>\n",
       "      <td>2425.000000</td>\n",
       "      <td>2456.449951</td>\n",
       "      <td>2456.449951</td>\n",
       "      <td>6098050</td>\n",
       "      <td>2697.220745</td>\n",
       "    </tr>\n",
       "    <tr>\n",
       "      <th>2021-12-10</th>\n",
       "      <td>2021-12-10</td>\n",
       "      <td>I fail to understand people who claim investin...</td>\n",
       "      <td>0.056000</td>\n",
       "      <td>0.231000</td>\n",
       "      <td>0.713000</td>\n",
       "      <td>0.989100</td>\n",
       "      <td>2440.250000</td>\n",
       "      <td>2466.000000</td>\n",
       "      <td>2430.350098</td>\n",
       "      <td>2458.949951</td>\n",
       "      <td>2458.949951</td>\n",
       "      <td>3860176</td>\n",
       "      <td>2700.869713</td>\n",
       "    </tr>\n",
       "    <tr>\n",
       "      <th>2021-12-13</th>\n",
       "      <td>2021-12-13</td>\n",
       "      <td>RelianceJio cmp 2430 sl 2540 till time sell on...</td>\n",
       "      <td>0.077000</td>\n",
       "      <td>0.128000</td>\n",
       "      <td>0.794000</td>\n",
       "      <td>0.974300</td>\n",
       "      <td>2473.500000</td>\n",
       "      <td>2474.100098</td>\n",
       "      <td>2404.000000</td>\n",
       "      <td>2409.649902</td>\n",
       "      <td>2409.649902</td>\n",
       "      <td>5954148</td>\n",
       "      <td>2704.518680</td>\n",
       "    </tr>\n",
       "    <tr>\n",
       "      <th>2021-12-14</th>\n",
       "      <td>2021-12-14</td>\n",
       "      <td>my 'hunch' says ~ 2022 is the only year we see...</td>\n",
       "      <td>0.041000</td>\n",
       "      <td>0.114000</td>\n",
       "      <td>0.845000</td>\n",
       "      <td>0.918600</td>\n",
       "      <td>2380.000000</td>\n",
       "      <td>2406.000000</td>\n",
       "      <td>2373.399902</td>\n",
       "      <td>2380.149902</td>\n",
       "      <td>2380.149902</td>\n",
       "      <td>5995586</td>\n",
       "      <td>2708.167648</td>\n",
       "    </tr>\n",
       "    <tr>\n",
       "      <th>2021-12-15</th>\n",
       "      <td>2021-12-15</td>\n",
       "      <td>HUL\\nHDFC Life\\nICICI Lombard\\nKotak Bank\\n\\nH...</td>\n",
       "      <td>0.031000</td>\n",
       "      <td>0.078000</td>\n",
       "      <td>0.890000</td>\n",
       "      <td>0.763900</td>\n",
       "      <td>2384.000000</td>\n",
       "      <td>2405.000000</td>\n",
       "      <td>2361.100098</td>\n",
       "      <td>2373.199951</td>\n",
       "      <td>2373.199951</td>\n",
       "      <td>4322855</td>\n",
       "      <td>2711.816615</td>\n",
       "    </tr>\n",
       "    <tr>\n",
       "      <th>2021-12-16</th>\n",
       "      <td>2021-12-16</td>\n",
       "      <td>Sensex, Nifty Snap Four-Day Losing Streak Led ...</td>\n",
       "      <td>0.033000</td>\n",
       "      <td>0.110000</td>\n",
       "      <td>0.857000</td>\n",
       "      <td>0.937100</td>\n",
       "      <td>2405.699951</td>\n",
       "      <td>2415.500000</td>\n",
       "      <td>2368.649902</td>\n",
       "      <td>2403.899902</td>\n",
       "      <td>2403.899902</td>\n",
       "      <td>4504829</td>\n",
       "      <td>2715.465582</td>\n",
       "    </tr>\n",
       "    <tr>\n",
       "      <th>2021-12-17</th>\n",
       "      <td>2021-12-17</td>\n",
       "      <td>🔥 STOCK IN FOCUS 🔥\\n\\nFRETAIL Future Retail Lt...</td>\n",
       "      <td>0.014000</td>\n",
       "      <td>0.118000</td>\n",
       "      <td>0.869000</td>\n",
       "      <td>0.831600</td>\n",
       "      <td>2398.050049</td>\n",
       "      <td>2408.000000</td>\n",
       "      <td>2320.000000</td>\n",
       "      <td>2340.449951</td>\n",
       "      <td>2340.449951</td>\n",
       "      <td>9714489</td>\n",
       "      <td>2719.114550</td>\n",
       "    </tr>\n",
       "    <tr>\n",
       "      <th>2021-12-20</th>\n",
       "      <td>2021-12-20</td>\n",
       "      <td>Conglomerates such as Tata group, Reliance Ind...</td>\n",
       "      <td>0.033000</td>\n",
       "      <td>0.114000</td>\n",
       "      <td>0.853000</td>\n",
       "      <td>0.998200</td>\n",
       "      <td>2317.850098</td>\n",
       "      <td>2317.850098</td>\n",
       "      <td>2247.100098</td>\n",
       "      <td>2277.350098</td>\n",
       "      <td>2277.350098</td>\n",
       "      <td>6611376</td>\n",
       "      <td>2722.763517</td>\n",
       "    </tr>\n",
       "    <tr>\n",
       "      <th>2021-12-21</th>\n",
       "      <td>2021-12-21</td>\n",
       "      <td>Companies acquired by Reliance Industries in r...</td>\n",
       "      <td>0.010000</td>\n",
       "      <td>0.103000</td>\n",
       "      <td>0.887000</td>\n",
       "      <td>0.951700</td>\n",
       "      <td>2311.350098</td>\n",
       "      <td>2346.000000</td>\n",
       "      <td>2292.199951</td>\n",
       "      <td>2311.250000</td>\n",
       "      <td>2311.250000</td>\n",
       "      <td>5924071</td>\n",
       "      <td>2726.412485</td>\n",
       "    </tr>\n",
       "    <tr>\n",
       "      <th>2021-12-22</th>\n",
       "      <td>2021-12-22</td>\n",
       "      <td>After nifty stock movement to start from Tom. ...</td>\n",
       "      <td>0.024000</td>\n",
       "      <td>0.106000</td>\n",
       "      <td>0.869000</td>\n",
       "      <td>0.966100</td>\n",
       "      <td>2324.899902</td>\n",
       "      <td>2371.899902</td>\n",
       "      <td>2322.000000</td>\n",
       "      <td>2366.100098</td>\n",
       "      <td>2366.100098</td>\n",
       "      <td>8149415</td>\n",
       "      <td>2730.061452</td>\n",
       "    </tr>\n",
       "    <tr>\n",
       "      <th>2021-12-23</th>\n",
       "      <td>2021-12-23</td>\n",
       "      <td>7 Stocks with Biggest Cash Reserves &amp;amp; Low ...</td>\n",
       "      <td>0.107000</td>\n",
       "      <td>0.000000</td>\n",
       "      <td>0.893000</td>\n",
       "      <td>-0.693100</td>\n",
       "      <td>2374.000000</td>\n",
       "      <td>2380.000000</td>\n",
       "      <td>2358.050049</td>\n",
       "      <td>2365.250000</td>\n",
       "      <td>2365.250000</td>\n",
       "      <td>4186912</td>\n",
       "      <td>2733.710420</td>\n",
       "    </tr>\n",
       "    <tr>\n",
       "      <th>2021-12-24</th>\n",
       "      <td>2021-12-24</td>\n",
       "      <td>7 Stocks with Biggest Cash Reserves &amp;amp; Low ...</td>\n",
       "      <td>0.064000</td>\n",
       "      <td>0.102000</td>\n",
       "      <td>0.834000</td>\n",
       "      <td>0.878800</td>\n",
       "      <td>2370.000000</td>\n",
       "      <td>2392.000000</td>\n",
       "      <td>2337.550049</td>\n",
       "      <td>2372.800049</td>\n",
       "      <td>2372.800049</td>\n",
       "      <td>3639616</td>\n",
       "      <td>2737.359387</td>\n",
       "    </tr>\n",
       "    <tr>\n",
       "      <th>2021-12-27</th>\n",
       "      <td>2021-12-27</td>\n",
       "      <td>Reliance Industries chairman Mukesh Ambani has...</td>\n",
       "      <td>0.039000</td>\n",
       "      <td>0.127000</td>\n",
       "      <td>0.834000</td>\n",
       "      <td>0.999800</td>\n",
       "      <td>2361.550049</td>\n",
       "      <td>2378.000000</td>\n",
       "      <td>2348.100098</td>\n",
       "      <td>2370.250000</td>\n",
       "      <td>2370.250000</td>\n",
       "      <td>1853948</td>\n",
       "      <td>2741.008355</td>\n",
       "    </tr>\n",
       "    <tr>\n",
       "      <th>2021-12-28</th>\n",
       "      <td>2021-12-28</td>\n",
       "      <td>Reliance Industries or say any listed company,...</td>\n",
       "      <td>0.021000</td>\n",
       "      <td>0.138000</td>\n",
       "      <td>0.841000</td>\n",
       "      <td>0.900100</td>\n",
       "      <td>2375.600098</td>\n",
       "      <td>2404.850098</td>\n",
       "      <td>2373.050049</td>\n",
       "      <td>2398.399902</td>\n",
       "      <td>2398.399902</td>\n",
       "      <td>2941883</td>\n",
       "      <td>2744.657322</td>\n",
       "    </tr>\n",
       "    <tr>\n",
       "      <th>2021-12-29</th>\n",
       "      <td>2021-12-29</td>\n",
       "      <td>Reliance (CMP 2402) KOTAKBANK (CMP 1764)\\nColp...</td>\n",
       "      <td>0.000000</td>\n",
       "      <td>0.048000</td>\n",
       "      <td>0.952000</td>\n",
       "      <td>0.401900</td>\n",
       "      <td>2391.000000</td>\n",
       "      <td>2419.000000</td>\n",
       "      <td>2382.100098</td>\n",
       "      <td>2402.500000</td>\n",
       "      <td>2402.500000</td>\n",
       "      <td>7118779</td>\n",
       "      <td>2748.306290</td>\n",
       "    </tr>\n",
       "    <tr>\n",
       "      <th>2021-12-30</th>\n",
       "      <td>2021-12-30</td>\n",
       "      <td>Sterling And Wilson: To allot 2.93 cr shares t...</td>\n",
       "      <td>0.056000</td>\n",
       "      <td>0.134000</td>\n",
       "      <td>0.809000</td>\n",
       "      <td>0.901500</td>\n",
       "      <td>2400.000000</td>\n",
       "      <td>2404.949951</td>\n",
       "      <td>2345.600098</td>\n",
       "      <td>2359.100098</td>\n",
       "      <td>2359.100098</td>\n",
       "      <td>13537254</td>\n",
       "      <td>2751.955257</td>\n",
       "    </tr>\n",
       "    <tr>\n",
       "      <th>2021-12-31</th>\n",
       "      <td>2021-12-31</td>\n",
       "      <td>In stock market always a heard mentality every...</td>\n",
       "      <td>0.061000</td>\n",
       "      <td>0.091000</td>\n",
       "      <td>0.848000</td>\n",
       "      <td>0.669700</td>\n",
       "      <td>2373.000000</td>\n",
       "      <td>2383.899902</td>\n",
       "      <td>2360.000000</td>\n",
       "      <td>2368.149902</td>\n",
       "      <td>2368.149902</td>\n",
       "      <td>4373768</td>\n",
       "      <td>2755.604225</td>\n",
       "    </tr>\n",
       "    <tr>\n",
       "      <th>2022-01-03</th>\n",
       "      <td>2022-01-03</td>\n",
       "      <td>MUMBAI: The government is likely to value Life...</td>\n",
       "      <td>0.024000</td>\n",
       "      <td>0.092000</td>\n",
       "      <td>0.883000</td>\n",
       "      <td>0.999300</td>\n",
       "      <td>2365.000000</td>\n",
       "      <td>2407.949951</td>\n",
       "      <td>2363.550049</td>\n",
       "      <td>2403.850098</td>\n",
       "      <td>2403.850098</td>\n",
       "      <td>2502073</td>\n",
       "      <td>2759.253192</td>\n",
       "    </tr>\n",
       "    <tr>\n",
       "      <th>2022-01-04</th>\n",
       "      <td>2022-01-04</td>\n",
       "      <td>Nifty formed a bottom at 16600 on Dec 20, 2021...</td>\n",
       "      <td>0.000000</td>\n",
       "      <td>0.040000</td>\n",
       "      <td>0.960000</td>\n",
       "      <td>0.790600</td>\n",
       "      <td>2415.899902</td>\n",
       "      <td>2461.000000</td>\n",
       "      <td>2404.000000</td>\n",
       "      <td>2458.100098</td>\n",
       "      <td>2458.100098</td>\n",
       "      <td>5006225</td>\n",
       "      <td>2762.902159</td>\n",
       "    </tr>\n",
       "    <tr>\n",
       "      <th>2022-01-05</th>\n",
       "      <td>2022-01-05</td>\n",
       "      <td>The matter was being heard by Chief Justice DN...</td>\n",
       "      <td>0.020000</td>\n",
       "      <td>0.120000</td>\n",
       "      <td>0.860000</td>\n",
       "      <td>0.990100</td>\n",
       "      <td>2462.000000</td>\n",
       "      <td>2477.000000</td>\n",
       "      <td>2432.949951</td>\n",
       "      <td>2469.600098</td>\n",
       "      <td>2469.600098</td>\n",
       "      <td>5373618</td>\n",
       "      <td>2766.551127</td>\n",
       "    </tr>\n",
       "    <tr>\n",
       "      <th>2022-01-06</th>\n",
       "      <td>2022-01-06</td>\n",
       "      <td>Shapoorji Pallonji on Thursday sold 1,84,00,00...</td>\n",
       "      <td>0.032000</td>\n",
       "      <td>0.092000</td>\n",
       "      <td>0.875000</td>\n",
       "      <td>0.999400</td>\n",
       "      <td>2451.199951</td>\n",
       "      <td>2454.000000</td>\n",
       "      <td>2409.000000</td>\n",
       "      <td>2416.500000</td>\n",
       "      <td>2416.500000</td>\n",
       "      <td>6667483</td>\n",
       "      <td>2770.200094</td>\n",
       "    </tr>\n",
       "    <tr>\n",
       "      <th>2022-01-07</th>\n",
       "      <td>2022-01-07</td>\n",
       "      <td>Reliance Industries, the Indian conglomerate c...</td>\n",
       "      <td>0.016000</td>\n",
       "      <td>0.107000</td>\n",
       "      <td>0.877000</td>\n",
       "      <td>0.998900</td>\n",
       "      <td>2430.949951</td>\n",
       "      <td>2458.050049</td>\n",
       "      <td>2411.550049</td>\n",
       "      <td>2436.000000</td>\n",
       "      <td>2436.000000</td>\n",
       "      <td>6051239</td>\n",
       "      <td>2773.849062</td>\n",
       "    </tr>\n",
       "  </tbody>\n",
       "</table>\n",
       "</div>"
      ],
      "text/plain": [
       "                 Date                                            Summary  \\\n",
       "Date                                                                       \n",
       "2021-10-29 2021-10-29  Sensex, Nifty Fall For Third Day In A Row Drag...   \n",
       "2021-11-01 2021-11-01  Stock Price Range for TD 02-Nov-2021 RELIANCE\\...   \n",
       "2021-11-02 2021-11-02  Stock market plunging as South Africa hails de...   \n",
       "2021-11-03 2021-11-03  All that fear created from outside noise for y...   \n",
       "2021-11-04 2021-11-04  My MuhuratTrading additions today for long ter...   \n",
       "2021-11-08 2021-11-08  MUMBAI: Reliance Eagleford Upstream Holding, L...   \n",
       "2021-11-09 2021-11-09  Stock Price Range for TD 10-Nov-2021 RELIANCE\\...   \n",
       "2021-11-10 2021-11-10  Stock Price Range for TD 11-Nov-2021 RELIANCE\\...   \n",
       "2021-11-11 2021-11-11  Almost a decade this stock almost no return. \\...   \n",
       "2021-11-12 2021-11-12  I clicked on a news article of Reliance buying...   \n",
       "2021-11-15 2021-11-15  Sensex, Nifty End Flat; ITC, Kotak Bank Gain, ...   \n",
       "2021-11-16 2021-11-16  Closing of Reliance Industries below 2500 is v...   \n",
       "2021-11-17 2021-11-17  Performance of all selected stocks,\\n 📉📈\\n1. T...   \n",
       "2021-11-18 2021-11-18  Rakesh Stock\\nMeans\\nR - Reliance industries L...   \n",
       "2021-11-22 2021-11-22  I am just Laughing on the people \\n\\nWho selli...   \n",
       "2021-11-23 2021-11-23  Tech detached Ambani and Adani face losses wit...   \n",
       "2021-11-24 2021-11-24  Sensex, Nifty Resume Decline After A Day's Pau...   \n",
       "2021-11-25 2021-11-25  I'm the reliance of stock getting laid, certai...   \n",
       "2021-11-26 2021-11-26  nifty50  banknifty  stock sbi ICICI HDFC Relia...   \n",
       "2021-11-29 2021-11-29  BT Shares Shed Gains After Reliance Denies Bid...   \n",
       "2021-11-30 2021-11-30  RELIANCE CAPITAL: \\nRBI SAYS APPOINTS AN ADVIS...   \n",
       "2021-12-01 2021-12-01  Sensex, Nifty Surge On Strong September Quarte...   \n",
       "2021-12-02 2021-12-02  Companies Working On 5G Technologies In India\\...   \n",
       "2021-12-03 2021-12-03  Ex minister in wajpayee government shastri are...   \n",
       "2021-12-06 2021-12-06  Good one rail union, striking after two years ...   \n",
       "2021-12-07 2021-12-07  Abu Dhabi Chemical Company, Reliance Form $2 B...   \n",
       "2021-12-08 2021-12-08  Sensex Rises Over 1,000 Points After RBI Holds...   \n",
       "2021-12-09 2021-12-09  One thing that’s been bothering me is the gov ...   \n",
       "2021-12-10 2021-12-10  I fail to understand people who claim investin...   \n",
       "2021-12-13 2021-12-13  RelianceJio cmp 2430 sl 2540 till time sell on...   \n",
       "2021-12-14 2021-12-14  my 'hunch' says ~ 2022 is the only year we see...   \n",
       "2021-12-15 2021-12-15  HUL\\nHDFC Life\\nICICI Lombard\\nKotak Bank\\n\\nH...   \n",
       "2021-12-16 2021-12-16  Sensex, Nifty Snap Four-Day Losing Streak Led ...   \n",
       "2021-12-17 2021-12-17  🔥 STOCK IN FOCUS 🔥\\n\\nFRETAIL Future Retail Lt...   \n",
       "2021-12-20 2021-12-20  Conglomerates such as Tata group, Reliance Ind...   \n",
       "2021-12-21 2021-12-21  Companies acquired by Reliance Industries in r...   \n",
       "2021-12-22 2021-12-22  After nifty stock movement to start from Tom. ...   \n",
       "2021-12-23 2021-12-23  7 Stocks with Biggest Cash Reserves &amp; Low ...   \n",
       "2021-12-24 2021-12-24  7 Stocks with Biggest Cash Reserves &amp; Low ...   \n",
       "2021-12-27 2021-12-27  Reliance Industries chairman Mukesh Ambani has...   \n",
       "2021-12-28 2021-12-28  Reliance Industries or say any listed company,...   \n",
       "2021-12-29 2021-12-29  Reliance (CMP 2402) KOTAKBANK (CMP 1764)\\nColp...   \n",
       "2021-12-30 2021-12-30  Sterling And Wilson: To allot 2.93 cr shares t...   \n",
       "2021-12-31 2021-12-31  In stock market always a heard mentality every...   \n",
       "2022-01-03 2022-01-03  MUMBAI: The government is likely to value Life...   \n",
       "2022-01-04 2022-01-04  Nifty formed a bottom at 16600 on Dec 20, 2021...   \n",
       "2022-01-05 2022-01-05  The matter was being heard by Chief Justice DN...   \n",
       "2022-01-06 2022-01-06  Shapoorji Pallonji on Thursday sold 1,84,00,00...   \n",
       "2022-01-07 2022-01-07  Reliance Industries, the Indian conglomerate c...   \n",
       "\n",
       "            Negative  Positive  Neutral      Comp        Open        High  \\\n",
       "Date                                                                        \n",
       "2021-10-29  0.071000  0.095000 0.835000  0.771700 2596.149902 2596.149902   \n",
       "2021-11-01  0.028000  0.107000 0.865000  0.883900 2536.250000 2556.000000   \n",
       "2021-11-02  0.044000  0.176000 0.780000  0.989900 2545.000000 2548.000000   \n",
       "2021-11-03  0.122000  0.104000 0.773000 -0.676400 2506.050049 2520.000000   \n",
       "2021-11-04  0.000000  0.088000 0.912000  0.439100 2492.949951 2504.899902   \n",
       "2021-11-08  0.054000  0.163000 0.783000  0.992200 2519.399902 2520.000000   \n",
       "2021-11-09  0.065000  0.087000 0.848000  0.835600 2505.000000 2528.899902   \n",
       "2021-11-10  0.135000  0.026000 0.839000 -0.851900 2516.699951 2558.000000   \n",
       "2021-11-11  0.055000  0.174000 0.770000  0.986800 2540.050049 2570.500000   \n",
       "2021-11-12  0.044000  0.067000 0.888000  0.817600 2562.899902 2598.750000   \n",
       "2021-11-15  0.025000  0.121000 0.854000  0.851900 2600.000000 2602.199951   \n",
       "2021-11-16  0.156000  0.124000 0.721000 -0.836600 2572.050049 2575.000000   \n",
       "2021-11-17  0.072000  0.119000 0.810000  0.865800 2498.949951 2498.949951   \n",
       "2021-11-18  0.042000  0.137000 0.821000  0.982300 2460.000000 2489.000000   \n",
       "2021-11-22  0.081000  0.123000 0.796000  0.990800 2436.100098 2449.000000   \n",
       "2021-11-23  0.110000  0.103000 0.787000 -0.935600 2333.050049 2401.250000   \n",
       "2021-11-24  0.119000  0.102000 0.779000 -0.426800 2380.000000 2409.899902   \n",
       "2021-11-25  0.055000  0.140000 0.805000  0.997900 2373.000000 2502.000000   \n",
       "2021-11-26  0.000000  0.074000 0.926000  0.922000 2467.800049 2477.600098   \n",
       "2021-11-29  0.053000  0.184000 0.763000  0.998000 2439.100098 2500.000000   \n",
       "2021-11-30  0.000000  0.073000 0.927000  0.904200 2468.000000 2475.899902   \n",
       "2021-12-01  0.013000  0.137000 0.850000  0.915300 2433.000000 2474.000000   \n",
       "2021-12-02  0.000000  0.084000 0.916000  0.690800 2469.699951 2496.199951   \n",
       "2021-12-03  0.054000  0.124000 0.821000  0.965900 2498.399902 2498.500000   \n",
       "2021-12-06  0.058000  0.090000 0.853000  0.686800 2416.000000 2425.000000   \n",
       "2021-12-07  0.016000  0.122000 0.862000  0.916900 2376.149902 2404.000000   \n",
       "2021-12-08  0.011000  0.071000 0.918000  0.840200 2424.100098 2431.800049   \n",
       "2021-12-09  0.060000  0.131000 0.809000  0.979700 2435.000000 2474.899902   \n",
       "2021-12-10  0.056000  0.231000 0.713000  0.989100 2440.250000 2466.000000   \n",
       "2021-12-13  0.077000  0.128000 0.794000  0.974300 2473.500000 2474.100098   \n",
       "2021-12-14  0.041000  0.114000 0.845000  0.918600 2380.000000 2406.000000   \n",
       "2021-12-15  0.031000  0.078000 0.890000  0.763900 2384.000000 2405.000000   \n",
       "2021-12-16  0.033000  0.110000 0.857000  0.937100 2405.699951 2415.500000   \n",
       "2021-12-17  0.014000  0.118000 0.869000  0.831600 2398.050049 2408.000000   \n",
       "2021-12-20  0.033000  0.114000 0.853000  0.998200 2317.850098 2317.850098   \n",
       "2021-12-21  0.010000  0.103000 0.887000  0.951700 2311.350098 2346.000000   \n",
       "2021-12-22  0.024000  0.106000 0.869000  0.966100 2324.899902 2371.899902   \n",
       "2021-12-23  0.107000  0.000000 0.893000 -0.693100 2374.000000 2380.000000   \n",
       "2021-12-24  0.064000  0.102000 0.834000  0.878800 2370.000000 2392.000000   \n",
       "2021-12-27  0.039000  0.127000 0.834000  0.999800 2361.550049 2378.000000   \n",
       "2021-12-28  0.021000  0.138000 0.841000  0.900100 2375.600098 2404.850098   \n",
       "2021-12-29  0.000000  0.048000 0.952000  0.401900 2391.000000 2419.000000   \n",
       "2021-12-30  0.056000  0.134000 0.809000  0.901500 2400.000000 2404.949951   \n",
       "2021-12-31  0.061000  0.091000 0.848000  0.669700 2373.000000 2383.899902   \n",
       "2022-01-03  0.024000  0.092000 0.883000  0.999300 2365.000000 2407.949951   \n",
       "2022-01-04  0.000000  0.040000 0.960000  0.790600 2415.899902 2461.000000   \n",
       "2022-01-05  0.020000  0.120000 0.860000  0.990100 2462.000000 2477.000000   \n",
       "2022-01-06  0.032000  0.092000 0.875000  0.999400 2451.199951 2454.000000   \n",
       "2022-01-07  0.016000  0.107000 0.877000  0.998900 2430.949951 2458.050049   \n",
       "\n",
       "                   Low       Close   Adj Close    Volume  \\\n",
       "Date                                                       \n",
       "2021-10-29 2501.699951 2536.250000 2536.250000   6568539   \n",
       "2021-11-01 2494.100098 2537.800049 2537.800049   7144532   \n",
       "2021-11-02 2495.250000 2500.800049 2500.800049   4877652   \n",
       "2021-11-03 2461.000000 2483.600098 2483.600098   5533120   \n",
       "2021-11-04 2490.000000 2498.850098 2498.850098    787160   \n",
       "2021-11-08 2456.399902 2501.949951 2501.949951   9385607   \n",
       "2021-11-09 2487.050049 2521.699951 2521.699951   7237470   \n",
       "2021-11-10 2503.649902 2549.899902 2549.899902   4731975   \n",
       "2021-11-11 2535.550049 2554.550049 2554.550049   4948422   \n",
       "2021-11-12 2557.000000 2593.100098 2593.100098   4020744   \n",
       "2021-11-15 2570.000000 2577.800049 2577.800049   2216708   \n",
       "2021-11-16 2495.000000 2517.899902 2517.899902   5232292   \n",
       "2021-11-17 2461.000000 2464.000000 2464.000000   4708235   \n",
       "2021-11-18 2450.050049 2473.300049 2473.300049   3925345   \n",
       "2021-11-22 2351.000000 2363.750000 2363.750000  11133364   \n",
       "2021-11-23 2309.000000 2385.850098 2385.850098  11688406   \n",
       "2021-11-24 2343.550049 2351.399902 2351.399902   7762564   \n",
       "2021-11-25 2357.149902 2492.949951 2492.949951  19568487   \n",
       "2021-11-26 2401.500000 2412.600098 2412.600098   7274686   \n",
       "2021-11-29 2399.100098 2441.500000 2441.500000  11226147   \n",
       "2021-11-30 2388.850098 2405.399902 2405.399902  14847511   \n",
       "2021-12-01 2425.100098 2467.000000 2467.000000   4663276   \n",
       "2021-12-02 2461.600098 2482.850098 2482.850098   5870468   \n",
       "2021-12-03 2400.000000 2408.250000 2408.250000   8871172   \n",
       "2021-12-06 2357.149902 2362.600098 2362.600098   4768334   \n",
       "2021-12-07 2360.000000 2381.850098 2381.850098   5185007   \n",
       "2021-12-08 2406.300049 2418.100098 2418.100098   4035437   \n",
       "2021-12-09 2425.000000 2456.449951 2456.449951   6098050   \n",
       "2021-12-10 2430.350098 2458.949951 2458.949951   3860176   \n",
       "2021-12-13 2404.000000 2409.649902 2409.649902   5954148   \n",
       "2021-12-14 2373.399902 2380.149902 2380.149902   5995586   \n",
       "2021-12-15 2361.100098 2373.199951 2373.199951   4322855   \n",
       "2021-12-16 2368.649902 2403.899902 2403.899902   4504829   \n",
       "2021-12-17 2320.000000 2340.449951 2340.449951   9714489   \n",
       "2021-12-20 2247.100098 2277.350098 2277.350098   6611376   \n",
       "2021-12-21 2292.199951 2311.250000 2311.250000   5924071   \n",
       "2021-12-22 2322.000000 2366.100098 2366.100098   8149415   \n",
       "2021-12-23 2358.050049 2365.250000 2365.250000   4186912   \n",
       "2021-12-24 2337.550049 2372.800049 2372.800049   3639616   \n",
       "2021-12-27 2348.100098 2370.250000 2370.250000   1853948   \n",
       "2021-12-28 2373.050049 2398.399902 2398.399902   2941883   \n",
       "2021-12-29 2382.100098 2402.500000 2402.500000   7118779   \n",
       "2021-12-30 2345.600098 2359.100098 2359.100098  13537254   \n",
       "2021-12-31 2360.000000 2368.149902 2368.149902   4373768   \n",
       "2022-01-03 2363.550049 2403.850098 2403.850098   2502073   \n",
       "2022-01-04 2404.000000 2458.100098 2458.100098   5006225   \n",
       "2022-01-05 2432.949951 2469.600098 2469.600098   5373618   \n",
       "2022-01-06 2409.000000 2416.500000 2416.500000   6667483   \n",
       "2022-01-07 2411.550049 2436.000000 2436.000000   6051239   \n",
       "\n",
       "            ARIMA Model Prediction  \n",
       "Date                                \n",
       "2021-10-29             2598.698624  \n",
       "2021-11-01             2602.347591  \n",
       "2021-11-02             2605.996559  \n",
       "2021-11-03             2609.645526  \n",
       "2021-11-04             2613.294494  \n",
       "2021-11-08             2616.943461  \n",
       "2021-11-09             2620.592429  \n",
       "2021-11-10             2624.241396  \n",
       "2021-11-11             2627.890363  \n",
       "2021-11-12             2631.539331  \n",
       "2021-11-15             2635.188298  \n",
       "2021-11-16             2638.837266  \n",
       "2021-11-17             2642.486233  \n",
       "2021-11-18             2646.135201  \n",
       "2021-11-22             2649.784168  \n",
       "2021-11-23             2653.433136  \n",
       "2021-11-24             2657.082103  \n",
       "2021-11-25             2660.731071  \n",
       "2021-11-26             2664.380038  \n",
       "2021-11-29             2668.029005  \n",
       "2021-11-30             2671.677973  \n",
       "2021-12-01             2675.326940  \n",
       "2021-12-02             2678.975908  \n",
       "2021-12-03             2682.624875  \n",
       "2021-12-06             2686.273843  \n",
       "2021-12-07             2689.922810  \n",
       "2021-12-08             2693.571778  \n",
       "2021-12-09             2697.220745  \n",
       "2021-12-10             2700.869713  \n",
       "2021-12-13             2704.518680  \n",
       "2021-12-14             2708.167648  \n",
       "2021-12-15             2711.816615  \n",
       "2021-12-16             2715.465582  \n",
       "2021-12-17             2719.114550  \n",
       "2021-12-20             2722.763517  \n",
       "2021-12-21             2726.412485  \n",
       "2021-12-22             2730.061452  \n",
       "2021-12-23             2733.710420  \n",
       "2021-12-24             2737.359387  \n",
       "2021-12-27             2741.008355  \n",
       "2021-12-28             2744.657322  \n",
       "2021-12-29             2748.306290  \n",
       "2021-12-30             2751.955257  \n",
       "2021-12-31             2755.604225  \n",
       "2022-01-03             2759.253192  \n",
       "2022-01-04             2762.902159  \n",
       "2022-01-05             2766.551127  \n",
       "2022-01-06             2770.200094  \n",
       "2022-01-07             2773.849062  "
      ]
     },
     "execution_count": 65,
     "metadata": {},
     "output_type": "execute_result"
    }
   ],
   "source": [
    "y_pred"
   ]
  },
  {
   "cell_type": "code",
   "execution_count": 66,
   "id": "5db459a6",
   "metadata": {},
   "outputs": [
    {
     "name": "stdout",
     "output_type": "stream",
     "text": [
      "R Square Score ARIMA:  -13.938523386879844\n",
      "Mean Square Error ARIMA:  75970.64094727559\n",
      "Root Mean Square Error ARIMA:  275.6277216596248\n",
      "Mean Absoulute Error ARIMA:  251.91566854016065\n",
      "Root Mean Squared Logarithmic Error ARIMA:  0.10809181082337199\n"
     ]
    }
   ],
   "source": [
    "r2_arima= r2_score(y_pred[\"Adj Close\"],y_pred[\"ARIMA Model Prediction\"])\n",
    "mse_arima= mean_squared_error(y_pred[\"Adj Close\"],y_pred[\"ARIMA Model Prediction\"])\n",
    "rmse_arima=np.sqrt(mean_squared_error(y_pred[\"Adj Close\"],y_pred[\"ARIMA Model Prediction\"]))\n",
    "mae_arima=mean_absolute_error(y_pred[\"Adj Close\"],y_pred[\"ARIMA Model Prediction\"])\n",
    "rmsle_arima = np.sqrt(mean_squared_log_error(y_pred[\"Adj Close\"],y_pred[\"ARIMA Model Prediction\"]))\n",
    "model_scores_r2.append(r2_arima)\n",
    "model_scores_mse.append(mse_arima)\n",
    "model_scores_rmse.append(rmse_arima)\n",
    "model_scores_mae.append(mae_arima)\n",
    "model_scores_rmsle.append(rmsle_arima)\n",
    "print(\"R Square Score ARIMA: \",r2_arima)\n",
    "print(\"Mean Square Error ARIMA: \",mse_arima)\n",
    "print(\"Root Mean Square Error ARIMA: \",rmse_arima)\n",
    "print(\"Mean Absoulute Error ARIMA: \",mae_arima)\n",
    "print(\"Root Mean Squared Logarithmic Error ARIMA: \", rmsle_arima)"
   ]
  },
  {
   "cell_type": "code",
   "execution_count": 67,
   "id": "dac0306f",
   "metadata": {},
   "outputs": [
    {
     "data": {
      "application/vnd.plotly.v1+json": {
       "config": {
        "plotlyServerURL": "https://plot.ly"
       },
       "data": [
        {
         "mode": "lines",
         "name": "Train Data for Stock Prices",
         "type": "scatter",
         "x": [
          "2021-01-11T00:00:00",
          "2021-01-12T00:00:00",
          "2021-01-13T00:00:00",
          "2021-01-14T00:00:00",
          "2021-01-15T00:00:00",
          "2021-01-18T00:00:00",
          "2021-01-19T00:00:00",
          "2021-01-20T00:00:00",
          "2021-01-21T00:00:00",
          "2021-01-22T00:00:00",
          "2021-01-25T00:00:00",
          "2021-01-27T00:00:00",
          "2021-01-28T00:00:00",
          "2021-01-29T00:00:00",
          "2021-02-01T00:00:00",
          "2021-02-02T00:00:00",
          "2021-02-03T00:00:00",
          "2021-02-04T00:00:00",
          "2021-02-05T00:00:00",
          "2021-02-08T00:00:00",
          "2021-02-09T00:00:00",
          "2021-02-10T00:00:00",
          "2021-02-11T00:00:00",
          "2021-02-12T00:00:00",
          "2021-02-15T00:00:00",
          "2021-02-16T00:00:00",
          "2021-02-17T00:00:00",
          "2021-02-18T00:00:00",
          "2021-02-19T00:00:00",
          "2021-02-22T00:00:00",
          "2021-02-23T00:00:00",
          "2021-02-24T00:00:00",
          "2021-02-25T00:00:00",
          "2021-02-26T00:00:00",
          "2021-03-01T00:00:00",
          "2021-03-02T00:00:00",
          "2021-03-03T00:00:00",
          "2021-03-04T00:00:00",
          "2021-03-05T00:00:00",
          "2021-03-08T00:00:00",
          "2021-03-09T00:00:00",
          "2021-03-10T00:00:00",
          "2021-03-12T00:00:00",
          "2021-03-15T00:00:00",
          "2021-03-17T00:00:00",
          "2021-03-18T00:00:00",
          "2021-03-19T00:00:00",
          "2021-03-22T00:00:00",
          "2021-03-23T00:00:00",
          "2021-03-24T00:00:00",
          "2021-03-25T00:00:00",
          "2021-03-26T00:00:00",
          "2021-03-30T00:00:00",
          "2021-04-01T00:00:00",
          "2021-04-05T00:00:00",
          "2021-04-06T00:00:00",
          "2021-04-07T00:00:00",
          "2021-04-08T00:00:00",
          "2021-04-09T00:00:00",
          "2021-04-12T00:00:00",
          "2021-04-13T00:00:00",
          "2021-04-15T00:00:00",
          "2021-04-16T00:00:00",
          "2021-04-19T00:00:00",
          "2021-04-20T00:00:00",
          "2021-04-22T00:00:00",
          "2021-04-23T00:00:00",
          "2021-04-26T00:00:00",
          "2021-04-27T00:00:00",
          "2021-04-28T00:00:00",
          "2021-04-29T00:00:00",
          "2021-04-30T00:00:00",
          "2021-05-03T00:00:00",
          "2021-05-04T00:00:00",
          "2021-05-05T00:00:00",
          "2021-05-06T00:00:00",
          "2021-05-07T00:00:00",
          "2021-05-10T00:00:00",
          "2021-05-11T00:00:00",
          "2021-05-12T00:00:00",
          "2021-05-14T00:00:00",
          "2021-05-17T00:00:00",
          "2021-05-18T00:00:00",
          "2021-05-19T00:00:00",
          "2021-05-20T00:00:00",
          "2021-05-21T00:00:00",
          "2021-05-24T00:00:00",
          "2021-05-25T00:00:00",
          "2021-05-26T00:00:00",
          "2021-05-27T00:00:00",
          "2021-05-28T00:00:00",
          "2021-05-31T00:00:00",
          "2021-06-01T00:00:00",
          "2021-06-02T00:00:00",
          "2021-06-03T00:00:00",
          "2021-06-04T00:00:00",
          "2021-06-07T00:00:00",
          "2021-06-08T00:00:00",
          "2021-06-09T00:00:00",
          "2021-06-10T00:00:00",
          "2021-06-11T00:00:00",
          "2021-06-14T00:00:00",
          "2021-06-15T00:00:00",
          "2021-06-16T00:00:00",
          "2021-06-17T00:00:00",
          "2021-06-18T00:00:00",
          "2021-06-21T00:00:00",
          "2021-06-22T00:00:00",
          "2021-06-23T00:00:00",
          "2021-06-24T00:00:00",
          "2021-06-25T00:00:00",
          "2021-06-28T00:00:00",
          "2021-06-29T00:00:00",
          "2021-06-30T00:00:00",
          "2021-07-01T00:00:00",
          "2021-07-02T00:00:00",
          "2021-07-05T00:00:00",
          "2021-07-06T00:00:00",
          "2021-07-07T00:00:00",
          "2021-07-08T00:00:00",
          "2021-07-09T00:00:00",
          "2021-07-12T00:00:00",
          "2021-07-13T00:00:00",
          "2021-07-14T00:00:00",
          "2021-07-15T00:00:00",
          "2021-07-16T00:00:00",
          "2021-07-19T00:00:00",
          "2021-07-20T00:00:00",
          "2021-07-22T00:00:00",
          "2021-07-23T00:00:00",
          "2021-07-26T00:00:00",
          "2021-07-27T00:00:00",
          "2021-07-28T00:00:00",
          "2021-07-29T00:00:00",
          "2021-07-30T00:00:00",
          "2021-08-02T00:00:00",
          "2021-08-03T00:00:00",
          "2021-08-04T00:00:00",
          "2021-08-05T00:00:00",
          "2021-08-06T00:00:00",
          "2021-08-09T00:00:00",
          "2021-08-10T00:00:00",
          "2021-08-11T00:00:00",
          "2021-08-12T00:00:00",
          "2021-08-13T00:00:00",
          "2021-08-16T00:00:00",
          "2021-08-17T00:00:00",
          "2021-08-18T00:00:00",
          "2021-08-20T00:00:00",
          "2021-08-23T00:00:00",
          "2021-08-24T00:00:00",
          "2021-08-25T00:00:00",
          "2021-08-26T00:00:00",
          "2021-08-27T00:00:00",
          "2021-08-30T00:00:00",
          "2021-08-31T00:00:00",
          "2021-09-01T00:00:00",
          "2021-09-02T00:00:00",
          "2021-09-03T00:00:00",
          "2021-09-06T00:00:00",
          "2021-09-07T00:00:00",
          "2021-09-08T00:00:00",
          "2021-09-09T00:00:00",
          "2021-09-13T00:00:00",
          "2021-09-14T00:00:00",
          "2021-09-15T00:00:00",
          "2021-09-16T00:00:00",
          "2021-09-17T00:00:00",
          "2021-09-20T00:00:00",
          "2021-09-21T00:00:00",
          "2021-09-22T00:00:00",
          "2021-09-23T00:00:00",
          "2021-09-24T00:00:00",
          "2021-09-27T00:00:00",
          "2021-09-28T00:00:00",
          "2021-09-29T00:00:00",
          "2021-09-30T00:00:00",
          "2021-10-01T00:00:00",
          "2021-10-04T00:00:00",
          "2021-10-05T00:00:00",
          "2021-10-06T00:00:00",
          "2021-10-07T00:00:00",
          "2021-10-08T00:00:00",
          "2021-10-11T00:00:00",
          "2021-10-12T00:00:00",
          "2021-10-13T00:00:00",
          "2021-10-14T00:00:00",
          "2021-10-18T00:00:00",
          "2021-10-19T00:00:00",
          "2021-10-20T00:00:00",
          "2021-10-21T00:00:00",
          "2021-10-22T00:00:00",
          "2021-10-25T00:00:00",
          "2021-10-26T00:00:00",
          "2021-10-27T00:00:00",
          "2021-10-28T00:00:00"
         ],
         "y": [
          1891.16626,
          1950.774536,
          1932.58313,
          1954.31311,
          1931.237305,
          1977.588257,
          2009.934204,
          2048.111328,
          2092.667969,
          2043.027832,
          1934.776001,
          1888.923462,
          1870.532715,
          1836.043579,
          1889.222534,
          1919.624756,
          1924.459229,
          1918.129517,
          1917.581299,
          1945.192383,
          1949.877441,
          1967.969238,
          2049.108154,
          2035.053345,
          2026.082275,
          2052.895996,
          2076.569824,
          2061.06958,
          2073.629395,
          2001.660767,
          2016.961548,
          2054.391113,
          2137.474121,
          2079.111816,
          2094.960693,
          2099.246826,
          2195.038818,
          2168.873047,
          2171.713623,
          2184.073975,
          2184.02417,
          2174.953369,
          2130.745605,
          2102.137451,
          2048.759277,
          2002.657593,
          2075.32373,
          2055.786621,
          2080.806152,
          2040.735107,
          1985.064087,
          1988.253906,
          2022.792847,
          2015.366699,
          1986.210449,
          1977.937134,
          1996.427612,
          1998.919556,
          1975.694336,
          1905.021729,
          1925.605469,
          1938.06543,
          1925.904541,
          1895.601929,
          1895.053833,
          1900.286987,
          1898.243408,
          1931.635986,
          1982.273193,
          1990.895508,
          2017.559692,
          1988.10437,
          1952.768188,
          1910.454224,
          1913.942993,
          1924.807983,
          1925.555664,
          1920.023438,
          1926.951172,
          1907.015259,
          1931.087891,
          1954.063843,
          1981.575317,
          1990.64624,
          1979.033569,
          1996.128662,
          1979.282837,
          1956.85498,
          1963.73291,
          1969.763428,
          2088.082764,
          2153.372803,
          2161.945068,
          2194.191406,
          2202.564453,
          2183.47583,
          2220.257568,
          2207.498779,
          2168.025635,
          2176,
          2213.149902,
          2244.899902,
          2250,
          2211.600098,
          2215.649902,
          2225.649902,
          2237.25,
          2225.75,
          2205.350098,
          2153.5,
          2104.449951,
          2086,
          2087.800049,
          2110.649902,
          2097.949951,
          2129.050049,
          2150.199951,
          2124.800049,
          2110.050049,
          2092.600098,
          2071.199951,
          2084.100098,
          2099.699951,
          2086,
          2082.350098,
          2112.399902,
          2098.949951,
          2093.800049,
          2120.699951,
          2105.699951,
          2076.850098,
          2055,
          2037.349976,
          2053.25,
          2035.300049,
          2072.5,
          2087.75,
          2103.75,
          2134.25,
          2089.050049,
          2077.149902,
          2088.050049,
          2117.300049,
          2110.5,
          2145.649902,
          2173.5,
          2164.25,
          2172.649902,
          2148.25,
          2162.350098,
          2183.699951,
          2202.600098,
          2230.449951,
          2227.399902,
          2270.25,
          2258.149902,
          2267.100098,
          2294.399902,
          2388.5,
          2425.600098,
          2440.899902,
          2431.350098,
          2425.600098,
          2371.550049,
          2368.449951,
          2378.300049,
          2428.199951,
          2390.550049,
          2394.350098,
          2404.699951,
          2430.5,
          2489.899902,
          2482.699951,
          2524.449951,
          2548.050049,
          2527.850098,
          2519.25,
          2523.699951,
          2556.149902,
          2609.199951,
          2559.850098,
          2572.399902,
          2671.25,
          2652.649902,
          2667.800049,
          2694.949951,
          2700.399902,
          2707.600098,
          2731.850098,
          2700.399902,
          2622.5,
          2627.399902,
          2601.800049,
          2661.050049,
          2627.399902,
          2598.600098
         ]
        },
        {
         "mode": "lines",
         "name": "Validation Data for Stock Prices",
         "type": "scatter",
         "x": [
          "2021-10-29T00:00:00",
          "2021-11-01T00:00:00",
          "2021-11-02T00:00:00",
          "2021-11-03T00:00:00",
          "2021-11-04T00:00:00",
          "2021-11-08T00:00:00",
          "2021-11-09T00:00:00",
          "2021-11-10T00:00:00",
          "2021-11-11T00:00:00",
          "2021-11-12T00:00:00",
          "2021-11-15T00:00:00",
          "2021-11-16T00:00:00",
          "2021-11-17T00:00:00",
          "2021-11-18T00:00:00",
          "2021-11-22T00:00:00",
          "2021-11-23T00:00:00",
          "2021-11-24T00:00:00",
          "2021-11-25T00:00:00",
          "2021-11-26T00:00:00",
          "2021-11-29T00:00:00",
          "2021-11-30T00:00:00",
          "2021-12-01T00:00:00",
          "2021-12-02T00:00:00",
          "2021-12-03T00:00:00",
          "2021-12-06T00:00:00",
          "2021-12-07T00:00:00",
          "2021-12-08T00:00:00",
          "2021-12-09T00:00:00",
          "2021-12-10T00:00:00",
          "2021-12-13T00:00:00",
          "2021-12-14T00:00:00",
          "2021-12-15T00:00:00",
          "2021-12-16T00:00:00",
          "2021-12-17T00:00:00",
          "2021-12-20T00:00:00",
          "2021-12-21T00:00:00",
          "2021-12-22T00:00:00",
          "2021-12-23T00:00:00",
          "2021-12-24T00:00:00",
          "2021-12-27T00:00:00",
          "2021-12-28T00:00:00",
          "2021-12-29T00:00:00",
          "2021-12-30T00:00:00",
          "2021-12-31T00:00:00",
          "2022-01-03T00:00:00",
          "2022-01-04T00:00:00",
          "2022-01-05T00:00:00",
          "2022-01-06T00:00:00",
          "2022-01-07T00:00:00"
         ],
         "y": [
          2536.25,
          2537.800049,
          2500.800049,
          2483.600098,
          2498.850098,
          2501.949951,
          2521.699951,
          2549.899902,
          2554.550049,
          2593.100098,
          2577.800049,
          2517.899902,
          2464,
          2473.300049,
          2363.75,
          2385.850098,
          2351.399902,
          2492.949951,
          2412.600098,
          2441.5,
          2405.399902,
          2467,
          2482.850098,
          2408.25,
          2362.600098,
          2381.850098,
          2418.100098,
          2456.449951,
          2458.949951,
          2409.649902,
          2380.149902,
          2373.199951,
          2403.899902,
          2340.449951,
          2277.350098,
          2311.25,
          2366.100098,
          2365.25,
          2372.800049,
          2370.25,
          2398.399902,
          2402.5,
          2359.100098,
          2368.149902,
          2403.850098,
          2458.100098,
          2469.600098,
          2416.5,
          2436
         ]
        },
        {
         "mode": "lines",
         "name": "Prediction for Stock Prices",
         "type": "scatter",
         "x": [
          "2021-10-29T00:00:00",
          "2021-11-01T00:00:00",
          "2021-11-02T00:00:00",
          "2021-11-03T00:00:00",
          "2021-11-04T00:00:00",
          "2021-11-08T00:00:00",
          "2021-11-09T00:00:00",
          "2021-11-10T00:00:00",
          "2021-11-11T00:00:00",
          "2021-11-12T00:00:00",
          "2021-11-15T00:00:00",
          "2021-11-16T00:00:00",
          "2021-11-17T00:00:00",
          "2021-11-18T00:00:00",
          "2021-11-22T00:00:00",
          "2021-11-23T00:00:00",
          "2021-11-24T00:00:00",
          "2021-11-25T00:00:00",
          "2021-11-26T00:00:00",
          "2021-11-29T00:00:00",
          "2021-11-30T00:00:00",
          "2021-12-01T00:00:00",
          "2021-12-02T00:00:00",
          "2021-12-03T00:00:00",
          "2021-12-06T00:00:00",
          "2021-12-07T00:00:00",
          "2021-12-08T00:00:00",
          "2021-12-09T00:00:00",
          "2021-12-10T00:00:00",
          "2021-12-13T00:00:00",
          "2021-12-14T00:00:00",
          "2021-12-15T00:00:00",
          "2021-12-16T00:00:00",
          "2021-12-17T00:00:00",
          "2021-12-20T00:00:00",
          "2021-12-21T00:00:00",
          "2021-12-22T00:00:00",
          "2021-12-23T00:00:00",
          "2021-12-24T00:00:00",
          "2021-12-27T00:00:00",
          "2021-12-28T00:00:00",
          "2021-12-29T00:00:00",
          "2021-12-30T00:00:00",
          "2021-12-31T00:00:00",
          "2022-01-03T00:00:00",
          "2022-01-04T00:00:00",
          "2022-01-05T00:00:00",
          "2022-01-06T00:00:00",
          "2022-01-07T00:00:00"
         ],
         "y": [
          2598.6986237364194,
          2602.3475911976298,
          2605.99655865884,
          2609.6455261200504,
          2613.2944935812607,
          2616.943461042471,
          2620.5924285036813,
          2624.2413959648916,
          2627.890363426102,
          2631.539330887312,
          2635.1882983485225,
          2638.837265809733,
          2642.486233270943,
          2646.1352007321534,
          2649.7841681933637,
          2653.433135654574,
          2657.0821031157843,
          2660.7310705769946,
          2664.380038038205,
          2668.0290054994152,
          2671.6779729606255,
          2675.326940421836,
          2678.975907883046,
          2682.6248753442565,
          2686.2738428054668,
          2689.922810266677,
          2693.5717777278874,
          2697.2207451890977,
          2700.869712650308,
          2704.5186801115183,
          2708.1676475727286,
          2711.816615033939,
          2715.465582495149,
          2719.1145499563595,
          2722.76351741757,
          2726.41248487878,
          2730.0614523399904,
          2733.7104198012007,
          2737.359387262411,
          2741.0083547236213,
          2744.6573221848316,
          2748.306289646042,
          2751.9552571072522,
          2755.6042245684625,
          2759.253192029673,
          2762.902159490883,
          2766.5511269520935,
          2770.2000944133038,
          2773.849061874514
         ]
        }
       ],
       "layout": {
        "font": {
         "size": 12
        },
        "legend": {
         "traceorder": "normal",
         "x": 0,
         "y": 1
        },
        "template": {
         "data": {
          "bar": [
           {
            "error_x": {
             "color": "#2a3f5f"
            },
            "error_y": {
             "color": "#2a3f5f"
            },
            "marker": {
             "line": {
              "color": "#E5ECF6",
              "width": 0.5
             },
             "pattern": {
              "fillmode": "overlay",
              "size": 10,
              "solidity": 0.2
             }
            },
            "type": "bar"
           }
          ],
          "barpolar": [
           {
            "marker": {
             "line": {
              "color": "#E5ECF6",
              "width": 0.5
             },
             "pattern": {
              "fillmode": "overlay",
              "size": 10,
              "solidity": 0.2
             }
            },
            "type": "barpolar"
           }
          ],
          "carpet": [
           {
            "aaxis": {
             "endlinecolor": "#2a3f5f",
             "gridcolor": "white",
             "linecolor": "white",
             "minorgridcolor": "white",
             "startlinecolor": "#2a3f5f"
            },
            "baxis": {
             "endlinecolor": "#2a3f5f",
             "gridcolor": "white",
             "linecolor": "white",
             "minorgridcolor": "white",
             "startlinecolor": "#2a3f5f"
            },
            "type": "carpet"
           }
          ],
          "choropleth": [
           {
            "colorbar": {
             "outlinewidth": 0,
             "ticks": ""
            },
            "type": "choropleth"
           }
          ],
          "contour": [
           {
            "colorbar": {
             "outlinewidth": 0,
             "ticks": ""
            },
            "colorscale": [
             [
              0,
              "#0d0887"
             ],
             [
              0.1111111111111111,
              "#46039f"
             ],
             [
              0.2222222222222222,
              "#7201a8"
             ],
             [
              0.3333333333333333,
              "#9c179e"
             ],
             [
              0.4444444444444444,
              "#bd3786"
             ],
             [
              0.5555555555555556,
              "#d8576b"
             ],
             [
              0.6666666666666666,
              "#ed7953"
             ],
             [
              0.7777777777777778,
              "#fb9f3a"
             ],
             [
              0.8888888888888888,
              "#fdca26"
             ],
             [
              1,
              "#f0f921"
             ]
            ],
            "type": "contour"
           }
          ],
          "contourcarpet": [
           {
            "colorbar": {
             "outlinewidth": 0,
             "ticks": ""
            },
            "type": "contourcarpet"
           }
          ],
          "heatmap": [
           {
            "colorbar": {
             "outlinewidth": 0,
             "ticks": ""
            },
            "colorscale": [
             [
              0,
              "#0d0887"
             ],
             [
              0.1111111111111111,
              "#46039f"
             ],
             [
              0.2222222222222222,
              "#7201a8"
             ],
             [
              0.3333333333333333,
              "#9c179e"
             ],
             [
              0.4444444444444444,
              "#bd3786"
             ],
             [
              0.5555555555555556,
              "#d8576b"
             ],
             [
              0.6666666666666666,
              "#ed7953"
             ],
             [
              0.7777777777777778,
              "#fb9f3a"
             ],
             [
              0.8888888888888888,
              "#fdca26"
             ],
             [
              1,
              "#f0f921"
             ]
            ],
            "type": "heatmap"
           }
          ],
          "heatmapgl": [
           {
            "colorbar": {
             "outlinewidth": 0,
             "ticks": ""
            },
            "colorscale": [
             [
              0,
              "#0d0887"
             ],
             [
              0.1111111111111111,
              "#46039f"
             ],
             [
              0.2222222222222222,
              "#7201a8"
             ],
             [
              0.3333333333333333,
              "#9c179e"
             ],
             [
              0.4444444444444444,
              "#bd3786"
             ],
             [
              0.5555555555555556,
              "#d8576b"
             ],
             [
              0.6666666666666666,
              "#ed7953"
             ],
             [
              0.7777777777777778,
              "#fb9f3a"
             ],
             [
              0.8888888888888888,
              "#fdca26"
             ],
             [
              1,
              "#f0f921"
             ]
            ],
            "type": "heatmapgl"
           }
          ],
          "histogram": [
           {
            "marker": {
             "pattern": {
              "fillmode": "overlay",
              "size": 10,
              "solidity": 0.2
             }
            },
            "type": "histogram"
           }
          ],
          "histogram2d": [
           {
            "colorbar": {
             "outlinewidth": 0,
             "ticks": ""
            },
            "colorscale": [
             [
              0,
              "#0d0887"
             ],
             [
              0.1111111111111111,
              "#46039f"
             ],
             [
              0.2222222222222222,
              "#7201a8"
             ],
             [
              0.3333333333333333,
              "#9c179e"
             ],
             [
              0.4444444444444444,
              "#bd3786"
             ],
             [
              0.5555555555555556,
              "#d8576b"
             ],
             [
              0.6666666666666666,
              "#ed7953"
             ],
             [
              0.7777777777777778,
              "#fb9f3a"
             ],
             [
              0.8888888888888888,
              "#fdca26"
             ],
             [
              1,
              "#f0f921"
             ]
            ],
            "type": "histogram2d"
           }
          ],
          "histogram2dcontour": [
           {
            "colorbar": {
             "outlinewidth": 0,
             "ticks": ""
            },
            "colorscale": [
             [
              0,
              "#0d0887"
             ],
             [
              0.1111111111111111,
              "#46039f"
             ],
             [
              0.2222222222222222,
              "#7201a8"
             ],
             [
              0.3333333333333333,
              "#9c179e"
             ],
             [
              0.4444444444444444,
              "#bd3786"
             ],
             [
              0.5555555555555556,
              "#d8576b"
             ],
             [
              0.6666666666666666,
              "#ed7953"
             ],
             [
              0.7777777777777778,
              "#fb9f3a"
             ],
             [
              0.8888888888888888,
              "#fdca26"
             ],
             [
              1,
              "#f0f921"
             ]
            ],
            "type": "histogram2dcontour"
           }
          ],
          "mesh3d": [
           {
            "colorbar": {
             "outlinewidth": 0,
             "ticks": ""
            },
            "type": "mesh3d"
           }
          ],
          "parcoords": [
           {
            "line": {
             "colorbar": {
              "outlinewidth": 0,
              "ticks": ""
             }
            },
            "type": "parcoords"
           }
          ],
          "pie": [
           {
            "automargin": true,
            "type": "pie"
           }
          ],
          "scatter": [
           {
            "marker": {
             "colorbar": {
              "outlinewidth": 0,
              "ticks": ""
             }
            },
            "type": "scatter"
           }
          ],
          "scatter3d": [
           {
            "line": {
             "colorbar": {
              "outlinewidth": 0,
              "ticks": ""
             }
            },
            "marker": {
             "colorbar": {
              "outlinewidth": 0,
              "ticks": ""
             }
            },
            "type": "scatter3d"
           }
          ],
          "scattercarpet": [
           {
            "marker": {
             "colorbar": {
              "outlinewidth": 0,
              "ticks": ""
             }
            },
            "type": "scattercarpet"
           }
          ],
          "scattergeo": [
           {
            "marker": {
             "colorbar": {
              "outlinewidth": 0,
              "ticks": ""
             }
            },
            "type": "scattergeo"
           }
          ],
          "scattergl": [
           {
            "marker": {
             "colorbar": {
              "outlinewidth": 0,
              "ticks": ""
             }
            },
            "type": "scattergl"
           }
          ],
          "scattermapbox": [
           {
            "marker": {
             "colorbar": {
              "outlinewidth": 0,
              "ticks": ""
             }
            },
            "type": "scattermapbox"
           }
          ],
          "scatterpolar": [
           {
            "marker": {
             "colorbar": {
              "outlinewidth": 0,
              "ticks": ""
             }
            },
            "type": "scatterpolar"
           }
          ],
          "scatterpolargl": [
           {
            "marker": {
             "colorbar": {
              "outlinewidth": 0,
              "ticks": ""
             }
            },
            "type": "scatterpolargl"
           }
          ],
          "scatterternary": [
           {
            "marker": {
             "colorbar": {
              "outlinewidth": 0,
              "ticks": ""
             }
            },
            "type": "scatterternary"
           }
          ],
          "surface": [
           {
            "colorbar": {
             "outlinewidth": 0,
             "ticks": ""
            },
            "colorscale": [
             [
              0,
              "#0d0887"
             ],
             [
              0.1111111111111111,
              "#46039f"
             ],
             [
              0.2222222222222222,
              "#7201a8"
             ],
             [
              0.3333333333333333,
              "#9c179e"
             ],
             [
              0.4444444444444444,
              "#bd3786"
             ],
             [
              0.5555555555555556,
              "#d8576b"
             ],
             [
              0.6666666666666666,
              "#ed7953"
             ],
             [
              0.7777777777777778,
              "#fb9f3a"
             ],
             [
              0.8888888888888888,
              "#fdca26"
             ],
             [
              1,
              "#f0f921"
             ]
            ],
            "type": "surface"
           }
          ],
          "table": [
           {
            "cells": {
             "fill": {
              "color": "#EBF0F8"
             },
             "line": {
              "color": "white"
             }
            },
            "header": {
             "fill": {
              "color": "#C8D4E3"
             },
             "line": {
              "color": "white"
             }
            },
            "type": "table"
           }
          ]
         },
         "layout": {
          "annotationdefaults": {
           "arrowcolor": "#2a3f5f",
           "arrowhead": 0,
           "arrowwidth": 1
          },
          "autotypenumbers": "strict",
          "coloraxis": {
           "colorbar": {
            "outlinewidth": 0,
            "ticks": ""
           }
          },
          "colorscale": {
           "diverging": [
            [
             0,
             "#8e0152"
            ],
            [
             0.1,
             "#c51b7d"
            ],
            [
             0.2,
             "#de77ae"
            ],
            [
             0.3,
             "#f1b6da"
            ],
            [
             0.4,
             "#fde0ef"
            ],
            [
             0.5,
             "#f7f7f7"
            ],
            [
             0.6,
             "#e6f5d0"
            ],
            [
             0.7,
             "#b8e186"
            ],
            [
             0.8,
             "#7fbc41"
            ],
            [
             0.9,
             "#4d9221"
            ],
            [
             1,
             "#276419"
            ]
           ],
           "sequential": [
            [
             0,
             "#0d0887"
            ],
            [
             0.1111111111111111,
             "#46039f"
            ],
            [
             0.2222222222222222,
             "#7201a8"
            ],
            [
             0.3333333333333333,
             "#9c179e"
            ],
            [
             0.4444444444444444,
             "#bd3786"
            ],
            [
             0.5555555555555556,
             "#d8576b"
            ],
            [
             0.6666666666666666,
             "#ed7953"
            ],
            [
             0.7777777777777778,
             "#fb9f3a"
            ],
            [
             0.8888888888888888,
             "#fdca26"
            ],
            [
             1,
             "#f0f921"
            ]
           ],
           "sequentialminus": [
            [
             0,
             "#0d0887"
            ],
            [
             0.1111111111111111,
             "#46039f"
            ],
            [
             0.2222222222222222,
             "#7201a8"
            ],
            [
             0.3333333333333333,
             "#9c179e"
            ],
            [
             0.4444444444444444,
             "#bd3786"
            ],
            [
             0.5555555555555556,
             "#d8576b"
            ],
            [
             0.6666666666666666,
             "#ed7953"
            ],
            [
             0.7777777777777778,
             "#fb9f3a"
            ],
            [
             0.8888888888888888,
             "#fdca26"
            ],
            [
             1,
             "#f0f921"
            ]
           ]
          },
          "colorway": [
           "#636efa",
           "#EF553B",
           "#00cc96",
           "#ab63fa",
           "#FFA15A",
           "#19d3f3",
           "#FF6692",
           "#B6E880",
           "#FF97FF",
           "#FECB52"
          ],
          "font": {
           "color": "#2a3f5f"
          },
          "geo": {
           "bgcolor": "white",
           "lakecolor": "white",
           "landcolor": "#E5ECF6",
           "showlakes": true,
           "showland": true,
           "subunitcolor": "white"
          },
          "hoverlabel": {
           "align": "left"
          },
          "hovermode": "closest",
          "mapbox": {
           "style": "light"
          },
          "paper_bgcolor": "white",
          "plot_bgcolor": "#E5ECF6",
          "polar": {
           "angularaxis": {
            "gridcolor": "white",
            "linecolor": "white",
            "ticks": ""
           },
           "bgcolor": "#E5ECF6",
           "radialaxis": {
            "gridcolor": "white",
            "linecolor": "white",
            "ticks": ""
           }
          },
          "scene": {
           "xaxis": {
            "backgroundcolor": "#E5ECF6",
            "gridcolor": "white",
            "gridwidth": 2,
            "linecolor": "white",
            "showbackground": true,
            "ticks": "",
            "zerolinecolor": "white"
           },
           "yaxis": {
            "backgroundcolor": "#E5ECF6",
            "gridcolor": "white",
            "gridwidth": 2,
            "linecolor": "white",
            "showbackground": true,
            "ticks": "",
            "zerolinecolor": "white"
           },
           "zaxis": {
            "backgroundcolor": "#E5ECF6",
            "gridcolor": "white",
            "gridwidth": 2,
            "linecolor": "white",
            "showbackground": true,
            "ticks": "",
            "zerolinecolor": "white"
           }
          },
          "shapedefaults": {
           "line": {
            "color": "#2a3f5f"
           }
          },
          "ternary": {
           "aaxis": {
            "gridcolor": "white",
            "linecolor": "white",
            "ticks": ""
           },
           "baxis": {
            "gridcolor": "white",
            "linecolor": "white",
            "ticks": ""
           },
           "bgcolor": "#E5ECF6",
           "caxis": {
            "gridcolor": "white",
            "linecolor": "white",
            "ticks": ""
           }
          },
          "title": {
           "x": 0.05
          },
          "xaxis": {
           "automargin": true,
           "gridcolor": "white",
           "linecolor": "white",
           "ticks": "",
           "title": {
            "standoff": 15
           },
           "zerolinecolor": "white",
           "zerolinewidth": 2
          },
          "yaxis": {
           "automargin": true,
           "gridcolor": "white",
           "linecolor": "white",
           "ticks": "",
           "title": {
            "standoff": 15
           },
           "zerolinecolor": "white",
           "zerolinewidth": 2
          }
         }
        },
        "title": {
         "text": "ARIMA"
        },
        "xaxis": {
         "title": {
          "text": "Date"
         }
        },
        "yaxis": {
         "title": {
          "text": "Close"
         }
        }
       }
      },
      "text/html": [
       "<div>                            <div id=\"ee70f210-849b-4d47-a6d8-c121f92595a3\" class=\"plotly-graph-div\" style=\"height:525px; width:100%;\"></div>            <script type=\"text/javascript\">                require([\"plotly\"], function(Plotly) {                    window.PLOTLYENV=window.PLOTLYENV || {};                                    if (document.getElementById(\"ee70f210-849b-4d47-a6d8-c121f92595a3\")) {                    Plotly.newPlot(                        \"ee70f210-849b-4d47-a6d8-c121f92595a3\",                        [{\"mode\":\"lines\",\"name\":\"Train Data for Stock Prices\",\"x\":[\"2021-01-11T00:00:00\",\"2021-01-12T00:00:00\",\"2021-01-13T00:00:00\",\"2021-01-14T00:00:00\",\"2021-01-15T00:00:00\",\"2021-01-18T00:00:00\",\"2021-01-19T00:00:00\",\"2021-01-20T00:00:00\",\"2021-01-21T00:00:00\",\"2021-01-22T00:00:00\",\"2021-01-25T00:00:00\",\"2021-01-27T00:00:00\",\"2021-01-28T00:00:00\",\"2021-01-29T00:00:00\",\"2021-02-01T00:00:00\",\"2021-02-02T00:00:00\",\"2021-02-03T00:00:00\",\"2021-02-04T00:00:00\",\"2021-02-05T00:00:00\",\"2021-02-08T00:00:00\",\"2021-02-09T00:00:00\",\"2021-02-10T00:00:00\",\"2021-02-11T00:00:00\",\"2021-02-12T00:00:00\",\"2021-02-15T00:00:00\",\"2021-02-16T00:00:00\",\"2021-02-17T00:00:00\",\"2021-02-18T00:00:00\",\"2021-02-19T00:00:00\",\"2021-02-22T00:00:00\",\"2021-02-23T00:00:00\",\"2021-02-24T00:00:00\",\"2021-02-25T00:00:00\",\"2021-02-26T00:00:00\",\"2021-03-01T00:00:00\",\"2021-03-02T00:00:00\",\"2021-03-03T00:00:00\",\"2021-03-04T00:00:00\",\"2021-03-05T00:00:00\",\"2021-03-08T00:00:00\",\"2021-03-09T00:00:00\",\"2021-03-10T00:00:00\",\"2021-03-12T00:00:00\",\"2021-03-15T00:00:00\",\"2021-03-17T00:00:00\",\"2021-03-18T00:00:00\",\"2021-03-19T00:00:00\",\"2021-03-22T00:00:00\",\"2021-03-23T00:00:00\",\"2021-03-24T00:00:00\",\"2021-03-25T00:00:00\",\"2021-03-26T00:00:00\",\"2021-03-30T00:00:00\",\"2021-04-01T00:00:00\",\"2021-04-05T00:00:00\",\"2021-04-06T00:00:00\",\"2021-04-07T00:00:00\",\"2021-04-08T00:00:00\",\"2021-04-09T00:00:00\",\"2021-04-12T00:00:00\",\"2021-04-13T00:00:00\",\"2021-04-15T00:00:00\",\"2021-04-16T00:00:00\",\"2021-04-19T00:00:00\",\"2021-04-20T00:00:00\",\"2021-04-22T00:00:00\",\"2021-04-23T00:00:00\",\"2021-04-26T00:00:00\",\"2021-04-27T00:00:00\",\"2021-04-28T00:00:00\",\"2021-04-29T00:00:00\",\"2021-04-30T00:00:00\",\"2021-05-03T00:00:00\",\"2021-05-04T00:00:00\",\"2021-05-05T00:00:00\",\"2021-05-06T00:00:00\",\"2021-05-07T00:00:00\",\"2021-05-10T00:00:00\",\"2021-05-11T00:00:00\",\"2021-05-12T00:00:00\",\"2021-05-14T00:00:00\",\"2021-05-17T00:00:00\",\"2021-05-18T00:00:00\",\"2021-05-19T00:00:00\",\"2021-05-20T00:00:00\",\"2021-05-21T00:00:00\",\"2021-05-24T00:00:00\",\"2021-05-25T00:00:00\",\"2021-05-26T00:00:00\",\"2021-05-27T00:00:00\",\"2021-05-28T00:00:00\",\"2021-05-31T00:00:00\",\"2021-06-01T00:00:00\",\"2021-06-02T00:00:00\",\"2021-06-03T00:00:00\",\"2021-06-04T00:00:00\",\"2021-06-07T00:00:00\",\"2021-06-08T00:00:00\",\"2021-06-09T00:00:00\",\"2021-06-10T00:00:00\",\"2021-06-11T00:00:00\",\"2021-06-14T00:00:00\",\"2021-06-15T00:00:00\",\"2021-06-16T00:00:00\",\"2021-06-17T00:00:00\",\"2021-06-18T00:00:00\",\"2021-06-21T00:00:00\",\"2021-06-22T00:00:00\",\"2021-06-23T00:00:00\",\"2021-06-24T00:00:00\",\"2021-06-25T00:00:00\",\"2021-06-28T00:00:00\",\"2021-06-29T00:00:00\",\"2021-06-30T00:00:00\",\"2021-07-01T00:00:00\",\"2021-07-02T00:00:00\",\"2021-07-05T00:00:00\",\"2021-07-06T00:00:00\",\"2021-07-07T00:00:00\",\"2021-07-08T00:00:00\",\"2021-07-09T00:00:00\",\"2021-07-12T00:00:00\",\"2021-07-13T00:00:00\",\"2021-07-14T00:00:00\",\"2021-07-15T00:00:00\",\"2021-07-16T00:00:00\",\"2021-07-19T00:00:00\",\"2021-07-20T00:00:00\",\"2021-07-22T00:00:00\",\"2021-07-23T00:00:00\",\"2021-07-26T00:00:00\",\"2021-07-27T00:00:00\",\"2021-07-28T00:00:00\",\"2021-07-29T00:00:00\",\"2021-07-30T00:00:00\",\"2021-08-02T00:00:00\",\"2021-08-03T00:00:00\",\"2021-08-04T00:00:00\",\"2021-08-05T00:00:00\",\"2021-08-06T00:00:00\",\"2021-08-09T00:00:00\",\"2021-08-10T00:00:00\",\"2021-08-11T00:00:00\",\"2021-08-12T00:00:00\",\"2021-08-13T00:00:00\",\"2021-08-16T00:00:00\",\"2021-08-17T00:00:00\",\"2021-08-18T00:00:00\",\"2021-08-20T00:00:00\",\"2021-08-23T00:00:00\",\"2021-08-24T00:00:00\",\"2021-08-25T00:00:00\",\"2021-08-26T00:00:00\",\"2021-08-27T00:00:00\",\"2021-08-30T00:00:00\",\"2021-08-31T00:00:00\",\"2021-09-01T00:00:00\",\"2021-09-02T00:00:00\",\"2021-09-03T00:00:00\",\"2021-09-06T00:00:00\",\"2021-09-07T00:00:00\",\"2021-09-08T00:00:00\",\"2021-09-09T00:00:00\",\"2021-09-13T00:00:00\",\"2021-09-14T00:00:00\",\"2021-09-15T00:00:00\",\"2021-09-16T00:00:00\",\"2021-09-17T00:00:00\",\"2021-09-20T00:00:00\",\"2021-09-21T00:00:00\",\"2021-09-22T00:00:00\",\"2021-09-23T00:00:00\",\"2021-09-24T00:00:00\",\"2021-09-27T00:00:00\",\"2021-09-28T00:00:00\",\"2021-09-29T00:00:00\",\"2021-09-30T00:00:00\",\"2021-10-01T00:00:00\",\"2021-10-04T00:00:00\",\"2021-10-05T00:00:00\",\"2021-10-06T00:00:00\",\"2021-10-07T00:00:00\",\"2021-10-08T00:00:00\",\"2021-10-11T00:00:00\",\"2021-10-12T00:00:00\",\"2021-10-13T00:00:00\",\"2021-10-14T00:00:00\",\"2021-10-18T00:00:00\",\"2021-10-19T00:00:00\",\"2021-10-20T00:00:00\",\"2021-10-21T00:00:00\",\"2021-10-22T00:00:00\",\"2021-10-25T00:00:00\",\"2021-10-26T00:00:00\",\"2021-10-27T00:00:00\",\"2021-10-28T00:00:00\"],\"y\":[1891.16626,1950.774536,1932.58313,1954.31311,1931.237305,1977.588257,2009.934204,2048.111328,2092.667969,2043.027832,1934.776001,1888.923462,1870.532715,1836.043579,1889.222534,1919.624756,1924.459229,1918.129517,1917.581299,1945.192383,1949.877441,1967.969238,2049.108154,2035.053345,2026.082275,2052.895996,2076.569824,2061.06958,2073.629395,2001.660767,2016.961548,2054.391113,2137.474121,2079.111816,2094.960693,2099.246826,2195.038818,2168.873047,2171.713623,2184.073975,2184.02417,2174.953369,2130.745605,2102.137451,2048.759277,2002.657593,2075.32373,2055.786621,2080.806152,2040.735107,1985.064087,1988.253906,2022.792847,2015.366699,1986.210449,1977.937134,1996.427612,1998.919556,1975.694336,1905.021729,1925.605469,1938.06543,1925.904541,1895.601929,1895.053833,1900.286987,1898.243408,1931.635986,1982.273193,1990.895508,2017.559692,1988.10437,1952.768188,1910.454224,1913.942993,1924.807983,1925.555664,1920.023438,1926.951172,1907.015259,1931.087891,1954.063843,1981.575317,1990.64624,1979.033569,1996.128662,1979.282837,1956.85498,1963.73291,1969.763428,2088.082764,2153.372803,2161.945068,2194.191406,2202.564453,2183.47583,2220.257568,2207.498779,2168.025635,2176.0,2213.149902,2244.899902,2250.0,2211.600098,2215.649902,2225.649902,2237.25,2225.75,2205.350098,2153.5,2104.449951,2086.0,2087.800049,2110.649902,2097.949951,2129.050049,2150.199951,2124.800049,2110.050049,2092.600098,2071.199951,2084.100098,2099.699951,2086.0,2082.350098,2112.399902,2098.949951,2093.800049,2120.699951,2105.699951,2076.850098,2055.0,2037.349976,2053.25,2035.300049,2072.5,2087.75,2103.75,2134.25,2089.050049,2077.149902,2088.050049,2117.300049,2110.5,2145.649902,2173.5,2164.25,2172.649902,2148.25,2162.350098,2183.699951,2202.600098,2230.449951,2227.399902,2270.25,2258.149902,2267.100098,2294.399902,2388.5,2425.600098,2440.899902,2431.350098,2425.600098,2371.550049,2368.449951,2378.300049,2428.199951,2390.550049,2394.350098,2404.699951,2430.5,2489.899902,2482.699951,2524.449951,2548.050049,2527.850098,2519.25,2523.699951,2556.149902,2609.199951,2559.850098,2572.399902,2671.25,2652.649902,2667.800049,2694.949951,2700.399902,2707.600098,2731.850098,2700.399902,2622.5,2627.399902,2601.800049,2661.050049,2627.399902,2598.600098],\"type\":\"scatter\"},{\"mode\":\"lines\",\"name\":\"Validation Data for Stock Prices\",\"x\":[\"2021-10-29T00:00:00\",\"2021-11-01T00:00:00\",\"2021-11-02T00:00:00\",\"2021-11-03T00:00:00\",\"2021-11-04T00:00:00\",\"2021-11-08T00:00:00\",\"2021-11-09T00:00:00\",\"2021-11-10T00:00:00\",\"2021-11-11T00:00:00\",\"2021-11-12T00:00:00\",\"2021-11-15T00:00:00\",\"2021-11-16T00:00:00\",\"2021-11-17T00:00:00\",\"2021-11-18T00:00:00\",\"2021-11-22T00:00:00\",\"2021-11-23T00:00:00\",\"2021-11-24T00:00:00\",\"2021-11-25T00:00:00\",\"2021-11-26T00:00:00\",\"2021-11-29T00:00:00\",\"2021-11-30T00:00:00\",\"2021-12-01T00:00:00\",\"2021-12-02T00:00:00\",\"2021-12-03T00:00:00\",\"2021-12-06T00:00:00\",\"2021-12-07T00:00:00\",\"2021-12-08T00:00:00\",\"2021-12-09T00:00:00\",\"2021-12-10T00:00:00\",\"2021-12-13T00:00:00\",\"2021-12-14T00:00:00\",\"2021-12-15T00:00:00\",\"2021-12-16T00:00:00\",\"2021-12-17T00:00:00\",\"2021-12-20T00:00:00\",\"2021-12-21T00:00:00\",\"2021-12-22T00:00:00\",\"2021-12-23T00:00:00\",\"2021-12-24T00:00:00\",\"2021-12-27T00:00:00\",\"2021-12-28T00:00:00\",\"2021-12-29T00:00:00\",\"2021-12-30T00:00:00\",\"2021-12-31T00:00:00\",\"2022-01-03T00:00:00\",\"2022-01-04T00:00:00\",\"2022-01-05T00:00:00\",\"2022-01-06T00:00:00\",\"2022-01-07T00:00:00\"],\"y\":[2536.25,2537.800049,2500.800049,2483.600098,2498.850098,2501.949951,2521.699951,2549.899902,2554.550049,2593.100098,2577.800049,2517.899902,2464.0,2473.300049,2363.75,2385.850098,2351.399902,2492.949951,2412.600098,2441.5,2405.399902,2467.0,2482.850098,2408.25,2362.600098,2381.850098,2418.100098,2456.449951,2458.949951,2409.649902,2380.149902,2373.199951,2403.899902,2340.449951,2277.350098,2311.25,2366.100098,2365.25,2372.800049,2370.25,2398.399902,2402.5,2359.100098,2368.149902,2403.850098,2458.100098,2469.600098,2416.5,2436.0],\"type\":\"scatter\"},{\"mode\":\"lines\",\"name\":\"Prediction for Stock Prices\",\"x\":[\"2021-10-29T00:00:00\",\"2021-11-01T00:00:00\",\"2021-11-02T00:00:00\",\"2021-11-03T00:00:00\",\"2021-11-04T00:00:00\",\"2021-11-08T00:00:00\",\"2021-11-09T00:00:00\",\"2021-11-10T00:00:00\",\"2021-11-11T00:00:00\",\"2021-11-12T00:00:00\",\"2021-11-15T00:00:00\",\"2021-11-16T00:00:00\",\"2021-11-17T00:00:00\",\"2021-11-18T00:00:00\",\"2021-11-22T00:00:00\",\"2021-11-23T00:00:00\",\"2021-11-24T00:00:00\",\"2021-11-25T00:00:00\",\"2021-11-26T00:00:00\",\"2021-11-29T00:00:00\",\"2021-11-30T00:00:00\",\"2021-12-01T00:00:00\",\"2021-12-02T00:00:00\",\"2021-12-03T00:00:00\",\"2021-12-06T00:00:00\",\"2021-12-07T00:00:00\",\"2021-12-08T00:00:00\",\"2021-12-09T00:00:00\",\"2021-12-10T00:00:00\",\"2021-12-13T00:00:00\",\"2021-12-14T00:00:00\",\"2021-12-15T00:00:00\",\"2021-12-16T00:00:00\",\"2021-12-17T00:00:00\",\"2021-12-20T00:00:00\",\"2021-12-21T00:00:00\",\"2021-12-22T00:00:00\",\"2021-12-23T00:00:00\",\"2021-12-24T00:00:00\",\"2021-12-27T00:00:00\",\"2021-12-28T00:00:00\",\"2021-12-29T00:00:00\",\"2021-12-30T00:00:00\",\"2021-12-31T00:00:00\",\"2022-01-03T00:00:00\",\"2022-01-04T00:00:00\",\"2022-01-05T00:00:00\",\"2022-01-06T00:00:00\",\"2022-01-07T00:00:00\"],\"y\":[2598.6986237364194,2602.3475911976298,2605.99655865884,2609.6455261200504,2613.2944935812607,2616.943461042471,2620.5924285036813,2624.2413959648916,2627.890363426102,2631.539330887312,2635.1882983485225,2638.837265809733,2642.486233270943,2646.1352007321534,2649.7841681933637,2653.433135654574,2657.0821031157843,2660.7310705769946,2664.380038038205,2668.0290054994152,2671.6779729606255,2675.326940421836,2678.975907883046,2682.6248753442565,2686.2738428054668,2689.922810266677,2693.5717777278874,2697.2207451890977,2700.869712650308,2704.5186801115183,2708.1676475727286,2711.816615033939,2715.465582495149,2719.1145499563595,2722.76351741757,2726.41248487878,2730.0614523399904,2733.7104198012007,2737.359387262411,2741.0083547236213,2744.6573221848316,2748.306289646042,2751.9552571072522,2755.6042245684625,2759.253192029673,2762.902159490883,2766.5511269520935,2770.2000944133038,2773.849061874514],\"type\":\"scatter\"}],                        {\"template\":{\"data\":{\"bar\":[{\"error_x\":{\"color\":\"#2a3f5f\"},\"error_y\":{\"color\":\"#2a3f5f\"},\"marker\":{\"line\":{\"color\":\"#E5ECF6\",\"width\":0.5},\"pattern\":{\"fillmode\":\"overlay\",\"size\":10,\"solidity\":0.2}},\"type\":\"bar\"}],\"barpolar\":[{\"marker\":{\"line\":{\"color\":\"#E5ECF6\",\"width\":0.5},\"pattern\":{\"fillmode\":\"overlay\",\"size\":10,\"solidity\":0.2}},\"type\":\"barpolar\"}],\"carpet\":[{\"aaxis\":{\"endlinecolor\":\"#2a3f5f\",\"gridcolor\":\"white\",\"linecolor\":\"white\",\"minorgridcolor\":\"white\",\"startlinecolor\":\"#2a3f5f\"},\"baxis\":{\"endlinecolor\":\"#2a3f5f\",\"gridcolor\":\"white\",\"linecolor\":\"white\",\"minorgridcolor\":\"white\",\"startlinecolor\":\"#2a3f5f\"},\"type\":\"carpet\"}],\"choropleth\":[{\"colorbar\":{\"outlinewidth\":0,\"ticks\":\"\"},\"type\":\"choropleth\"}],\"contour\":[{\"colorbar\":{\"outlinewidth\":0,\"ticks\":\"\"},\"colorscale\":[[0.0,\"#0d0887\"],[0.1111111111111111,\"#46039f\"],[0.2222222222222222,\"#7201a8\"],[0.3333333333333333,\"#9c179e\"],[0.4444444444444444,\"#bd3786\"],[0.5555555555555556,\"#d8576b\"],[0.6666666666666666,\"#ed7953\"],[0.7777777777777778,\"#fb9f3a\"],[0.8888888888888888,\"#fdca26\"],[1.0,\"#f0f921\"]],\"type\":\"contour\"}],\"contourcarpet\":[{\"colorbar\":{\"outlinewidth\":0,\"ticks\":\"\"},\"type\":\"contourcarpet\"}],\"heatmap\":[{\"colorbar\":{\"outlinewidth\":0,\"ticks\":\"\"},\"colorscale\":[[0.0,\"#0d0887\"],[0.1111111111111111,\"#46039f\"],[0.2222222222222222,\"#7201a8\"],[0.3333333333333333,\"#9c179e\"],[0.4444444444444444,\"#bd3786\"],[0.5555555555555556,\"#d8576b\"],[0.6666666666666666,\"#ed7953\"],[0.7777777777777778,\"#fb9f3a\"],[0.8888888888888888,\"#fdca26\"],[1.0,\"#f0f921\"]],\"type\":\"heatmap\"}],\"heatmapgl\":[{\"colorbar\":{\"outlinewidth\":0,\"ticks\":\"\"},\"colorscale\":[[0.0,\"#0d0887\"],[0.1111111111111111,\"#46039f\"],[0.2222222222222222,\"#7201a8\"],[0.3333333333333333,\"#9c179e\"],[0.4444444444444444,\"#bd3786\"],[0.5555555555555556,\"#d8576b\"],[0.6666666666666666,\"#ed7953\"],[0.7777777777777778,\"#fb9f3a\"],[0.8888888888888888,\"#fdca26\"],[1.0,\"#f0f921\"]],\"type\":\"heatmapgl\"}],\"histogram\":[{\"marker\":{\"pattern\":{\"fillmode\":\"overlay\",\"size\":10,\"solidity\":0.2}},\"type\":\"histogram\"}],\"histogram2d\":[{\"colorbar\":{\"outlinewidth\":0,\"ticks\":\"\"},\"colorscale\":[[0.0,\"#0d0887\"],[0.1111111111111111,\"#46039f\"],[0.2222222222222222,\"#7201a8\"],[0.3333333333333333,\"#9c179e\"],[0.4444444444444444,\"#bd3786\"],[0.5555555555555556,\"#d8576b\"],[0.6666666666666666,\"#ed7953\"],[0.7777777777777778,\"#fb9f3a\"],[0.8888888888888888,\"#fdca26\"],[1.0,\"#f0f921\"]],\"type\":\"histogram2d\"}],\"histogram2dcontour\":[{\"colorbar\":{\"outlinewidth\":0,\"ticks\":\"\"},\"colorscale\":[[0.0,\"#0d0887\"],[0.1111111111111111,\"#46039f\"],[0.2222222222222222,\"#7201a8\"],[0.3333333333333333,\"#9c179e\"],[0.4444444444444444,\"#bd3786\"],[0.5555555555555556,\"#d8576b\"],[0.6666666666666666,\"#ed7953\"],[0.7777777777777778,\"#fb9f3a\"],[0.8888888888888888,\"#fdca26\"],[1.0,\"#f0f921\"]],\"type\":\"histogram2dcontour\"}],\"mesh3d\":[{\"colorbar\":{\"outlinewidth\":0,\"ticks\":\"\"},\"type\":\"mesh3d\"}],\"parcoords\":[{\"line\":{\"colorbar\":{\"outlinewidth\":0,\"ticks\":\"\"}},\"type\":\"parcoords\"}],\"pie\":[{\"automargin\":true,\"type\":\"pie\"}],\"scatter\":[{\"marker\":{\"colorbar\":{\"outlinewidth\":0,\"ticks\":\"\"}},\"type\":\"scatter\"}],\"scatter3d\":[{\"line\":{\"colorbar\":{\"outlinewidth\":0,\"ticks\":\"\"}},\"marker\":{\"colorbar\":{\"outlinewidth\":0,\"ticks\":\"\"}},\"type\":\"scatter3d\"}],\"scattercarpet\":[{\"marker\":{\"colorbar\":{\"outlinewidth\":0,\"ticks\":\"\"}},\"type\":\"scattercarpet\"}],\"scattergeo\":[{\"marker\":{\"colorbar\":{\"outlinewidth\":0,\"ticks\":\"\"}},\"type\":\"scattergeo\"}],\"scattergl\":[{\"marker\":{\"colorbar\":{\"outlinewidth\":0,\"ticks\":\"\"}},\"type\":\"scattergl\"}],\"scattermapbox\":[{\"marker\":{\"colorbar\":{\"outlinewidth\":0,\"ticks\":\"\"}},\"type\":\"scattermapbox\"}],\"scatterpolar\":[{\"marker\":{\"colorbar\":{\"outlinewidth\":0,\"ticks\":\"\"}},\"type\":\"scatterpolar\"}],\"scatterpolargl\":[{\"marker\":{\"colorbar\":{\"outlinewidth\":0,\"ticks\":\"\"}},\"type\":\"scatterpolargl\"}],\"scatterternary\":[{\"marker\":{\"colorbar\":{\"outlinewidth\":0,\"ticks\":\"\"}},\"type\":\"scatterternary\"}],\"surface\":[{\"colorbar\":{\"outlinewidth\":0,\"ticks\":\"\"},\"colorscale\":[[0.0,\"#0d0887\"],[0.1111111111111111,\"#46039f\"],[0.2222222222222222,\"#7201a8\"],[0.3333333333333333,\"#9c179e\"],[0.4444444444444444,\"#bd3786\"],[0.5555555555555556,\"#d8576b\"],[0.6666666666666666,\"#ed7953\"],[0.7777777777777778,\"#fb9f3a\"],[0.8888888888888888,\"#fdca26\"],[1.0,\"#f0f921\"]],\"type\":\"surface\"}],\"table\":[{\"cells\":{\"fill\":{\"color\":\"#EBF0F8\"},\"line\":{\"color\":\"white\"}},\"header\":{\"fill\":{\"color\":\"#C8D4E3\"},\"line\":{\"color\":\"white\"}},\"type\":\"table\"}]},\"layout\":{\"annotationdefaults\":{\"arrowcolor\":\"#2a3f5f\",\"arrowhead\":0,\"arrowwidth\":1},\"autotypenumbers\":\"strict\",\"coloraxis\":{\"colorbar\":{\"outlinewidth\":0,\"ticks\":\"\"}},\"colorscale\":{\"diverging\":[[0,\"#8e0152\"],[0.1,\"#c51b7d\"],[0.2,\"#de77ae\"],[0.3,\"#f1b6da\"],[0.4,\"#fde0ef\"],[0.5,\"#f7f7f7\"],[0.6,\"#e6f5d0\"],[0.7,\"#b8e186\"],[0.8,\"#7fbc41\"],[0.9,\"#4d9221\"],[1,\"#276419\"]],\"sequential\":[[0.0,\"#0d0887\"],[0.1111111111111111,\"#46039f\"],[0.2222222222222222,\"#7201a8\"],[0.3333333333333333,\"#9c179e\"],[0.4444444444444444,\"#bd3786\"],[0.5555555555555556,\"#d8576b\"],[0.6666666666666666,\"#ed7953\"],[0.7777777777777778,\"#fb9f3a\"],[0.8888888888888888,\"#fdca26\"],[1.0,\"#f0f921\"]],\"sequentialminus\":[[0.0,\"#0d0887\"],[0.1111111111111111,\"#46039f\"],[0.2222222222222222,\"#7201a8\"],[0.3333333333333333,\"#9c179e\"],[0.4444444444444444,\"#bd3786\"],[0.5555555555555556,\"#d8576b\"],[0.6666666666666666,\"#ed7953\"],[0.7777777777777778,\"#fb9f3a\"],[0.8888888888888888,\"#fdca26\"],[1.0,\"#f0f921\"]]},\"colorway\":[\"#636efa\",\"#EF553B\",\"#00cc96\",\"#ab63fa\",\"#FFA15A\",\"#19d3f3\",\"#FF6692\",\"#B6E880\",\"#FF97FF\",\"#FECB52\"],\"font\":{\"color\":\"#2a3f5f\"},\"geo\":{\"bgcolor\":\"white\",\"lakecolor\":\"white\",\"landcolor\":\"#E5ECF6\",\"showlakes\":true,\"showland\":true,\"subunitcolor\":\"white\"},\"hoverlabel\":{\"align\":\"left\"},\"hovermode\":\"closest\",\"mapbox\":{\"style\":\"light\"},\"paper_bgcolor\":\"white\",\"plot_bgcolor\":\"#E5ECF6\",\"polar\":{\"angularaxis\":{\"gridcolor\":\"white\",\"linecolor\":\"white\",\"ticks\":\"\"},\"bgcolor\":\"#E5ECF6\",\"radialaxis\":{\"gridcolor\":\"white\",\"linecolor\":\"white\",\"ticks\":\"\"}},\"scene\":{\"xaxis\":{\"backgroundcolor\":\"#E5ECF6\",\"gridcolor\":\"white\",\"gridwidth\":2,\"linecolor\":\"white\",\"showbackground\":true,\"ticks\":\"\",\"zerolinecolor\":\"white\"},\"yaxis\":{\"backgroundcolor\":\"#E5ECF6\",\"gridcolor\":\"white\",\"gridwidth\":2,\"linecolor\":\"white\",\"showbackground\":true,\"ticks\":\"\",\"zerolinecolor\":\"white\"},\"zaxis\":{\"backgroundcolor\":\"#E5ECF6\",\"gridcolor\":\"white\",\"gridwidth\":2,\"linecolor\":\"white\",\"showbackground\":true,\"ticks\":\"\",\"zerolinecolor\":\"white\"}},\"shapedefaults\":{\"line\":{\"color\":\"#2a3f5f\"}},\"ternary\":{\"aaxis\":{\"gridcolor\":\"white\",\"linecolor\":\"white\",\"ticks\":\"\"},\"baxis\":{\"gridcolor\":\"white\",\"linecolor\":\"white\",\"ticks\":\"\"},\"bgcolor\":\"#E5ECF6\",\"caxis\":{\"gridcolor\":\"white\",\"linecolor\":\"white\",\"ticks\":\"\"}},\"title\":{\"x\":0.05},\"xaxis\":{\"automargin\":true,\"gridcolor\":\"white\",\"linecolor\":\"white\",\"ticks\":\"\",\"title\":{\"standoff\":15},\"zerolinecolor\":\"white\",\"zerolinewidth\":2},\"yaxis\":{\"automargin\":true,\"gridcolor\":\"white\",\"linecolor\":\"white\",\"ticks\":\"\",\"title\":{\"standoff\":15},\"zerolinecolor\":\"white\",\"zerolinewidth\":2}}},\"legend\":{\"x\":0,\"y\":1,\"traceorder\":\"normal\"},\"font\":{\"size\":12},\"title\":{\"text\":\"ARIMA\"},\"xaxis\":{\"title\":{\"text\":\"Date\"}},\"yaxis\":{\"title\":{\"text\":\"Close\"}}},                        {\"responsive\": true}                    ).then(function(){\n",
       "                            \n",
       "var gd = document.getElementById('ee70f210-849b-4d47-a6d8-c121f92595a3');\n",
       "var x = new MutationObserver(function (mutations, observer) {{\n",
       "        var display = window.getComputedStyle(gd).display;\n",
       "        if (!display || display === 'none') {{\n",
       "            console.log([gd, 'removed!']);\n",
       "            Plotly.purge(gd);\n",
       "            observer.disconnect();\n",
       "        }}\n",
       "}});\n",
       "\n",
       "// Listen for the removal of the full notebook cells\n",
       "var notebookContainer = gd.closest('#notebook-container');\n",
       "if (notebookContainer) {{\n",
       "    x.observe(notebookContainer, {childList: true});\n",
       "}}\n",
       "\n",
       "// Listen for the clearing of the current output cell\n",
       "var outputEl = gd.closest('.output');\n",
       "if (outputEl) {{\n",
       "    x.observe(outputEl, {childList: true});\n",
       "}}\n",
       "\n",
       "                        })                };                });            </script>        </div>"
      ]
     },
     "metadata": {},
     "output_type": "display_data"
    }
   ],
   "source": [
    "fig=go.Figure()\n",
    "fig.add_trace(go.Scatter(x=model_train.index, y=model_train[\"Adj Close\"], mode='lines',name=\"Train Data for Stock Prices\"))\n",
    "fig.add_trace(go.Scatter(x=valid.index, y=valid[\"Adj Close\"], mode='lines',name=\"Validation Data for Stock Prices\",))\n",
    "fig.add_trace(go.Scatter(x=valid.index, y=y_pred[\"ARIMA Model Prediction\"], mode='lines',name=\"Prediction for Stock Prices\",))\n",
    "fig.update_layout(title=\"ARIMA\",xaxis_title=\"Date\",yaxis_title=\"Close\",legend=dict(x=0,y=1,traceorder=\"normal\"),font=dict(size=12))\n",
    "fig.show()"
   ]
  },
  {
   "cell_type": "code",
   "execution_count": 28,
   "id": "5fdd9bf4",
   "metadata": {},
   "outputs": [],
   "source": [
    "ARIMA_model_new_date=[]\n",
    "ARIMA_model_new_prediction=[]\n",
    "ARIMA_model_new_date.append(df.index[-1]+timedelta(days=1))\n",
    "ARIMA_model_new_prediction.append(model_arima.predict(len(valid)+1)[-1])\n",
    "pd.set_option('display.float_format', lambda x: '%.6f' % x)\n",
    "#model_predictions=pd.DataFrame(zip(holt_new_date,holt_new_prediction), columns=[\"Dates\",\"ARIMA Model Prediction\"])\n",
    "#model_predictions"
   ]
  },
  {
   "cell_type": "code",
   "execution_count": 100,
   "id": "900db15f",
   "metadata": {},
   "outputs": [],
   "source": [
    "import pickle"
   ]
  },
  {
   "cell_type": "code",
   "execution_count": 101,
   "id": "79ea6cc9",
   "metadata": {},
   "outputs": [],
   "source": [
    "with open('model_arima_pkl', 'wb') as files:\n",
    "    pickle.dump(model_arima, files)"
   ]
  },
  {
   "cell_type": "code",
   "execution_count": 23,
   "id": "73532926",
   "metadata": {},
   "outputs": [
    {
     "data": {
      "text/plain": [
       "datetime.timedelta(days=4)"
      ]
     },
     "execution_count": 23,
     "metadata": {},
     "output_type": "execute_result"
    }
   ],
   "source": [
    "timedelta(days=4)"
   ]
  },
  {
   "cell_type": "code",
   "execution_count": 29,
   "id": "48bc00df",
   "metadata": {},
   "outputs": [
    {
     "data": {
      "text/plain": [
       "[2777.4980293357244]"
      ]
     },
     "execution_count": 29,
     "metadata": {},
     "output_type": "execute_result"
    }
   ],
   "source": [
    "ARIMA_model_new_prediction"
   ]
  },
  {
   "cell_type": "code",
   "execution_count": 30,
   "id": "5123c241",
   "metadata": {},
   "outputs": [
    {
     "data": {
      "text/plain": [
       "[Timestamp('2022-01-08 00:00:00')]"
      ]
     },
     "execution_count": 30,
     "metadata": {},
     "output_type": "execute_result"
    }
   ],
   "source": [
    "ARIMA_model_new_date"
   ]
  },
  {
   "cell_type": "code",
   "execution_count": 68,
   "id": "048c64bc",
   "metadata": {},
   "outputs": [],
   "source": [
    "from sklearn.ensemble import RandomForestRegressor\n",
    "rfc = RandomForestRegressor(n_estimators =200)"
   ]
  },
  {
   "cell_type": "code",
   "execution_count": 69,
   "id": "febf17b8",
   "metadata": {},
   "outputs": [
    {
     "data": {
      "text/html": [
       "<div>\n",
       "<style scoped>\n",
       "    .dataframe tbody tr th:only-of-type {\n",
       "        vertical-align: middle;\n",
       "    }\n",
       "\n",
       "    .dataframe tbody tr th {\n",
       "        vertical-align: top;\n",
       "    }\n",
       "\n",
       "    .dataframe thead th {\n",
       "        text-align: right;\n",
       "    }\n",
       "</style>\n",
       "<table border=\"1\" class=\"dataframe\">\n",
       "  <thead>\n",
       "    <tr style=\"text-align: right;\">\n",
       "      <th></th>\n",
       "      <th>Negative</th>\n",
       "      <th>Positive</th>\n",
       "      <th>Neutral</th>\n",
       "      <th>Comp</th>\n",
       "      <th>Adj Close</th>\n",
       "    </tr>\n",
       "    <tr>\n",
       "      <th>Date</th>\n",
       "      <th></th>\n",
       "      <th></th>\n",
       "      <th></th>\n",
       "      <th></th>\n",
       "      <th></th>\n",
       "    </tr>\n",
       "  </thead>\n",
       "  <tbody>\n",
       "    <tr>\n",
       "      <th>2021-01-11</th>\n",
       "      <td>0.021000</td>\n",
       "      <td>0.177000</td>\n",
       "      <td>0.802000</td>\n",
       "      <td>0.973900</td>\n",
       "      <td>1891.166260</td>\n",
       "    </tr>\n",
       "    <tr>\n",
       "      <th>2021-01-12</th>\n",
       "      <td>0.056000</td>\n",
       "      <td>0.101000</td>\n",
       "      <td>0.843000</td>\n",
       "      <td>0.882000</td>\n",
       "      <td>1950.774536</td>\n",
       "    </tr>\n",
       "    <tr>\n",
       "      <th>2021-01-13</th>\n",
       "      <td>0.045000</td>\n",
       "      <td>0.029000</td>\n",
       "      <td>0.927000</td>\n",
       "      <td>-0.128000</td>\n",
       "      <td>1932.583130</td>\n",
       "    </tr>\n",
       "    <tr>\n",
       "      <th>2021-01-14</th>\n",
       "      <td>0.054000</td>\n",
       "      <td>0.038000</td>\n",
       "      <td>0.908000</td>\n",
       "      <td>-0.187300</td>\n",
       "      <td>1954.313110</td>\n",
       "    </tr>\n",
       "    <tr>\n",
       "      <th>2021-01-15</th>\n",
       "      <td>0.033000</td>\n",
       "      <td>0.155000</td>\n",
       "      <td>0.813000</td>\n",
       "      <td>0.895700</td>\n",
       "      <td>1931.237305</td>\n",
       "    </tr>\n",
       "  </tbody>\n",
       "</table>\n",
       "</div>"
      ],
      "text/plain": [
       "            Negative  Positive  Neutral      Comp   Adj Close\n",
       "Date                                                         \n",
       "2021-01-11  0.021000  0.177000 0.802000  0.973900 1891.166260\n",
       "2021-01-12  0.056000  0.101000 0.843000  0.882000 1950.774536\n",
       "2021-01-13  0.045000  0.029000 0.927000 -0.128000 1932.583130\n",
       "2021-01-14  0.054000  0.038000 0.908000 -0.187300 1954.313110\n",
       "2021-01-15  0.033000  0.155000 0.813000  0.895700 1931.237305"
      ]
     },
     "execution_count": 69,
     "metadata": {},
     "output_type": "execute_result"
    }
   ],
   "source": [
    "df_1 = df[[\"Negative\",\"Positive\",\"Neutral\",\"Comp\",\"Adj Close\"]]\n",
    "\n",
    "df_1.head()"
   ]
  },
  {
   "cell_type": "code",
   "execution_count": 44,
   "id": "dd18bd41",
   "metadata": {},
   "outputs": [],
   "source": [
    "X = df_1[['Positive','Negative']]\n",
    "Y = df_1[['Adj Close']]"
   ]
  },
  {
   "cell_type": "code",
   "execution_count": 70,
   "id": "395bb90d",
   "metadata": {},
   "outputs": [],
   "source": [
    "X_train_data, X_test_data = X[0:int(len(df_1)*0.8)], X[int(len(df_1)*0.8):]\n",
    "Y_train_data, Y_test_data = Y[0:int(len(df_1)*0.8)], Y[int(len(df_1)*0.8):]"
   ]
  },
  {
   "cell_type": "code",
   "execution_count": 71,
   "id": "30fce3c2",
   "metadata": {
    "scrolled": true
   },
   "outputs": [
    {
     "name": "stderr",
     "output_type": "stream",
     "text": [
      "<ipython-input-71-64fea2ed05ef>:1: DataConversionWarning:\n",
      "\n",
      "A column-vector y was passed when a 1d array was expected. Please change the shape of y to (n_samples,), for example using ravel().\n",
      "\n"
     ]
    },
    {
     "data": {
      "text/plain": [
       "RandomForestRegressor(n_estimators=200)"
      ]
     },
     "execution_count": 71,
     "metadata": {},
     "output_type": "execute_result"
    }
   ],
   "source": [
    "rfc.fit(X_train_data,Y_train_data)"
   ]
  },
  {
   "cell_type": "code",
   "execution_count": 72,
   "id": "4a3ffd7a",
   "metadata": {},
   "outputs": [],
   "source": [
    "y_prediction = rfc.predict(X_test_data)"
   ]
  },
  {
   "cell_type": "code",
   "execution_count": 102,
   "id": "1c8ec19c",
   "metadata": {},
   "outputs": [],
   "source": [
    "with open('rfc_pkl', 'wb') as files:\n",
    "    pickle.dump(rfc, files)"
   ]
  },
  {
   "cell_type": "code",
   "execution_count": 74,
   "id": "d848ac1a",
   "metadata": {},
   "outputs": [
    {
     "data": {
      "text/plain": [
       "array([2125.33776953, 2155.72425955, 2083.38154224, 2130.88080181,\n",
       "       2322.49708035, 2148.81604307, 2118.58859376, 2108.18792544,\n",
       "       2097.08770492, 2112.73535461, 2216.91706581, 2132.78904058,\n",
       "       2185.23414674, 2067.66097784, 2123.46538524, 2120.48974582,\n",
       "       2162.94734838, 2186.07233809, 2496.06452919, 2108.38899169,\n",
       "       2413.69972693, 2126.05984986, 2156.56290086, 2095.95223085,\n",
       "       2127.18606149, 2494.56853193, 2120.69760541, 2120.36205458,\n",
       "       2389.51064795, 2112.73765639, 2066.81321492, 2080.41275992,\n",
       "       2141.10707108, 2198.34546757, 2068.00175254, 2223.9341644 ,\n",
       "       2049.74633701, 2240.35968737, 2076.58721788, 2133.0713251 ,\n",
       "       1979.69150398, 2259.16550638, 2086.41782598, 2133.91123949,\n",
       "       2199.02029955, 2171.10231695, 2198.70089851, 2152.98151909,\n",
       "       2306.91244116])"
      ]
     },
     "execution_count": 74,
     "metadata": {},
     "output_type": "execute_result"
    }
   ],
   "source": [
    "y_prediction"
   ]
  },
  {
   "cell_type": "code",
   "execution_count": 75,
   "id": "dcea4dd2",
   "metadata": {
    "scrolled": true
   },
   "outputs": [
    {
     "data": {
      "text/html": [
       "<div>\n",
       "<style scoped>\n",
       "    .dataframe tbody tr th:only-of-type {\n",
       "        vertical-align: middle;\n",
       "    }\n",
       "\n",
       "    .dataframe tbody tr th {\n",
       "        vertical-align: top;\n",
       "    }\n",
       "\n",
       "    .dataframe thead th {\n",
       "        text-align: right;\n",
       "    }\n",
       "</style>\n",
       "<table border=\"1\" class=\"dataframe\">\n",
       "  <thead>\n",
       "    <tr style=\"text-align: right;\">\n",
       "      <th></th>\n",
       "      <th>Actual</th>\n",
       "      <th>Predicted</th>\n",
       "    </tr>\n",
       "    <tr>\n",
       "      <th>Date</th>\n",
       "      <th></th>\n",
       "      <th></th>\n",
       "    </tr>\n",
       "  </thead>\n",
       "  <tbody>\n",
       "    <tr>\n",
       "      <th>2021-10-29</th>\n",
       "      <td>2536.250000</td>\n",
       "      <td>2125.337770</td>\n",
       "    </tr>\n",
       "    <tr>\n",
       "      <th>2021-11-01</th>\n",
       "      <td>2537.800049</td>\n",
       "      <td>2155.724260</td>\n",
       "    </tr>\n",
       "    <tr>\n",
       "      <th>2021-11-02</th>\n",
       "      <td>2500.800049</td>\n",
       "      <td>2083.381542</td>\n",
       "    </tr>\n",
       "    <tr>\n",
       "      <th>2021-11-03</th>\n",
       "      <td>2483.600098</td>\n",
       "      <td>2130.880802</td>\n",
       "    </tr>\n",
       "    <tr>\n",
       "      <th>2021-11-04</th>\n",
       "      <td>2498.850098</td>\n",
       "      <td>2322.497080</td>\n",
       "    </tr>\n",
       "    <tr>\n",
       "      <th>2021-11-08</th>\n",
       "      <td>2501.949951</td>\n",
       "      <td>2148.816043</td>\n",
       "    </tr>\n",
       "    <tr>\n",
       "      <th>2021-11-09</th>\n",
       "      <td>2521.699951</td>\n",
       "      <td>2118.588594</td>\n",
       "    </tr>\n",
       "    <tr>\n",
       "      <th>2021-11-10</th>\n",
       "      <td>2549.899902</td>\n",
       "      <td>2108.187925</td>\n",
       "    </tr>\n",
       "    <tr>\n",
       "      <th>2021-11-11</th>\n",
       "      <td>2554.550049</td>\n",
       "      <td>2097.087705</td>\n",
       "    </tr>\n",
       "    <tr>\n",
       "      <th>2021-11-12</th>\n",
       "      <td>2593.100098</td>\n",
       "      <td>2112.735355</td>\n",
       "    </tr>\n",
       "    <tr>\n",
       "      <th>2021-11-15</th>\n",
       "      <td>2577.800049</td>\n",
       "      <td>2216.917066</td>\n",
       "    </tr>\n",
       "    <tr>\n",
       "      <th>2021-11-16</th>\n",
       "      <td>2517.899902</td>\n",
       "      <td>2132.789041</td>\n",
       "    </tr>\n",
       "    <tr>\n",
       "      <th>2021-11-17</th>\n",
       "      <td>2464.000000</td>\n",
       "      <td>2185.234147</td>\n",
       "    </tr>\n",
       "    <tr>\n",
       "      <th>2021-11-18</th>\n",
       "      <td>2473.300049</td>\n",
       "      <td>2067.660978</td>\n",
       "    </tr>\n",
       "    <tr>\n",
       "      <th>2021-11-22</th>\n",
       "      <td>2363.750000</td>\n",
       "      <td>2123.465385</td>\n",
       "    </tr>\n",
       "    <tr>\n",
       "      <th>2021-11-23</th>\n",
       "      <td>2385.850098</td>\n",
       "      <td>2120.489746</td>\n",
       "    </tr>\n",
       "    <tr>\n",
       "      <th>2021-11-24</th>\n",
       "      <td>2351.399902</td>\n",
       "      <td>2162.947348</td>\n",
       "    </tr>\n",
       "    <tr>\n",
       "      <th>2021-11-25</th>\n",
       "      <td>2492.949951</td>\n",
       "      <td>2186.072338</td>\n",
       "    </tr>\n",
       "    <tr>\n",
       "      <th>2021-11-26</th>\n",
       "      <td>2412.600098</td>\n",
       "      <td>2496.064529</td>\n",
       "    </tr>\n",
       "    <tr>\n",
       "      <th>2021-11-29</th>\n",
       "      <td>2441.500000</td>\n",
       "      <td>2108.388992</td>\n",
       "    </tr>\n",
       "    <tr>\n",
       "      <th>2021-11-30</th>\n",
       "      <td>2405.399902</td>\n",
       "      <td>2413.699727</td>\n",
       "    </tr>\n",
       "    <tr>\n",
       "      <th>2021-12-01</th>\n",
       "      <td>2467.000000</td>\n",
       "      <td>2126.059850</td>\n",
       "    </tr>\n",
       "    <tr>\n",
       "      <th>2021-12-02</th>\n",
       "      <td>2482.850098</td>\n",
       "      <td>2156.562901</td>\n",
       "    </tr>\n",
       "    <tr>\n",
       "      <th>2021-12-03</th>\n",
       "      <td>2408.250000</td>\n",
       "      <td>2095.952231</td>\n",
       "    </tr>\n",
       "    <tr>\n",
       "      <th>2021-12-06</th>\n",
       "      <td>2362.600098</td>\n",
       "      <td>2127.186061</td>\n",
       "    </tr>\n",
       "    <tr>\n",
       "      <th>2021-12-07</th>\n",
       "      <td>2381.850098</td>\n",
       "      <td>2494.568532</td>\n",
       "    </tr>\n",
       "    <tr>\n",
       "      <th>2021-12-08</th>\n",
       "      <td>2418.100098</td>\n",
       "      <td>2120.697605</td>\n",
       "    </tr>\n",
       "    <tr>\n",
       "      <th>2021-12-09</th>\n",
       "      <td>2456.449951</td>\n",
       "      <td>2120.362055</td>\n",
       "    </tr>\n",
       "    <tr>\n",
       "      <th>2021-12-10</th>\n",
       "      <td>2458.949951</td>\n",
       "      <td>2389.510648</td>\n",
       "    </tr>\n",
       "    <tr>\n",
       "      <th>2021-12-13</th>\n",
       "      <td>2409.649902</td>\n",
       "      <td>2112.737656</td>\n",
       "    </tr>\n",
       "    <tr>\n",
       "      <th>2021-12-14</th>\n",
       "      <td>2380.149902</td>\n",
       "      <td>2066.813215</td>\n",
       "    </tr>\n",
       "    <tr>\n",
       "      <th>2021-12-15</th>\n",
       "      <td>2373.199951</td>\n",
       "      <td>2080.412760</td>\n",
       "    </tr>\n",
       "    <tr>\n",
       "      <th>2021-12-16</th>\n",
       "      <td>2403.899902</td>\n",
       "      <td>2141.107071</td>\n",
       "    </tr>\n",
       "    <tr>\n",
       "      <th>2021-12-17</th>\n",
       "      <td>2340.449951</td>\n",
       "      <td>2198.345468</td>\n",
       "    </tr>\n",
       "    <tr>\n",
       "      <th>2021-12-20</th>\n",
       "      <td>2277.350098</td>\n",
       "      <td>2068.001753</td>\n",
       "    </tr>\n",
       "    <tr>\n",
       "      <th>2021-12-21</th>\n",
       "      <td>2311.250000</td>\n",
       "      <td>2223.934164</td>\n",
       "    </tr>\n",
       "    <tr>\n",
       "      <th>2021-12-22</th>\n",
       "      <td>2366.100098</td>\n",
       "      <td>2049.746337</td>\n",
       "    </tr>\n",
       "    <tr>\n",
       "      <th>2021-12-23</th>\n",
       "      <td>2365.250000</td>\n",
       "      <td>2240.359687</td>\n",
       "    </tr>\n",
       "    <tr>\n",
       "      <th>2021-12-24</th>\n",
       "      <td>2372.800049</td>\n",
       "      <td>2076.587218</td>\n",
       "    </tr>\n",
       "    <tr>\n",
       "      <th>2021-12-27</th>\n",
       "      <td>2370.250000</td>\n",
       "      <td>2133.071325</td>\n",
       "    </tr>\n",
       "    <tr>\n",
       "      <th>2021-12-28</th>\n",
       "      <td>2398.399902</td>\n",
       "      <td>1979.691504</td>\n",
       "    </tr>\n",
       "    <tr>\n",
       "      <th>2021-12-29</th>\n",
       "      <td>2402.500000</td>\n",
       "      <td>2259.165506</td>\n",
       "    </tr>\n",
       "    <tr>\n",
       "      <th>2021-12-30</th>\n",
       "      <td>2359.100098</td>\n",
       "      <td>2086.417826</td>\n",
       "    </tr>\n",
       "    <tr>\n",
       "      <th>2021-12-31</th>\n",
       "      <td>2368.149902</td>\n",
       "      <td>2133.911239</td>\n",
       "    </tr>\n",
       "    <tr>\n",
       "      <th>2022-01-03</th>\n",
       "      <td>2403.850098</td>\n",
       "      <td>2199.020300</td>\n",
       "    </tr>\n",
       "    <tr>\n",
       "      <th>2022-01-04</th>\n",
       "      <td>2458.100098</td>\n",
       "      <td>2171.102317</td>\n",
       "    </tr>\n",
       "    <tr>\n",
       "      <th>2022-01-05</th>\n",
       "      <td>2469.600098</td>\n",
       "      <td>2198.700899</td>\n",
       "    </tr>\n",
       "    <tr>\n",
       "      <th>2022-01-06</th>\n",
       "      <td>2416.500000</td>\n",
       "      <td>2152.981519</td>\n",
       "    </tr>\n",
       "    <tr>\n",
       "      <th>2022-01-07</th>\n",
       "      <td>2436.000000</td>\n",
       "      <td>2306.912441</td>\n",
       "    </tr>\n",
       "  </tbody>\n",
       "</table>\n",
       "</div>"
      ],
      "text/plain": [
       "                Actual   Predicted\n",
       "Date                              \n",
       "2021-10-29 2536.250000 2125.337770\n",
       "2021-11-01 2537.800049 2155.724260\n",
       "2021-11-02 2500.800049 2083.381542\n",
       "2021-11-03 2483.600098 2130.880802\n",
       "2021-11-04 2498.850098 2322.497080\n",
       "2021-11-08 2501.949951 2148.816043\n",
       "2021-11-09 2521.699951 2118.588594\n",
       "2021-11-10 2549.899902 2108.187925\n",
       "2021-11-11 2554.550049 2097.087705\n",
       "2021-11-12 2593.100098 2112.735355\n",
       "2021-11-15 2577.800049 2216.917066\n",
       "2021-11-16 2517.899902 2132.789041\n",
       "2021-11-17 2464.000000 2185.234147\n",
       "2021-11-18 2473.300049 2067.660978\n",
       "2021-11-22 2363.750000 2123.465385\n",
       "2021-11-23 2385.850098 2120.489746\n",
       "2021-11-24 2351.399902 2162.947348\n",
       "2021-11-25 2492.949951 2186.072338\n",
       "2021-11-26 2412.600098 2496.064529\n",
       "2021-11-29 2441.500000 2108.388992\n",
       "2021-11-30 2405.399902 2413.699727\n",
       "2021-12-01 2467.000000 2126.059850\n",
       "2021-12-02 2482.850098 2156.562901\n",
       "2021-12-03 2408.250000 2095.952231\n",
       "2021-12-06 2362.600098 2127.186061\n",
       "2021-12-07 2381.850098 2494.568532\n",
       "2021-12-08 2418.100098 2120.697605\n",
       "2021-12-09 2456.449951 2120.362055\n",
       "2021-12-10 2458.949951 2389.510648\n",
       "2021-12-13 2409.649902 2112.737656\n",
       "2021-12-14 2380.149902 2066.813215\n",
       "2021-12-15 2373.199951 2080.412760\n",
       "2021-12-16 2403.899902 2141.107071\n",
       "2021-12-17 2340.449951 2198.345468\n",
       "2021-12-20 2277.350098 2068.001753\n",
       "2021-12-21 2311.250000 2223.934164\n",
       "2021-12-22 2366.100098 2049.746337\n",
       "2021-12-23 2365.250000 2240.359687\n",
       "2021-12-24 2372.800049 2076.587218\n",
       "2021-12-27 2370.250000 2133.071325\n",
       "2021-12-28 2398.399902 1979.691504\n",
       "2021-12-29 2402.500000 2259.165506\n",
       "2021-12-30 2359.100098 2086.417826\n",
       "2021-12-31 2368.149902 2133.911239\n",
       "2022-01-03 2403.850098 2199.020300\n",
       "2022-01-04 2458.100098 2171.102317\n",
       "2022-01-05 2469.600098 2198.700899\n",
       "2022-01-06 2416.500000 2152.981519\n",
       "2022-01-07 2436.000000 2306.912441"
      ]
     },
     "execution_count": 75,
     "metadata": {},
     "output_type": "execute_result"
    }
   ],
   "source": [
    "df_pred=pd.DataFrame({'Actual':Y_test_data['Adj Close'], 'Predicted':y_prediction})\n",
    "df_pred"
   ]
  },
  {
   "cell_type": "code",
   "execution_count": 58,
   "id": "e5ec10be",
   "metadata": {
    "scrolled": true
   },
   "outputs": [
    {
     "name": "stdout",
     "output_type": "stream",
     "text": [
      "Mean Absolute Error: 397.64136635375627\n",
      "Mean Squared Error: 175453.05542013832\n",
      "Root Mean Squared Error: 418.87116804590204\n"
     ]
    }
   ],
   "source": [
    "from sklearn import metrics\n",
    "print('Mean Absolute Error:', metrics.mean_absolute_error(Y_test_data['Adj Close'], y_pred))\n",
    "print('Mean Squared Error:', metrics.mean_squared_error(Y_test_data['Adj Close'], y_pred))\n",
    "print('Root Mean Squared Error:', np.sqrt(metrics.mean_squared_error(Y_test_data['Adj Close'], y_pred)))"
   ]
  },
  {
   "cell_type": "code",
   "execution_count": 81,
   "id": "db0468cc",
   "metadata": {},
   "outputs": [
    {
     "data": {
      "text/html": [
       "<div>\n",
       "<style scoped>\n",
       "    .dataframe tbody tr th:only-of-type {\n",
       "        vertical-align: middle;\n",
       "    }\n",
       "\n",
       "    .dataframe tbody tr th {\n",
       "        vertical-align: top;\n",
       "    }\n",
       "\n",
       "    .dataframe thead th {\n",
       "        text-align: right;\n",
       "    }\n",
       "</style>\n",
       "<table border=\"1\" class=\"dataframe\">\n",
       "  <thead>\n",
       "    <tr style=\"text-align: right;\">\n",
       "      <th></th>\n",
       "      <th>Actual</th>\n",
       "      <th>Arima</th>\n",
       "      <th>RF</th>\n",
       "    </tr>\n",
       "    <tr>\n",
       "      <th>Date</th>\n",
       "      <th></th>\n",
       "      <th></th>\n",
       "      <th></th>\n",
       "    </tr>\n",
       "  </thead>\n",
       "  <tbody>\n",
       "    <tr>\n",
       "      <th>2021-10-29</th>\n",
       "      <td>2536.250000</td>\n",
       "      <td>2598.698624</td>\n",
       "      <td>2125.337770</td>\n",
       "    </tr>\n",
       "    <tr>\n",
       "      <th>2021-11-01</th>\n",
       "      <td>2537.800049</td>\n",
       "      <td>2602.347591</td>\n",
       "      <td>2155.724260</td>\n",
       "    </tr>\n",
       "    <tr>\n",
       "      <th>2021-11-02</th>\n",
       "      <td>2500.800049</td>\n",
       "      <td>2605.996559</td>\n",
       "      <td>2083.381542</td>\n",
       "    </tr>\n",
       "    <tr>\n",
       "      <th>2021-11-03</th>\n",
       "      <td>2483.600098</td>\n",
       "      <td>2609.645526</td>\n",
       "      <td>2130.880802</td>\n",
       "    </tr>\n",
       "    <tr>\n",
       "      <th>2021-11-04</th>\n",
       "      <td>2498.850098</td>\n",
       "      <td>2613.294494</td>\n",
       "      <td>2322.497080</td>\n",
       "    </tr>\n",
       "    <tr>\n",
       "      <th>2021-11-08</th>\n",
       "      <td>2501.949951</td>\n",
       "      <td>2616.943461</td>\n",
       "      <td>2148.816043</td>\n",
       "    </tr>\n",
       "    <tr>\n",
       "      <th>2021-11-09</th>\n",
       "      <td>2521.699951</td>\n",
       "      <td>2620.592429</td>\n",
       "      <td>2118.588594</td>\n",
       "    </tr>\n",
       "    <tr>\n",
       "      <th>2021-11-10</th>\n",
       "      <td>2549.899902</td>\n",
       "      <td>2624.241396</td>\n",
       "      <td>2108.187925</td>\n",
       "    </tr>\n",
       "    <tr>\n",
       "      <th>2021-11-11</th>\n",
       "      <td>2554.550049</td>\n",
       "      <td>2627.890363</td>\n",
       "      <td>2097.087705</td>\n",
       "    </tr>\n",
       "    <tr>\n",
       "      <th>2021-11-12</th>\n",
       "      <td>2593.100098</td>\n",
       "      <td>2631.539331</td>\n",
       "      <td>2112.735355</td>\n",
       "    </tr>\n",
       "    <tr>\n",
       "      <th>2021-11-15</th>\n",
       "      <td>2577.800049</td>\n",
       "      <td>2635.188298</td>\n",
       "      <td>2216.917066</td>\n",
       "    </tr>\n",
       "    <tr>\n",
       "      <th>2021-11-16</th>\n",
       "      <td>2517.899902</td>\n",
       "      <td>2638.837266</td>\n",
       "      <td>2132.789041</td>\n",
       "    </tr>\n",
       "    <tr>\n",
       "      <th>2021-11-17</th>\n",
       "      <td>2464.000000</td>\n",
       "      <td>2642.486233</td>\n",
       "      <td>2185.234147</td>\n",
       "    </tr>\n",
       "    <tr>\n",
       "      <th>2021-11-18</th>\n",
       "      <td>2473.300049</td>\n",
       "      <td>2646.135201</td>\n",
       "      <td>2067.660978</td>\n",
       "    </tr>\n",
       "    <tr>\n",
       "      <th>2021-11-22</th>\n",
       "      <td>2363.750000</td>\n",
       "      <td>2649.784168</td>\n",
       "      <td>2123.465385</td>\n",
       "    </tr>\n",
       "    <tr>\n",
       "      <th>2021-11-23</th>\n",
       "      <td>2385.850098</td>\n",
       "      <td>2653.433136</td>\n",
       "      <td>2120.489746</td>\n",
       "    </tr>\n",
       "    <tr>\n",
       "      <th>2021-11-24</th>\n",
       "      <td>2351.399902</td>\n",
       "      <td>2657.082103</td>\n",
       "      <td>2162.947348</td>\n",
       "    </tr>\n",
       "    <tr>\n",
       "      <th>2021-11-25</th>\n",
       "      <td>2492.949951</td>\n",
       "      <td>2660.731071</td>\n",
       "      <td>2186.072338</td>\n",
       "    </tr>\n",
       "    <tr>\n",
       "      <th>2021-11-26</th>\n",
       "      <td>2412.600098</td>\n",
       "      <td>2664.380038</td>\n",
       "      <td>2496.064529</td>\n",
       "    </tr>\n",
       "    <tr>\n",
       "      <th>2021-11-29</th>\n",
       "      <td>2441.500000</td>\n",
       "      <td>2668.029005</td>\n",
       "      <td>2108.388992</td>\n",
       "    </tr>\n",
       "    <tr>\n",
       "      <th>2021-11-30</th>\n",
       "      <td>2405.399902</td>\n",
       "      <td>2671.677973</td>\n",
       "      <td>2413.699727</td>\n",
       "    </tr>\n",
       "    <tr>\n",
       "      <th>2021-12-01</th>\n",
       "      <td>2467.000000</td>\n",
       "      <td>2675.326940</td>\n",
       "      <td>2126.059850</td>\n",
       "    </tr>\n",
       "    <tr>\n",
       "      <th>2021-12-02</th>\n",
       "      <td>2482.850098</td>\n",
       "      <td>2678.975908</td>\n",
       "      <td>2156.562901</td>\n",
       "    </tr>\n",
       "    <tr>\n",
       "      <th>2021-12-03</th>\n",
       "      <td>2408.250000</td>\n",
       "      <td>2682.624875</td>\n",
       "      <td>2095.952231</td>\n",
       "    </tr>\n",
       "    <tr>\n",
       "      <th>2021-12-06</th>\n",
       "      <td>2362.600098</td>\n",
       "      <td>2686.273843</td>\n",
       "      <td>2127.186061</td>\n",
       "    </tr>\n",
       "    <tr>\n",
       "      <th>2021-12-07</th>\n",
       "      <td>2381.850098</td>\n",
       "      <td>2689.922810</td>\n",
       "      <td>2494.568532</td>\n",
       "    </tr>\n",
       "    <tr>\n",
       "      <th>2021-12-08</th>\n",
       "      <td>2418.100098</td>\n",
       "      <td>2693.571778</td>\n",
       "      <td>2120.697605</td>\n",
       "    </tr>\n",
       "    <tr>\n",
       "      <th>2021-12-09</th>\n",
       "      <td>2456.449951</td>\n",
       "      <td>2697.220745</td>\n",
       "      <td>2120.362055</td>\n",
       "    </tr>\n",
       "    <tr>\n",
       "      <th>2021-12-10</th>\n",
       "      <td>2458.949951</td>\n",
       "      <td>2700.869713</td>\n",
       "      <td>2389.510648</td>\n",
       "    </tr>\n",
       "    <tr>\n",
       "      <th>2021-12-13</th>\n",
       "      <td>2409.649902</td>\n",
       "      <td>2704.518680</td>\n",
       "      <td>2112.737656</td>\n",
       "    </tr>\n",
       "    <tr>\n",
       "      <th>2021-12-14</th>\n",
       "      <td>2380.149902</td>\n",
       "      <td>2708.167648</td>\n",
       "      <td>2066.813215</td>\n",
       "    </tr>\n",
       "    <tr>\n",
       "      <th>2021-12-15</th>\n",
       "      <td>2373.199951</td>\n",
       "      <td>2711.816615</td>\n",
       "      <td>2080.412760</td>\n",
       "    </tr>\n",
       "    <tr>\n",
       "      <th>2021-12-16</th>\n",
       "      <td>2403.899902</td>\n",
       "      <td>2715.465582</td>\n",
       "      <td>2141.107071</td>\n",
       "    </tr>\n",
       "    <tr>\n",
       "      <th>2021-12-17</th>\n",
       "      <td>2340.449951</td>\n",
       "      <td>2719.114550</td>\n",
       "      <td>2198.345468</td>\n",
       "    </tr>\n",
       "    <tr>\n",
       "      <th>2021-12-20</th>\n",
       "      <td>2277.350098</td>\n",
       "      <td>2722.763517</td>\n",
       "      <td>2068.001753</td>\n",
       "    </tr>\n",
       "    <tr>\n",
       "      <th>2021-12-21</th>\n",
       "      <td>2311.250000</td>\n",
       "      <td>2726.412485</td>\n",
       "      <td>2223.934164</td>\n",
       "    </tr>\n",
       "    <tr>\n",
       "      <th>2021-12-22</th>\n",
       "      <td>2366.100098</td>\n",
       "      <td>2730.061452</td>\n",
       "      <td>2049.746337</td>\n",
       "    </tr>\n",
       "    <tr>\n",
       "      <th>2021-12-23</th>\n",
       "      <td>2365.250000</td>\n",
       "      <td>2733.710420</td>\n",
       "      <td>2240.359687</td>\n",
       "    </tr>\n",
       "    <tr>\n",
       "      <th>2021-12-24</th>\n",
       "      <td>2372.800049</td>\n",
       "      <td>2737.359387</td>\n",
       "      <td>2076.587218</td>\n",
       "    </tr>\n",
       "    <tr>\n",
       "      <th>2021-12-27</th>\n",
       "      <td>2370.250000</td>\n",
       "      <td>2741.008355</td>\n",
       "      <td>2133.071325</td>\n",
       "    </tr>\n",
       "    <tr>\n",
       "      <th>2021-12-28</th>\n",
       "      <td>2398.399902</td>\n",
       "      <td>2744.657322</td>\n",
       "      <td>1979.691504</td>\n",
       "    </tr>\n",
       "    <tr>\n",
       "      <th>2021-12-29</th>\n",
       "      <td>2402.500000</td>\n",
       "      <td>2748.306290</td>\n",
       "      <td>2259.165506</td>\n",
       "    </tr>\n",
       "    <tr>\n",
       "      <th>2021-12-30</th>\n",
       "      <td>2359.100098</td>\n",
       "      <td>2751.955257</td>\n",
       "      <td>2086.417826</td>\n",
       "    </tr>\n",
       "    <tr>\n",
       "      <th>2021-12-31</th>\n",
       "      <td>2368.149902</td>\n",
       "      <td>2755.604225</td>\n",
       "      <td>2133.911239</td>\n",
       "    </tr>\n",
       "    <tr>\n",
       "      <th>2022-01-03</th>\n",
       "      <td>2403.850098</td>\n",
       "      <td>2759.253192</td>\n",
       "      <td>2199.020300</td>\n",
       "    </tr>\n",
       "    <tr>\n",
       "      <th>2022-01-04</th>\n",
       "      <td>2458.100098</td>\n",
       "      <td>2762.902159</td>\n",
       "      <td>2171.102317</td>\n",
       "    </tr>\n",
       "    <tr>\n",
       "      <th>2022-01-05</th>\n",
       "      <td>2469.600098</td>\n",
       "      <td>2766.551127</td>\n",
       "      <td>2198.700899</td>\n",
       "    </tr>\n",
       "    <tr>\n",
       "      <th>2022-01-06</th>\n",
       "      <td>2416.500000</td>\n",
       "      <td>2770.200094</td>\n",
       "      <td>2152.981519</td>\n",
       "    </tr>\n",
       "    <tr>\n",
       "      <th>2022-01-07</th>\n",
       "      <td>2436.000000</td>\n",
       "      <td>2773.849062</td>\n",
       "      <td>2306.912441</td>\n",
       "    </tr>\n",
       "  </tbody>\n",
       "</table>\n",
       "</div>"
      ],
      "text/plain": [
       "                Actual       Arima          RF\n",
       "Date                                          \n",
       "2021-10-29 2536.250000 2598.698624 2125.337770\n",
       "2021-11-01 2537.800049 2602.347591 2155.724260\n",
       "2021-11-02 2500.800049 2605.996559 2083.381542\n",
       "2021-11-03 2483.600098 2609.645526 2130.880802\n",
       "2021-11-04 2498.850098 2613.294494 2322.497080\n",
       "2021-11-08 2501.949951 2616.943461 2148.816043\n",
       "2021-11-09 2521.699951 2620.592429 2118.588594\n",
       "2021-11-10 2549.899902 2624.241396 2108.187925\n",
       "2021-11-11 2554.550049 2627.890363 2097.087705\n",
       "2021-11-12 2593.100098 2631.539331 2112.735355\n",
       "2021-11-15 2577.800049 2635.188298 2216.917066\n",
       "2021-11-16 2517.899902 2638.837266 2132.789041\n",
       "2021-11-17 2464.000000 2642.486233 2185.234147\n",
       "2021-11-18 2473.300049 2646.135201 2067.660978\n",
       "2021-11-22 2363.750000 2649.784168 2123.465385\n",
       "2021-11-23 2385.850098 2653.433136 2120.489746\n",
       "2021-11-24 2351.399902 2657.082103 2162.947348\n",
       "2021-11-25 2492.949951 2660.731071 2186.072338\n",
       "2021-11-26 2412.600098 2664.380038 2496.064529\n",
       "2021-11-29 2441.500000 2668.029005 2108.388992\n",
       "2021-11-30 2405.399902 2671.677973 2413.699727\n",
       "2021-12-01 2467.000000 2675.326940 2126.059850\n",
       "2021-12-02 2482.850098 2678.975908 2156.562901\n",
       "2021-12-03 2408.250000 2682.624875 2095.952231\n",
       "2021-12-06 2362.600098 2686.273843 2127.186061\n",
       "2021-12-07 2381.850098 2689.922810 2494.568532\n",
       "2021-12-08 2418.100098 2693.571778 2120.697605\n",
       "2021-12-09 2456.449951 2697.220745 2120.362055\n",
       "2021-12-10 2458.949951 2700.869713 2389.510648\n",
       "2021-12-13 2409.649902 2704.518680 2112.737656\n",
       "2021-12-14 2380.149902 2708.167648 2066.813215\n",
       "2021-12-15 2373.199951 2711.816615 2080.412760\n",
       "2021-12-16 2403.899902 2715.465582 2141.107071\n",
       "2021-12-17 2340.449951 2719.114550 2198.345468\n",
       "2021-12-20 2277.350098 2722.763517 2068.001753\n",
       "2021-12-21 2311.250000 2726.412485 2223.934164\n",
       "2021-12-22 2366.100098 2730.061452 2049.746337\n",
       "2021-12-23 2365.250000 2733.710420 2240.359687\n",
       "2021-12-24 2372.800049 2737.359387 2076.587218\n",
       "2021-12-27 2370.250000 2741.008355 2133.071325\n",
       "2021-12-28 2398.399902 2744.657322 1979.691504\n",
       "2021-12-29 2402.500000 2748.306290 2259.165506\n",
       "2021-12-30 2359.100098 2751.955257 2086.417826\n",
       "2021-12-31 2368.149902 2755.604225 2133.911239\n",
       "2022-01-03 2403.850098 2759.253192 2199.020300\n",
       "2022-01-04 2458.100098 2762.902159 2171.102317\n",
       "2022-01-05 2469.600098 2766.551127 2198.700899\n",
       "2022-01-06 2416.500000 2770.200094 2152.981519\n",
       "2022-01-07 2436.000000 2773.849062 2306.912441"
      ]
     },
     "execution_count": 81,
     "metadata": {},
     "output_type": "execute_result"
    }
   ],
   "source": [
    "NewDFHybrid=pd.DataFrame()\n",
    "NewDFHybrid[\"Actual\"]=Y_test_data['Adj Close']\n",
    "NewDFHybrid[\"Arima\"]=y_pred[\"ARIMA Model Prediction\"]\n",
    "NewDFHybrid[\"RF\"]=df_pred['Predicted']\n",
    "NewDFHybrid"
   ]
  },
  {
   "cell_type": "code",
   "execution_count": 84,
   "id": "ae59b75f",
   "metadata": {},
   "outputs": [],
   "source": [
    "def FinalPrediction(ratio,NewDFHybrid):\n",
    "    PredFinal=(1-ratio)*NewDFHybrid['Arima']+(ratio)*NewDFHybrid['RF']\n",
    "    return PredFinal"
   ]
  },
  {
   "cell_type": "code",
   "execution_count": 87,
   "id": "f68c7a9a",
   "metadata": {},
   "outputs": [
    {
     "data": {
      "image/png": "[encoded data removed]",
      "text/plain": [
       "<Figure size 432x288 with 1 Axes>"
      ]
     },
     "metadata": {
      "needs_background": "light"
     },
     "output_type": "display_data"
    }
   ],
   "source": [
    "ratio_list=[.70,.80,.84,.85,.86,.87,.88,.90,.92]\n",
    "list=[]\n",
    "for ratio in ratio_list:\n",
    "    PredFinal=FinalPrediction(ratio,NewDFHybrid)\n",
    "    list.append(np.sqrt(mean_squared_error(Y_test_data,PredFinal)))\n",
    "plt.plot(ratio_list,list)\n",
    "plt.show()"
   ]
  },
  {
   "cell_type": "code",
   "execution_count": 97,
   "id": "465b7bd0",
   "metadata": {},
   "outputs": [
    {
     "name": "stdout",
     "output_type": "stream",
     "text": [
      "123.5998435416298\n"
     ]
    }
   ],
   "source": [
    "PredFinal=FinalPrediction(0.60,NewDFHybrid)\n",
    "print(np.sqrt(mean_squared_error(Y_test_data,PredFinal)))"
   ]
  },
  {
   "cell_type": "code",
   "execution_count": 98,
   "id": "c22a1e26",
   "metadata": {},
   "outputs": [
    {
     "name": "stdout",
     "output_type": "stream",
     "text": [
      "100.0108230859953\n"
     ]
    }
   ],
   "source": [
    "print(mean_absolute_error(Y_test_data,PredFinal))"
   ]
  },
  {
   "cell_type": "code",
   "execution_count": 99,
   "id": "435e4367",
   "metadata": {},
   "outputs": [
    {
     "data": {
      "text/plain": [
       "<matplotlib.legend.Legend at 0x20cda5fddf0>"
      ]
     },
     "execution_count": 99,
     "metadata": {},
     "output_type": "execute_result"
    },
    {
     "data": {
      "image/png": "[encoded data removed]",
      "text/plain": [
       "<Figure size 864x504 with 1 Axes>"
      ]
     },
     "metadata": {
      "needs_background": "light"
     },
     "output_type": "display_data"
    }
   ],
   "source": [
    "#Plotting the final Hybrid Model\n",
    "plt.figure(figsize=(12,7))\n",
    "plt.plot(y_train, 'green', color='blue', label='Training Data')\n",
    "plt.plot(y_test.index[:],Y_test_data, color='red', label='Actual Price')\n",
    "plt.plot(y_test.index[:], PredFinal, color='green', label='Predicted Price')\n",
    "plt.title('Reliance Price Prediction:Final Hybrid model')\n",
    "plt.xlabel('Dates')\n",
    "plt.ylabel('Adj Prices')\n",
    "plt.legend()"
   ]
  },
  {
   "cell_type": "code",
   "execution_count": 103,
   "id": "dcaec7a0",
   "metadata": {},
   "outputs": [],
   "source": [
    "# load saved model\n",
    "with open('model_arima_pkl' , 'rb') as f:\n",
    "    m_ar = pickle.load(f)"
   ]
  },
  {
   "cell_type": "code",
   "execution_count": 105,
   "id": "07e79624",
   "metadata": {},
   "outputs": [
    {
     "data": {
      "text/plain": [
       "array([2598.69862374])"
      ]
     },
     "execution_count": 105,
     "metadata": {},
     "output_type": "execute_result"
    }
   ],
   "source": [
    "m_ar.predict(1)"
   ]
  },
  {
   "cell_type": "code",
   "execution_count": 106,
   "id": "b493df9c",
   "metadata": {},
   "outputs": [],
   "source": [
    "# load saved model\n",
    "with open('rfc_pkl' , 'rb') as f:\n",
    "    rfc_mod = pickle.load(f)"
   ]
  },
  {
   "cell_type": "code",
   "execution_count": 107,
   "id": "277fc57d",
   "metadata": {},
   "outputs": [
    {
     "data": {
      "text/plain": [
       "array([2015.90345144])"
      ]
     },
     "execution_count": 107,
     "metadata": {},
     "output_type": "execute_result"
    }
   ],
   "source": [
    "rfc_mod.predict([[0.056000,0.101000]])"
   ]
  },
  {
   "cell_type": "code",
   "execution_count": 108,
   "id": "7b4b26ae",
   "metadata": {},
   "outputs": [
    {
     "data": {
      "text/plain": [
       "array([2249.02152036])"
      ]
     },
     "execution_count": 108,
     "metadata": {},
     "output_type": "execute_result"
    }
   ],
   "source": [
    "actual=0.60*rfc_mod.predict([[0.056000,0.101000]])+(1-0.60)*m_ar.predict(1)\n",
    "actual"
   ]
  },
  {
   "cell_type": "code",
   "execution_count": null,
   "id": "d8de9f8d",
   "metadata": {},
   "outputs": [],
   "source": []
  }
 ],
 "metadata": {
  "kernelspec": {
   "display_name": "Python 3",
   "language": "python",
   "name": "python3"
  },
  "language_info": {
   "codemirror_mode": {
    "name": "ipython",
    "version": 3
   },
   "file_extension": ".py",
   "mimetype": "text/x-python",
   "name": "python",
   "nbconvert_exporter": "python",
   "pygments_lexer": "ipython3",
   "version": "3.8.8"
  }
 },
 "nbformat": 4,
 "nbformat_minor": 5
}
